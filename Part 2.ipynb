{
 "cells": [
  {
   "cell_type": "code",
   "execution_count": 1,
   "id": "66dcde05",
   "metadata": {},
   "outputs": [],
   "source": [
    "# all import statements needed for the project, for example:\n",
    "import math\n",
    "import bs4\n",
    "import requests\n",
    "import sqlalchemy as db\n",
    "import pandas as pd \n",
    "import numpy as np\n",
    "import datetime as dt\n",
    "import statsmodels.api as sm #统计\n",
    "from statsmodels.tsa.stattools import adfuller #ADF检验\n",
    "import matplotlib as mpl #画图\n",
    "import matplotlib.pyplot as plt\n",
    "mpl.rcParams['font.family']='serif'\n",
    "plt.style.use('seaborn') \n",
    "import os #地址\n",
    "os.chdir('/Users/yw/Desktop/4501 Project') "
   ]
  },
  {
   "cell_type": "code",
   "execution_count": 2,
   "id": "8b622a58",
   "metadata": {},
   "outputs": [],
   "source": [
    "# any general notebook setup, like log formatting"
   ]
  },
  {
   "cell_type": "code",
   "execution_count": 3,
   "id": "3f1242c4",
   "metadata": {},
   "outputs": [],
   "source": [
    "# any constants you might need, for example:\n",
    "\n",
    "TAXI_URL = \"https://www1.nyc.gov/site/tlc/about/tlc-trip-record-data.page\"\n",
    "# add other constants to refer to any local data, e.g. uber & weather\n",
    "UBER_CSV = \"uber_rides_sample.csv\"\n",
    "\n",
    "NEW_YORK_BOX_COORDS = ((40.560445, -74.242330), (40.908524, -73.717047))\n",
    "\n",
    "DATABASE_URL = \"sqlite:///project.db\"\n",
    "DATABASE_SCHEMA_FILE = \"schema.sql\"\n",
    "QUERY_DIRECTORY = \"queries\""
   ]
  },
  {
   "cell_type": "markdown",
   "id": "dd101f11",
   "metadata": {},
   "source": [
    "## Part 2: Storing Cleaned Data\n",
    "\n",
    "1. use SQLAlchemy, create a SQLite database to load in preprocessed datasets;\n",
    "2. create and populate 4 tables: one for sampled datasets of Yellow Taxi trips, one for Uber trips, one for hourly weather information, and one for daily weather information. \n",
    "3. create a schema.sql file that defines each table’s schema. "
   ]
  },
  {
   "cell_type": "code",
   "execution_count": 185,
   "id": "5a0ffe88",
   "metadata": {},
   "outputs": [],
   "source": [
    "engine = db.create_engine(DATABASE_URL)"
   ]
  },
  {
   "cell_type": "code",
   "execution_count": 186,
   "id": "f10cb6fb",
   "metadata": {},
   "outputs": [],
   "source": [
    "HOURLY_WEATHER_SCHEMA = \"\"\"\n",
    "CREATE TABLE IF NOT EXISTS hourly_weather (\n",
    "    id INTEGER PRIMARY KEY,\n",
    "    date TEXT,\n",
    "    dailysustainedwindspeed FLOAT,\n",
    "    hourlyprecipitation FLOAT\n",
    ");\n",
    "\"\"\"\n",
    "\n",
    "DAILY_WEATHER_SCHEMA = \"\"\"\n",
    "CREATE TABLE IF NOT EXISTS daily_weather (\n",
    "    id INTEGER PRIMARY KEY,\n",
    "    date TEXT,\n",
    "    dailyaveragewindspeed FLOAT,\n",
    "    dailypeakwindspeed FLOAT\n",
    ");\n",
    "\"\"\"\n",
    "\n",
    "TAXI_TRIPS_SCHEMA = \"\"\"\n",
    "CREATE TABLE IF NOT EXISTS taxi (\n",
    "    id INTEGER PRIMARY KEY,\n",
    "    pickup_datetime TEXT,\n",
    "    dropoff_datetime TEXT,\n",
    "    month INTEGER,\n",
    "    pickup_latitude FLOAT, \n",
    "    pickup_longitude FLOAT,\n",
    "    dropoff_latitude FLOAT,\n",
    "    dropoff_longitude FLOAT,\n",
    "    distance FLOAT,\n",
    "    tip FLOAT,\n",
    "    passenger_count INTEGER\n",
    ");\n",
    "\"\"\"\n",
    "\n",
    "UBER_TRIPS_SCHEMA = \"\"\"\n",
    "CREATE TABLE IF NOT EXISTS uber (\n",
    "    id INTEGER PRIMARY KEY,\n",
    "    fare_amount FLOAT,\n",
    "    pickup_datetime TEXT,\n",
    "    pickup_longitude FLOAT,\n",
    "    pickup_latitude FLOAT,  \n",
    "    dropoff_longitude FLOAT,\n",
    "    dropoff_latitude FLOAT,\n",
    "    passenger_count INTEGER,\n",
    "    date TEXT,\n",
    "    week INTEGER,\n",
    "    distance FLOAT\n",
    ");\n",
    "\"\"\"\n",
    " "
   ]
  },
  {
   "cell_type": "code",
   "execution_count": 187,
   "id": "5f41e54b",
   "metadata": {},
   "outputs": [],
   "source": [
    "# create that required schema.sql file\n",
    "with open(DATABASE_SCHEMA_FILE, \"w\") as f:\n",
    "    f.write(HOURLY_WEATHER_SCHEMA)\n",
    "    f.write(DAILY_WEATHER_SCHEMA)\n",
    "    f.write(TAXI_TRIPS_SCHEMA)\n",
    "    f.write(UBER_TRIPS_SCHEMA)"
   ]
  },
  {
   "cell_type": "code",
   "execution_count": 188,
   "id": "02eccdba",
   "metadata": {},
   "outputs": [],
   "source": [
    "# create the tables with the schema files\n",
    "with engine.connect() as connection:\n",
    "    connection.execute(HOURLY_WEATHER_SCHEMA)\n",
    "    connection.execute(DAILY_WEATHER_SCHEMA)\n",
    "    connection.execute(TAXI_TRIPS_SCHEMA)\n",
    "    connection.execute(UBER_TRIPS_SCHEMA)"
   ]
  },
  {
   "cell_type": "markdown",
   "id": "c122964f",
   "metadata": {},
   "source": [
    "### Add Data to Database\n",
    "\n",
    "1. define function to insert data from dataframe to SQL database\n",
    "2. use dictionary to store data and data name\n",
    "3. add data to database"
   ]
  },
  {
   "cell_type": "code",
   "execution_count": 189,
   "id": "0e68a363",
   "metadata": {},
   "outputs": [],
   "source": [
    "def write_dataframes_to_table(table_to_df_dict):\n",
    "    for k,v in map_table_name_to_dataframe.items():\n",
    "        v.to_sql(k,con=engine,if_exists='append',index_label='id')\n",
    "    #hour.to_sql('hourly_weather',con=engine,if_exists='append',index_label='id')\n",
    "    #daily.to_sql('daily_weather',con=engine,if_exists='append',index_label='id')\n",
    "    #uber_data.to_sql('uber',con=engine,if_exists='append',index_label='id')   "
   ]
  },
  {
   "cell_type": "code",
   "execution_count": 190,
   "id": "45d6c06c",
   "metadata": {},
   "outputs": [],
   "source": [
    "map_table_name_to_dataframe = {\n",
    "    \"taxi\": taxi_data,\n",
    "    \"uber\": uber_data,\n",
    "    \"hourly_weather\": hour,\n",
    "    \"daily_weather\": daily,\n",
    "}"
   ]
  },
  {
   "cell_type": "code",
   "execution_count": 191,
   "id": "74004f96",
   "metadata": {},
   "outputs": [],
   "source": [
    "write_dataframes_to_table(map_table_name_to_dataframe)"
   ]
  },
  {
   "cell_type": "markdown",
   "id": "8cb6e33e",
   "metadata": {},
   "source": [
    "## Part 3: Understanding the Data"
   ]
  },
  {
   "cell_type": "markdown",
   "id": "b4753fcd",
   "metadata": {},
   "source": [
    "_A checklist of requirements to keep you on track. Remove this whole cell before submitting the project. The order of these tasks aren't necessarily the order in which they need to be done. It's okay to do them in an order that makes sense to you._\n",
    "\n",
    "* [ ] For 01-2009 through 06-2015, what hour of the day was the most popular to take a yellow taxi? The result should have 24 bins.\n",
    "* [√] For the same time frame, what day of the week was the most popular to take an uber? The result should have 7 bins.\n",
    "* [√] What is the 95% percentile of distance traveled for all hired trips during July 2013?\n",
    "* [ ] What were the top 10 days with the highest number of hired rides for 2009, and what was the average distance for each day?\n",
    "* [√] Which 10 days in 2014 were the windiest, and how many hired trips were made on those days?\n",
    "* [ ] During Hurricane Sandy in NYC (Oct 29-30, 2012) and the week leading up to it, how many trips were taken each hour, and for each hour, how much precipitation did NYC receive and what was the sustained wind speed?"
   ]
  },
  {
   "cell_type": "code",
   "execution_count": 192,
   "id": "6a849e92",
   "metadata": {},
   "outputs": [],
   "source": [
    "def write_query_to_file(query, outfile):\n",
    "    with open(outfile, 'w') as file:\n",
    "        file.write(query)"
   ]
  },
  {
   "cell_type": "markdown",
   "id": "ee70a777",
   "metadata": {},
   "source": [
    "### Query N\n",
    "\n",
    "1. define a SQL query for each of the following questions - one query per question. \n",
    "2. Save each query as a .sql file, naming it something illustrative of what the query is for, e.g. top_10_hottest_days.sql."
   ]
  },
  {
   "cell_type": "markdown",
   "id": "91a24ae7",
   "metadata": {},
   "source": [
    "$Question \\ 2$\n",
    "\n",
    "$\\text{From 01-2009 to 06-2015, what day of the week was the most popular to take an uber? The result should have 7 bins.}$"
   ]
  },
  {
   "cell_type": "code",
   "execution_count": 193,
   "id": "c5275f3a",
   "metadata": {},
   "outputs": [],
   "source": [
    "QUERY_2 = \"\"\"\n",
    "SELECT week, COUNT(week) FROM (SELECT DISTINCT week,date FROM uber\n",
    "WHERE date BETWEEN \"2009-01-01\" AND \"2015-07-01\" )\n",
    "GROUP BY week\n",
    "ORDER BY COUNT(week) DESC\n",
    "\"\"\""
   ]
  },
  {
   "cell_type": "code",
   "execution_count": 194,
   "id": "c660b72d",
   "metadata": {},
   "outputs": [
    {
     "data": {
      "text/plain": [
       "[(7, 339), (6, 339), (5, 339), (4, 339), (2, 339), (1, 339), (3, 338)]"
      ]
     },
     "execution_count": 194,
     "metadata": {},
     "output_type": "execute_result"
    }
   ],
   "source": [
    "engine.execute(QUERY_2).fetchall()"
   ]
  },
  {
   "cell_type": "code",
   "execution_count": 195,
   "id": "a2ef04df",
   "metadata": {},
   "outputs": [],
   "source": [
    "write_query_to_file(QUERY_2, \"popular_day_of_week_uber.sql\")"
   ]
  },
  {
   "cell_type": "markdown",
   "id": "c480a072",
   "metadata": {},
   "source": [
    "$ Question \\ 3$\n",
    "\n",
    "$\\text{What is the 95% percentile of distance traveled for all hired trips during July 2013?}$"
   ]
  },
  {
   "cell_type": "code",
   "execution_count": 196,
   "id": "d98e991c",
   "metadata": {},
   "outputs": [],
   "source": [
    "QUERY_3=\"\"\"\n",
    "WITH two AS \n",
    "(SELECT pickup_datetime,distance FROM uber\n",
    "WHERE \"2013-06-30T00:00\"< pickup_datetime AND pickup_datetime < '2013-07-31T00:00:00'\n",
    "UNION ALL\n",
    "SELECT pickup_datetime,distance FROM taxi\n",
    "WHERE \"2013-06-30T00:00\"<pickup_datetime AND pickup_datetime < '2013-07-31T00:00:00')\n",
    "\n",
    "SELECT distance AS '95%distance'FROM two\n",
    "ORDER BY distance \n",
    "LIMIT 1\n",
    "OFFSET (SELECT COUNT(*)\n",
    "        FROM two) * 95 / 100 - 1 ;\n",
    "\"\"\""
   ]
  },
  {
   "cell_type": "code",
   "execution_count": 197,
   "id": "2961d60b",
   "metadata": {},
   "outputs": [
    {
     "data": {
      "text/plain": [
       "[(10.234680206341519,)]"
      ]
     },
     "execution_count": 197,
     "metadata": {},
     "output_type": "execute_result"
    }
   ],
   "source": [
    "engine.execute(QUERY_3).fetchall()"
   ]
  },
  {
   "cell_type": "code",
   "execution_count": 198,
   "id": "baad0b80",
   "metadata": {},
   "outputs": [],
   "source": [
    "write_query_to_file(QUERY_3, \"95%percentile_distance.sql\")"
   ]
  },
  {
   "cell_type": "markdown",
   "id": "82b89144",
   "metadata": {},
   "source": [
    "$Question \\ 5$\n",
    "\n",
    "$\\text{Which 10 days in 2014 were the windiest, and how many hired trips were made on those days?}$"
   ]
  },
  {
   "cell_type": "code",
   "execution_count": 201,
   "id": "99d06ac4",
   "metadata": {},
   "outputs": [],
   "source": [
    "#peak wind speed\n",
    "QUERY_5 = \"\"\"\n",
    "WITH ride AS\n",
    "(SELECT DATE(pickup_datetime) AS date, count(pickup_datetime) AS count from (SELECT pickup_datetime FROM uber\n",
    "WHERE \"2013-12-31T00:00\"< pickup_datetime AND pickup_datetime < '2014-12-31T00:00:00'\n",
    "UNION ALL\n",
    "SELECT pickup_datetime FROM taxi\n",
    "WHERE \"2013-12-31T00:00\"<pickup_datetime AND pickup_datetime < '2014-12-31T00:00:00')\n",
    "GROUP BY DATE(pickup_datetime))\n",
    "\n",
    "SELECT * FROM(SELECT DATE(daily_weather.date) AS date, daily_weather.dailyaveragewindspeed, \n",
    "daily_weather.dailypeakwindspeed, ride.count\n",
    "FROM daily_weather \n",
    "LEFT OUTER JOIN ride \n",
    "ON DATE(daily_weather.date)=DATE(ride.date)\n",
    "ORDER BY daily_weather.dailypeakwindspeed DESC\n",
    "LIMIT 10\n",
    ")\n",
    "\"\"\""
   ]
  },
  {
   "cell_type": "code",
   "execution_count": 202,
   "id": "9a0b9ceb",
   "metadata": {},
   "outputs": [
    {
     "data": {
      "text/plain": [
       "[('2014-03-13', 14.1, 40.0, 106),\n",
       " ('2014-12-07', 11.8, 40.0, 73),\n",
       " ('2014-02-13', 12.6, 39.0, 63),\n",
       " ('2014-02-27', 8.4, 39.0, 102),\n",
       " ('2014-01-07', 13.1, 38.0, 77),\n",
       " ('2014-02-14', 10.4, 38.0, 71),\n",
       " ('2014-03-26', 11.9, 38.0, 96),\n",
       " ('2014-04-05', 8.4, 36.0, 92),\n",
       " ('2014-04-23', 9.4, 36.0, 75),\n",
       " ('2014-11-02', 10.8, 36.0, 80)]"
      ]
     },
     "execution_count": 202,
     "metadata": {},
     "output_type": "execute_result"
    }
   ],
   "source": [
    "engine.execute(QUERY_5).fetchall()"
   ]
  },
  {
   "cell_type": "code",
   "execution_count": 203,
   "id": "b6cc2eaa",
   "metadata": {},
   "outputs": [],
   "source": [
    "#average wind speed\n",
    "QUERY_5 = \"\"\"\n",
    "WITH ride AS\n",
    "(SELECT DATE(pickup_datetime) AS date, count(pickup_datetime) AS count from (SELECT pickup_datetime FROM uber\n",
    "WHERE \"2013-12-31T00:00\"< pickup_datetime AND pickup_datetime < '2014-12-31T00:00:00'\n",
    "UNION ALL\n",
    "SELECT pickup_datetime FROM taxi\n",
    "WHERE \"2013-12-31T00:00\"<pickup_datetime AND pickup_datetime < '2014-12-31T00:00:00')\n",
    "GROUP BY DATE(pickup_datetime))\n",
    "\n",
    "SELECT * FROM(SELECT DATE(daily_weather.date) AS date, daily_weather.dailyaveragewindspeed, \n",
    "daily_weather.dailypeakwindspeed, ride.count\n",
    "FROM daily_weather \n",
    "LEFT OUTER JOIN ride \n",
    "ON DATE(daily_weather.date)=DATE(ride.date)\n",
    "ORDER BY daily_weather.dailyaveragewindspeed DESC\n",
    "LIMIT 10\n",
    ")\n",
    "\"\"\""
   ]
  },
  {
   "cell_type": "code",
   "execution_count": 204,
   "id": "72b2caf0",
   "metadata": {},
   "outputs": [
    {
     "data": {
      "text/plain": [
       "[('2014-03-13', 14.1, 40.0, 106),\n",
       " ('2014-01-07', 13.1, 38.0, 77),\n",
       " ('2014-02-13', 12.6, 39.0, 63),\n",
       " ('2014-01-02', 12.2, 28.0, 63),\n",
       " ('2014-03-26', 11.9, 38.0, 96),\n",
       " ('2014-12-07', 11.8, 40.0, 73),\n",
       " ('2014-12-08', 11.5, 29.0, 77),\n",
       " ('2014-03-29', 10.8, 35.0, 107),\n",
       " ('2014-11-02', 10.8, 36.0, 80),\n",
       " ('2014-01-03', 10.4, 29.0, 41)]"
      ]
     },
     "execution_count": 204,
     "metadata": {},
     "output_type": "execute_result"
    }
   ],
   "source": [
    "engine.execute(QUERY_5).fetchall()"
   ]
  },
  {
   "cell_type": "code",
   "execution_count": 205,
   "id": "4779542b",
   "metadata": {},
   "outputs": [],
   "source": [
    "write_query_to_file(QUERY_5, \"top10_windest_hiredtrips.sql\")"
   ]
  }
 ],
 "metadata": {
  "kernelspec": {
   "display_name": "Python 3 (ipykernel)",
   "language": "python",
   "name": "python3"
  },
  "language_info": {
   "codemirror_mode": {
    "name": "ipython",
    "version": 3
   },
   "file_extension": ".py",
   "mimetype": "text/x-python",
   "name": "python",
   "nbconvert_exporter": "python",
   "pygments_lexer": "ipython3",
   "version": "3.9.13"
  }
 },
 "nbformat": 4,
 "nbformat_minor": 5
}
