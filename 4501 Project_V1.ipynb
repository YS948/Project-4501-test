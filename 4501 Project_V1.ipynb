{
 "cells": [
  {
   "cell_type": "markdown",
   "id": "2f75fd94",
   "metadata": {},
   "source": [
    "## Project Setup"
   ]
  },
  {
   "cell_type": "code",
   "execution_count": 14,
   "id": "66dcde05",
   "metadata": {},
   "outputs": [],
   "source": [
    "# all import statements needed for the project, for example:\n",
    "import math\n",
    "import bs4\n",
    "import requests\n",
    "import sqlalchemy as db\n",
    "import pandas as pd \n",
    "import numpy as np\n",
    "import datetime as dt\n",
    "import matplotlib as mpl \n",
    "import matplotlib.pyplot as plt\n",
    "import os\n",
    "import pyarrow.parquet as pq\n",
    "import datetime\n",
    "import re\n",
    "from bs4 import BeautifulSoup\n",
    "import geopandas as gpd\n",
    "\n",
    "mpl.rcParams['font.family']='serif'\n",
    "plt.style.use('seaborn') \n",
    "import os \n",
    "os.chdir('/Users/yw/Desktop/4501 Project') "
   ]
  },
  {
   "cell_type": "code",
   "execution_count": 15,
   "id": "13c3418a",
   "metadata": {},
   "outputs": [],
   "source": [
    "TAXI_URL = \"https://www1.nyc.gov/site/tlc/about/tlc-trip-record-data.page\"\n",
    "# add other constants to refer to any local data, e.g. uber & weather\n",
    "UBER_CSV = \"uber_rides_sample.csv\"\n",
    "\n",
    "NEW_YORK_BOX_COORDS = ((40.560445, -74.242330), (40.908524, -73.717047))\n",
    "\n",
    "DATABASE_URL = \"sqlite:///project.db\"\n",
    "DATABASE_SCHEMA_FILE = \"schema.sql\"\n",
    "QUERY_DIRECTORY = \"queries\""
   ]
  },
  {
   "cell_type": "markdown",
   "id": "26ad10ea",
   "metadata": {},
   "source": [
    "## Part 1: Data Preprocessing"
   ]
  },
  {
   "attachments": {},
   "cell_type": "markdown",
   "id": "43891c48",
   "metadata": {},
   "source": [
    "### Processing Taxi Data\n",
    "\n",
    "_**TODO:** _\n",
    "\n",
    "√ 1. Scraping all Yello Taxi links from NYC Taxi record data site. \n",
    "\n",
    "√ 2. Programmatically download the Yellow Taxi trip data using links scrapped.\n",
    "\n",
    "√ 3. Ammendment on shapefile and get lat/lon from it for Yellow Taxi data that with location ID.\n",
    "\n",
    "√ 4. Removing trips that outside of the latitude/longitude coordinate box: (40.560445, -74.242330) and (40.908524, -73.717047).\n",
    "\n",
    "√ 5. Rename the data to generate a whole set of data for all years.\n",
    "\n",
    "√ 6. Select necessary columns of Yellow Taxi data that needed.\n",
    "\n",
    "√ 7. Sampling the data of every month of every years to generate a sample dataset of Yellow Taxi that’s roughly equal to the sample size of the Uber dataset. \n",
    "\n"
   ]
  },
  {
   "cell_type": "code",
   "execution_count": 16,
   "id": "8add1486",
   "metadata": {},
   "outputs": [],
   "source": [
    "def find_taxi_pq_urls():# The function to scrape all links of Yellow Taxi data\n",
    "    response = requests.get(TAXI_URL)\n",
    "    if response.status_code == 200:\n",
    "        print(\"Success\")\n",
    "        results_page = BeautifulSoup(response.content,'lxml')\n",
    "        results_page\n",
    "        lists = results_page.find('div',{\"class\":\"faq-v1\"})\n",
    "        \n",
    "        a=lists.find_all('div',{\"class\":\"faq-answers\"})\n",
    "        #print(a)\n",
    "        trip_datalist=[]\n",
    "        for item in a:\n",
    "            #print(item)\n",
    "            h=item.find_all('a',{\"title\":\"Yellow Taxi Trip Records\"})\n",
    "            for link in h:\n",
    "                #print(link.get(\"href\"))\n",
    "                trip_datalist.append(link.get(\"href\"))\n",
    "        return trip_datalist # Return a list of all links of Yellow Taxi data\n",
    "    else:\n",
    "        print(\"Failure\")    "
   ]
  },
  {
   "cell_type": "code",
   "execution_count": 17,
   "id": "53542af9",
   "metadata": {},
   "outputs": [],
   "source": [
    "shapefile = gpd.read_file(\"taxi_zones.shp\")\n",
    "shapefile=shapefile.to_crs(4326)# reproject the geodataframe to a geographic CRS\n",
    "\n",
    "shapefile[\"lon\"]=shapefile[\"geometry\"].apply(lambda m: m.centroid.x) # Generate the latitude for every zone\n",
    "shapefile[\"lat\"]= shapefile[\"geometry\"].apply(lambda m: m.centroid.y)# Generate the longitud for every zone\n",
    "xx=pd.DataFrame(shapefile)\n",
    "xx.at[56,\"LocationID\"]=57  #Correct the misspell\n",
    "xx.at[103,\"LocationID\"]=104\n",
    "xx.at[104,\"LocationID\"]=105"
   ]
  },
  {
   "cell_type": "code",
   "execution_count": 18,
   "id": "0f06b83c",
   "metadata": {},
   "outputs": [],
   "source": [
    "def download(url: str, dest_folder: str): # The function to execute download for all links and save the data file to folder\n",
    "    if not os.path.exists(dest_folder):\n",
    "        os.makedirs(dest_folder)  # create folder if it does not exist\n",
    "\n",
    "    filename = url.split('/')[-1].replace(\" \", \"_\")  # be careful with file names\n",
    "    file_path = os.path.join(dest_folder, filename)\n",
    "    r = requests.get(url, stream=True)\n",
    "    if r.ok:\n",
    "        print(\"saving to\", os.path.abspath(file_path))\n",
    "        with open(file_path, 'wb') as f:\n",
    "            for chunk in r.iter_content(chunk_size=1024 * 8):\n",
    "                if chunk:\n",
    "                    f.write(chunk)\n",
    "                    f.flush()\n",
    "                    os.fsync(f.fileno())\n",
    "    else:  # HTTP status code 4XX/5XX\n",
    "        print(\"Download failed: status code {}\\n{}\".format(r.status_code, r.text))\n",
    "    return file_path,filename # Return the filepath and filename for all file downloaded"
   ]
  },
  {
   "cell_type": "code",
   "execution_count": 19,
   "id": "1bbf6da1",
   "metadata": {},
   "outputs": [],
   "source": [
    "def get_lat_lon_from_ID(locID,shapefile): # The function to search location ID in shapefile and get the lat/lon back\n",
    "    if locID in range(1,264): # for valid zones in NY\n",
    "        sp=pd.DataFrame(shapefile)\n",
    "        lat= sp[sp[\"LocationID\"]==locID][\"lat\"].values[0] # Unpack the result\n",
    "        lon= sp[sp[\"LocationID\"]==locID][\"lon\"].values[0] # Unpack the result\n",
    "    else:\n",
    "        lat= None\n",
    "        lon= None\n",
    "    return lat,lon # Return latitude and longitude"
   ]
  },
  {
   "cell_type": "code",
   "execution_count": 20,
   "id": "5dd9578e",
   "metadata": {},
   "outputs": [],
   "source": [
    "def set_lat_lon(origin_data,filename): # This function is to set latitude and longitude for Yellow Taxi data that contain location ID instead of specific lat/lon value\n",
    "    origin_data=pd.DataFrame(origin_data)\n",
    "    if \"PULocationID\" in origin_data.columns:\n",
    "        try:\n",
    "            origin_data[\"PU_lat\"]=origin_data[\"PULocationID\"].apply(lambda x: get_lat_lon_from_ID(x,shapefile)[0]) # Call the funciton get_lat_lon_from_ID() and set values\n",
    "            origin_data[\"PU_lon\"]=origin_data[\"PULocationID\"].apply(lambda x: get_lat_lon_from_ID(x,shapefile)[1]) # Call the funciton get_lat_lon_from_ID() and set values\n",
    "            origin_data[\"DO_lat\"]=origin_data[\"DOLocationID\"].apply(lambda x: get_lat_lon_from_ID(x,shapefile)[0]) # Call the funciton get_lat_lon_from_ID() and set values\n",
    "            origin_data[\"DO_lon\"]=origin_data[\"DOLocationID\"].apply(lambda x: get_lat_lon_from_ID(x,shapefile)[1]) # Call the funciton get_lat_lon_from_ID() and set values\n",
    "        except:\n",
    "            origin_data[\"PU_lat\"]=origin_data[\"PU_lon\"]=origin_data[\"DO_lat\"]=origin_data[\"DO_lon\"]=0 # For invalid location ID, set the vaalue to 0. This will be removed later on\n",
    "        return origin_data\n",
    "    else:\n",
    "        return origin_data"
   ]
  },
  {
   "cell_type": "code",
   "execution_count": 21,
   "id": "9d3efc3c",
   "metadata": {},
   "outputs": [],
   "source": [
    "def rename_datetime(cleaned_data): # This function is to rename specific data. The 2009-2010 Yellow Taxi data have inconsistent naming pattern with the rest of data \n",
    "    if \"vendor_name\" in cleaned_data.columns: \n",
    "        cleaned_data = cleaned_data.rename({'Passenger_Count':'passenger_count','Trip_Distance':'trip_distance','Trip_Pickup_DateTime': 'tpep_pickup_datetime', 'Trip_Dropoff_DateTime': 'tpep_dropoff_datetime','Start_Lat':'PU_lat','Start_Lon':'PU_lon','End_Lat':'DO_lat','End_Lon':'DO_lon','Tip_Amt':'tip_amount','vendor_name': 'VendorID','store_and_forward':'store_and_fwd_flag','Rate_Code':'RatecodeID','Fare_Amt':'fare_amount','Total_Amt':'total_amount'}, axis='columns')\n",
    "    if \"vendor_id\" in cleaned_data.columns:\n",
    "        cleaned_data = cleaned_data.rename({'pickup_datetime': 'tpep_pickup_datetime', 'dropoff_datetime': 'tpep_dropoff_datetime','pickup_latitude':'PU_lat','pickup_longitude':'PU_lon','dropoff_latitude':'DO_lat','dropoff_longitude':'DO_lon','rate_code':'RatecodeID','vendor_id': 'VendorID'}, axis='columns')\n",
    "    return cleaned_data # Now all the data have roughly the same naming pattern\n"
   ]
  },
  {
   "cell_type": "code",
   "execution_count": 22,
   "id": "58efa0e7",
   "metadata": {},
   "outputs": [],
   "source": [
    "def clean_data(renamed_data): # This function is to clean the data, remove invalid data that is out of the coordinate box\n",
    "    origin_data=renamed_data\n",
    "    origin_data = origin_data.reset_index()\n",
    "    if \"PU_lat\" in origin_data.columns: # Actually already renamed, all data have this PU_lat column\n",
    "        remove_list=[]\n",
    "        for i in range(len(origin_data)):\n",
    "            if not((NEW_YORK_BOX_COORDS[0][0] <=origin_data.iloc[i][\"PU_lat\"]<= NEW_YORK_BOX_COORDS[1][0]) and (NEW_YORK_BOX_COORDS[0][1]<=origin_data.iloc[i][\"PU_lon\"]<= NEW_YORK_BOX_COORDS[1][1]) and (NEW_YORK_BOX_COORDS[0][0] <=origin_data.iloc[i][\"DO_lat\"]<= NEW_YORK_BOX_COORDS[1][0]) and (NEW_YORK_BOX_COORDS[0][1]<=origin_data.iloc[i][\"DO_lon\"]<=NEW_YORK_BOX_COORDS[1][1])):\n",
    "                #print(\"OUT\",i,origin_data.iloc[i][\"PU_lat\"],origin_data.iloc[i][\"PU_lon\"])\n",
    "                remove_list.append(i) # add the index of invalid data to remove_list\n",
    "                #print(\"remove\",i)\n",
    "            else:\n",
    "                continue # maintain the valid data\n",
    "        origin_data=origin_data.drop(remove_list,axis=0)\n",
    "        \n",
    "        return origin_data\n",
    "    else:\n",
    "        print(\"--Wrong--\")"
   ]
  },
  {
   "cell_type": "code",
   "execution_count": 23,
   "id": "eec8d49b",
   "metadata": {},
   "outputs": [],
   "source": [
    "def set_months(renamed_data): # Generate columns of time value\n",
    "    renamed_data[\"year\"]=renamed_data[\"tpep_pickup_datetime\"].apply(lambda x: datetime.datetime.strptime(str(x), \"%Y-%m-%d %H:%M:%S\").year )\n",
    "    renamed_data[\"month\"]=renamed_data[\"tpep_pickup_datetime\"].apply(lambda x: datetime.datetime.strptime(str(x), \"%Y-%m-%d %H:%M:%S\").month )\n",
    "    renamed_data[\"day\"]=renamed_data[\"tpep_pickup_datetime\"].apply(lambda x: datetime.datetime.strptime(str(x), \"%Y-%m-%d %H:%M:%S\").day )\n",
    "    renamed_data[\"hour\"]=renamed_data[\"tpep_pickup_datetime\"].apply(lambda x: datetime.datetime.strptime(str(x), \"%Y-%m-%d %H:%M:%S\").hour )\n",
    "    \n",
    "    return renamed_data"
   ]
  },
  {
   "cell_type": "code",
   "execution_count": 24,
   "id": "9b5db845",
   "metadata": {},
   "outputs": [],
   "source": [
    "def select_columns(taxi_data): # Only select necessary columns that needed.\n",
    "    taxi_data = taxi_data.rename({'tpep_pickup_datetime': 'pickup_datetime', 'tpep_dropoff_datetime': 'dropoff_datetime','PU_lat':'pickup_latitude','PU_lon':'pickup_longitude','DO_lat':'dropoff_latitude','DO_lon':'dropoff_longitude','trip_distance':'distance','tip_amount':'tip'}, axis='columns')\n",
    "    final = taxi_data[['year','month','hour','pickup_datetime','dropoff_datetime','pickup_latitude','pickup_longitude','dropoff_latitude','dropoff_longitude','distance','tip','passenger_count']]\n",
    "    final.reset_index(drop=True, inplace=True)\n",
    "    #print(final)\n",
    "    return final # Return selected columns of data"
   ]
  },
  {
   "cell_type": "code",
   "execution_count": 25,
   "id": "d5bbc055",
   "metadata": {},
   "outputs": [],
   "source": [
    "def get_and_clean_taxi_data(): # The main function to get cleaned Yellow Taxi data, calling all the sub function defined above\n",
    "    all_taxi_dataframes = []\n",
    "    all_pq_urls = find_taxi_pq_urls() # Get all urls\n",
    "    for pq_url in all_pq_urls:\n",
    "        print(pq_url)\n",
    "        file_path, filename = download(pq_url,\"OriginalTaxiData\") # Download the parquet files and get filepath and filename for each parquet file\n",
    "        print(file_path,filename)\n",
    "        yearly_data = pd.read_parquet(file_path, engine='auto').sample(n=1250) # Read the parquet file and sampling from monthly data \n",
    "        lat_lon_data = set_lat_lon(yearly_data,filename) # Get latitude and longitude for Yellow Taxi data that contain location ID instead of specific lat/lon value\n",
    "        renamed_data = rename_datetime(lat_lon_data) # Rename the data to have consistent naming pattern\n",
    "        cleaned_data = clean_data(renamed_data) # Remove invalid data\n",
    "        clean_month_taxi_data = set_months(cleaned_data) # Extract and set columns for year/month/day/hour value \n",
    "        selected_data = select_columns(clean_month_taxi_data) # Only select necessary columns\n",
    "        n=filename+\".csv\" # Set download file path\n",
    "        selected_data.to_csv(n) # Save the monthly cleand Yellow Taxi data\n",
    "        all_taxi_dataframes.append(clean_month_taxi_data) # Append monthly data to all_taxi_dataframe list in order to generate whole dataset\n",
    "    taxi_data = pd.concat(all_taxi_dataframes) # Generate the dataset that contains Yellow Taxi data of all years/months\n",
    "    selected_columns_taxi_data = select_columns(taxi_data) # # Only select necessary columns\n",
    "    return selected_columns_taxi_data"
   ]
  },
  {
   "cell_type": "code",
   "execution_count": 26,
   "id": "714619eb",
   "metadata": {},
   "outputs": [
    {
     "name": "stdout",
     "output_type": "stream",
     "text": [
      "Success\n",
      "https://d37ci6vzurychx.cloudfront.net/trip-data/yellow_tripdata_2022-01.parquet\n",
      "saving to /Users/yw/Desktop/4501 Project/OriginalTaxiData/yellow_tripdata_2022-01.parquet\n",
      "OriginalTaxiData/yellow_tripdata_2022-01.parquet yellow_tripdata_2022-01.parquet\n",
      "https://d37ci6vzurychx.cloudfront.net/trip-data/yellow_tripdata_2022-02.parquet\n",
      "saving to /Users/yw/Desktop/4501 Project/OriginalTaxiData/yellow_tripdata_2022-02.parquet\n",
      "OriginalTaxiData/yellow_tripdata_2022-02.parquet yellow_tripdata_2022-02.parquet\n",
      "https://d37ci6vzurychx.cloudfront.net/trip-data/yellow_tripdata_2022-03.parquet\n",
      "saving to /Users/yw/Desktop/4501 Project/OriginalTaxiData/yellow_tripdata_2022-03.parquet\n",
      "OriginalTaxiData/yellow_tripdata_2022-03.parquet yellow_tripdata_2022-03.parquet\n",
      "https://d37ci6vzurychx.cloudfront.net/trip-data/yellow_tripdata_2022-04.parquet\n",
      "saving to /Users/yw/Desktop/4501 Project/OriginalTaxiData/yellow_tripdata_2022-04.parquet\n",
      "OriginalTaxiData/yellow_tripdata_2022-04.parquet yellow_tripdata_2022-04.parquet\n",
      "https://d37ci6vzurychx.cloudfront.net/trip-data/yellow_tripdata_2022-05.parquet\n",
      "saving to /Users/yw/Desktop/4501 Project/OriginalTaxiData/yellow_tripdata_2022-05.parquet\n",
      "OriginalTaxiData/yellow_tripdata_2022-05.parquet yellow_tripdata_2022-05.parquet\n",
      "https://d37ci6vzurychx.cloudfront.net/trip-data/yellow_tripdata_2022-06.parquet\n",
      "saving to /Users/yw/Desktop/4501 Project/OriginalTaxiData/yellow_tripdata_2022-06.parquet\n",
      "OriginalTaxiData/yellow_tripdata_2022-06.parquet yellow_tripdata_2022-06.parquet\n",
      "https://d37ci6vzurychx.cloudfront.net/trip-data/yellow_tripdata_2022-07.parquet\n",
      "saving to /Users/yw/Desktop/4501 Project/OriginalTaxiData/yellow_tripdata_2022-07.parquet\n",
      "OriginalTaxiData/yellow_tripdata_2022-07.parquet yellow_tripdata_2022-07.parquet\n",
      "https://d37ci6vzurychx.cloudfront.net/trip-data/yellow_tripdata_2022-08.parquet\n",
      "saving to /Users/yw/Desktop/4501 Project/OriginalTaxiData/yellow_tripdata_2022-08.parquet\n",
      "OriginalTaxiData/yellow_tripdata_2022-08.parquet yellow_tripdata_2022-08.parquet\n",
      "https://d37ci6vzurychx.cloudfront.net/trip-data/yellow_tripdata_2022-09.parquet\n",
      "saving to /Users/yw/Desktop/4501 Project/OriginalTaxiData/yellow_tripdata_2022-09.parquet\n",
      "OriginalTaxiData/yellow_tripdata_2022-09.parquet yellow_tripdata_2022-09.parquet\n",
      "https://d37ci6vzurychx.cloudfront.net/trip-data/yellow_tripdata_2021-01.parquet\n",
      "saving to /Users/yw/Desktop/4501 Project/OriginalTaxiData/yellow_tripdata_2021-01.parquet\n",
      "OriginalTaxiData/yellow_tripdata_2021-01.parquet yellow_tripdata_2021-01.parquet\n",
      "https://d37ci6vzurychx.cloudfront.net/trip-data/yellow_tripdata_2021-02.parquet\n",
      "saving to /Users/yw/Desktop/4501 Project/OriginalTaxiData/yellow_tripdata_2021-02.parquet\n",
      "OriginalTaxiData/yellow_tripdata_2021-02.parquet yellow_tripdata_2021-02.parquet\n",
      "https://d37ci6vzurychx.cloudfront.net/trip-data/yellow_tripdata_2021-03.parquet\n",
      "saving to /Users/yw/Desktop/4501 Project/OriginalTaxiData/yellow_tripdata_2021-03.parquet\n",
      "OriginalTaxiData/yellow_tripdata_2021-03.parquet yellow_tripdata_2021-03.parquet\n",
      "https://d37ci6vzurychx.cloudfront.net/trip-data/yellow_tripdata_2021-04.parquet\n",
      "saving to /Users/yw/Desktop/4501 Project/OriginalTaxiData/yellow_tripdata_2021-04.parquet\n",
      "OriginalTaxiData/yellow_tripdata_2021-04.parquet yellow_tripdata_2021-04.parquet\n",
      "https://d37ci6vzurychx.cloudfront.net/trip-data/yellow_tripdata_2021-05.parquet\n",
      "saving to /Users/yw/Desktop/4501 Project/OriginalTaxiData/yellow_tripdata_2021-05.parquet\n",
      "OriginalTaxiData/yellow_tripdata_2021-05.parquet yellow_tripdata_2021-05.parquet\n",
      "https://d37ci6vzurychx.cloudfront.net/trip-data/yellow_tripdata_2021-06.parquet\n",
      "saving to /Users/yw/Desktop/4501 Project/OriginalTaxiData/yellow_tripdata_2021-06.parquet\n",
      "OriginalTaxiData/yellow_tripdata_2021-06.parquet yellow_tripdata_2021-06.parquet\n",
      "https://d37ci6vzurychx.cloudfront.net/trip-data/yellow_tripdata_2021-07.parquet\n",
      "saving to /Users/yw/Desktop/4501 Project/OriginalTaxiData/yellow_tripdata_2021-07.parquet\n",
      "OriginalTaxiData/yellow_tripdata_2021-07.parquet yellow_tripdata_2021-07.parquet\n",
      "https://d37ci6vzurychx.cloudfront.net/trip-data/yellow_tripdata_2021-08.parquet\n",
      "saving to /Users/yw/Desktop/4501 Project/OriginalTaxiData/yellow_tripdata_2021-08.parquet\n",
      "OriginalTaxiData/yellow_tripdata_2021-08.parquet yellow_tripdata_2021-08.parquet\n",
      "https://d37ci6vzurychx.cloudfront.net/trip-data/yellow_tripdata_2021-09.parquet\n",
      "saving to /Users/yw/Desktop/4501 Project/OriginalTaxiData/yellow_tripdata_2021-09.parquet\n",
      "OriginalTaxiData/yellow_tripdata_2021-09.parquet yellow_tripdata_2021-09.parquet\n",
      "https://d37ci6vzurychx.cloudfront.net/trip-data/yellow_tripdata_2021-10.parquet\n",
      "saving to /Users/yw/Desktop/4501 Project/OriginalTaxiData/yellow_tripdata_2021-10.parquet\n",
      "OriginalTaxiData/yellow_tripdata_2021-10.parquet yellow_tripdata_2021-10.parquet\n",
      "https://d37ci6vzurychx.cloudfront.net/trip-data/yellow_tripdata_2021-11.parquet\n",
      "saving to /Users/yw/Desktop/4501 Project/OriginalTaxiData/yellow_tripdata_2021-11.parquet\n",
      "OriginalTaxiData/yellow_tripdata_2021-11.parquet yellow_tripdata_2021-11.parquet\n",
      "https://d37ci6vzurychx.cloudfront.net/trip-data/yellow_tripdata_2021-12.parquet\n",
      "saving to /Users/yw/Desktop/4501 Project/OriginalTaxiData/yellow_tripdata_2021-12.parquet\n",
      "OriginalTaxiData/yellow_tripdata_2021-12.parquet yellow_tripdata_2021-12.parquet\n",
      "https://d37ci6vzurychx.cloudfront.net/trip-data/yellow_tripdata_2020-01.parquet\n",
      "saving to /Users/yw/Desktop/4501 Project/OriginalTaxiData/yellow_tripdata_2020-01.parquet\n",
      "OriginalTaxiData/yellow_tripdata_2020-01.parquet yellow_tripdata_2020-01.parquet\n",
      "https://d37ci6vzurychx.cloudfront.net/trip-data/yellow_tripdata_2020-02.parquet\n",
      "saving to /Users/yw/Desktop/4501 Project/OriginalTaxiData/yellow_tripdata_2020-02.parquet\n",
      "OriginalTaxiData/yellow_tripdata_2020-02.parquet yellow_tripdata_2020-02.parquet\n",
      "https://d37ci6vzurychx.cloudfront.net/trip-data/yellow_tripdata_2020-03.parquet\n",
      "saving to /Users/yw/Desktop/4501 Project/OriginalTaxiData/yellow_tripdata_2020-03.parquet\n",
      "OriginalTaxiData/yellow_tripdata_2020-03.parquet yellow_tripdata_2020-03.parquet\n",
      "https://d37ci6vzurychx.cloudfront.net/trip-data/yellow_tripdata_2020-04.parquet\n",
      "saving to /Users/yw/Desktop/4501 Project/OriginalTaxiData/yellow_tripdata_2020-04.parquet\n",
      "OriginalTaxiData/yellow_tripdata_2020-04.parquet yellow_tripdata_2020-04.parquet\n",
      "https://d37ci6vzurychx.cloudfront.net/trip-data/yellow_tripdata_2020-05.parquet\n",
      "saving to /Users/yw/Desktop/4501 Project/OriginalTaxiData/yellow_tripdata_2020-05.parquet\n",
      "OriginalTaxiData/yellow_tripdata_2020-05.parquet yellow_tripdata_2020-05.parquet\n",
      "https://d37ci6vzurychx.cloudfront.net/trip-data/yellow_tripdata_2020-06.parquet\n",
      "saving to /Users/yw/Desktop/4501 Project/OriginalTaxiData/yellow_tripdata_2020-06.parquet\n",
      "OriginalTaxiData/yellow_tripdata_2020-06.parquet yellow_tripdata_2020-06.parquet\n",
      "https://d37ci6vzurychx.cloudfront.net/trip-data/yellow_tripdata_2020-07.parquet\n",
      "saving to /Users/yw/Desktop/4501 Project/OriginalTaxiData/yellow_tripdata_2020-07.parquet\n",
      "OriginalTaxiData/yellow_tripdata_2020-07.parquet yellow_tripdata_2020-07.parquet\n",
      "https://d37ci6vzurychx.cloudfront.net/trip-data/yellow_tripdata_2020-08.parquet\n",
      "saving to /Users/yw/Desktop/4501 Project/OriginalTaxiData/yellow_tripdata_2020-08.parquet\n",
      "OriginalTaxiData/yellow_tripdata_2020-08.parquet yellow_tripdata_2020-08.parquet\n",
      "https://d37ci6vzurychx.cloudfront.net/trip-data/yellow_tripdata_2020-09.parquet\n",
      "saving to /Users/yw/Desktop/4501 Project/OriginalTaxiData/yellow_tripdata_2020-09.parquet\n",
      "OriginalTaxiData/yellow_tripdata_2020-09.parquet yellow_tripdata_2020-09.parquet\n",
      "https://d37ci6vzurychx.cloudfront.net/trip-data/yellow_tripdata_2020-10.parquet\n",
      "saving to /Users/yw/Desktop/4501 Project/OriginalTaxiData/yellow_tripdata_2020-10.parquet\n",
      "OriginalTaxiData/yellow_tripdata_2020-10.parquet yellow_tripdata_2020-10.parquet\n",
      "https://d37ci6vzurychx.cloudfront.net/trip-data/yellow_tripdata_2020-11.parquet\n",
      "saving to /Users/yw/Desktop/4501 Project/OriginalTaxiData/yellow_tripdata_2020-11.parquet\n",
      "OriginalTaxiData/yellow_tripdata_2020-11.parquet yellow_tripdata_2020-11.parquet\n",
      "https://d37ci6vzurychx.cloudfront.net/trip-data/yellow_tripdata_2020-12.parquet\n",
      "saving to /Users/yw/Desktop/4501 Project/OriginalTaxiData/yellow_tripdata_2020-12.parquet\n",
      "OriginalTaxiData/yellow_tripdata_2020-12.parquet yellow_tripdata_2020-12.parquet\n",
      "https://d37ci6vzurychx.cloudfront.net/trip-data/yellow_tripdata_2019-01.parquet\n",
      "saving to /Users/yw/Desktop/4501 Project/OriginalTaxiData/yellow_tripdata_2019-01.parquet\n",
      "OriginalTaxiData/yellow_tripdata_2019-01.parquet yellow_tripdata_2019-01.parquet\n",
      "https://d37ci6vzurychx.cloudfront.net/trip-data/yellow_tripdata_2019-02.parquet\n",
      "saving to /Users/yw/Desktop/4501 Project/OriginalTaxiData/yellow_tripdata_2019-02.parquet\n",
      "OriginalTaxiData/yellow_tripdata_2019-02.parquet yellow_tripdata_2019-02.parquet\n",
      "https://d37ci6vzurychx.cloudfront.net/trip-data/yellow_tripdata_2019-03.parquet\n",
      "saving to /Users/yw/Desktop/4501 Project/OriginalTaxiData/yellow_tripdata_2019-03.parquet\n",
      "OriginalTaxiData/yellow_tripdata_2019-03.parquet yellow_tripdata_2019-03.parquet\n",
      "https://d37ci6vzurychx.cloudfront.net/trip-data/yellow_tripdata_2019-04.parquet\n",
      "saving to /Users/yw/Desktop/4501 Project/OriginalTaxiData/yellow_tripdata_2019-04.parquet\n",
      "OriginalTaxiData/yellow_tripdata_2019-04.parquet yellow_tripdata_2019-04.parquet\n",
      "https://d37ci6vzurychx.cloudfront.net/trip-data/yellow_tripdata_2019-05.parquet\n",
      "saving to /Users/yw/Desktop/4501 Project/OriginalTaxiData/yellow_tripdata_2019-05.parquet\n",
      "OriginalTaxiData/yellow_tripdata_2019-05.parquet yellow_tripdata_2019-05.parquet\n",
      "https://d37ci6vzurychx.cloudfront.net/trip-data/yellow_tripdata_2019-06.parquet\n",
      "saving to /Users/yw/Desktop/4501 Project/OriginalTaxiData/yellow_tripdata_2019-06.parquet\n",
      "OriginalTaxiData/yellow_tripdata_2019-06.parquet yellow_tripdata_2019-06.parquet\n",
      "https://d37ci6vzurychx.cloudfront.net/trip-data/yellow_tripdata_2019-07.parquet\n",
      "saving to /Users/yw/Desktop/4501 Project/OriginalTaxiData/yellow_tripdata_2019-07.parquet\n",
      "OriginalTaxiData/yellow_tripdata_2019-07.parquet yellow_tripdata_2019-07.parquet\n",
      "https://d37ci6vzurychx.cloudfront.net/trip-data/yellow_tripdata_2019-08.parquet\n",
      "saving to /Users/yw/Desktop/4501 Project/OriginalTaxiData/yellow_tripdata_2019-08.parquet\n",
      "OriginalTaxiData/yellow_tripdata_2019-08.parquet yellow_tripdata_2019-08.parquet\n",
      "https://d37ci6vzurychx.cloudfront.net/trip-data/yellow_tripdata_2019-09.parquet\n",
      "saving to /Users/yw/Desktop/4501 Project/OriginalTaxiData/yellow_tripdata_2019-09.parquet\n",
      "OriginalTaxiData/yellow_tripdata_2019-09.parquet yellow_tripdata_2019-09.parquet\n",
      "https://d37ci6vzurychx.cloudfront.net/trip-data/yellow_tripdata_2019-10.parquet\n",
      "saving to /Users/yw/Desktop/4501 Project/OriginalTaxiData/yellow_tripdata_2019-10.parquet\n",
      "OriginalTaxiData/yellow_tripdata_2019-10.parquet yellow_tripdata_2019-10.parquet\n",
      "https://d37ci6vzurychx.cloudfront.net/trip-data/yellow_tripdata_2019-11.parquet\n",
      "saving to /Users/yw/Desktop/4501 Project/OriginalTaxiData/yellow_tripdata_2019-11.parquet\n",
      "OriginalTaxiData/yellow_tripdata_2019-11.parquet yellow_tripdata_2019-11.parquet\n",
      "https://d37ci6vzurychx.cloudfront.net/trip-data/yellow_tripdata_2019-12.parquet\n",
      "saving to /Users/yw/Desktop/4501 Project/OriginalTaxiData/yellow_tripdata_2019-12.parquet\n",
      "OriginalTaxiData/yellow_tripdata_2019-12.parquet yellow_tripdata_2019-12.parquet\n",
      "https://d37ci6vzurychx.cloudfront.net/trip-data/yellow_tripdata_2018-01.parquet\n",
      "saving to /Users/yw/Desktop/4501 Project/OriginalTaxiData/yellow_tripdata_2018-01.parquet\n",
      "OriginalTaxiData/yellow_tripdata_2018-01.parquet yellow_tripdata_2018-01.parquet\n",
      "https://d37ci6vzurychx.cloudfront.net/trip-data/yellow_tripdata_2018-02.parquet\n",
      "saving to /Users/yw/Desktop/4501 Project/OriginalTaxiData/yellow_tripdata_2018-02.parquet\n",
      "OriginalTaxiData/yellow_tripdata_2018-02.parquet yellow_tripdata_2018-02.parquet\n",
      "https://d37ci6vzurychx.cloudfront.net/trip-data/yellow_tripdata_2018-03.parquet\n",
      "saving to /Users/yw/Desktop/4501 Project/OriginalTaxiData/yellow_tripdata_2018-03.parquet\n",
      "OriginalTaxiData/yellow_tripdata_2018-03.parquet yellow_tripdata_2018-03.parquet\n",
      "https://d37ci6vzurychx.cloudfront.net/trip-data/yellow_tripdata_2018-04.parquet\n",
      "saving to /Users/yw/Desktop/4501 Project/OriginalTaxiData/yellow_tripdata_2018-04.parquet\n",
      "OriginalTaxiData/yellow_tripdata_2018-04.parquet yellow_tripdata_2018-04.parquet\n",
      "https://d37ci6vzurychx.cloudfront.net/trip-data/yellow_tripdata_2018-05.parquet\n",
      "saving to /Users/yw/Desktop/4501 Project/OriginalTaxiData/yellow_tripdata_2018-05.parquet\n",
      "OriginalTaxiData/yellow_tripdata_2018-05.parquet yellow_tripdata_2018-05.parquet\n",
      "https://d37ci6vzurychx.cloudfront.net/trip-data/yellow_tripdata_2018-06.parquet\n",
      "saving to /Users/yw/Desktop/4501 Project/OriginalTaxiData/yellow_tripdata_2018-06.parquet\n",
      "OriginalTaxiData/yellow_tripdata_2018-06.parquet yellow_tripdata_2018-06.parquet\n",
      "https://d37ci6vzurychx.cloudfront.net/trip-data/yellow_tripdata_2018-07.parquet\n",
      "saving to /Users/yw/Desktop/4501 Project/OriginalTaxiData/yellow_tripdata_2018-07.parquet\n",
      "OriginalTaxiData/yellow_tripdata_2018-07.parquet yellow_tripdata_2018-07.parquet\n",
      "https://d37ci6vzurychx.cloudfront.net/trip-data/yellow_tripdata_2018-08.parquet\n",
      "saving to /Users/yw/Desktop/4501 Project/OriginalTaxiData/yellow_tripdata_2018-08.parquet\n",
      "OriginalTaxiData/yellow_tripdata_2018-08.parquet yellow_tripdata_2018-08.parquet\n",
      "https://d37ci6vzurychx.cloudfront.net/trip-data/yellow_tripdata_2018-09.parquet\n",
      "saving to /Users/yw/Desktop/4501 Project/OriginalTaxiData/yellow_tripdata_2018-09.parquet\n",
      "OriginalTaxiData/yellow_tripdata_2018-09.parquet yellow_tripdata_2018-09.parquet\n",
      "https://d37ci6vzurychx.cloudfront.net/trip-data/yellow_tripdata_2018-10.parquet\n",
      "saving to /Users/yw/Desktop/4501 Project/OriginalTaxiData/yellow_tripdata_2018-10.parquet\n",
      "OriginalTaxiData/yellow_tripdata_2018-10.parquet yellow_tripdata_2018-10.parquet\n",
      "https://d37ci6vzurychx.cloudfront.net/trip-data/yellow_tripdata_2018-11.parquet\n",
      "saving to /Users/yw/Desktop/4501 Project/OriginalTaxiData/yellow_tripdata_2018-11.parquet\n",
      "OriginalTaxiData/yellow_tripdata_2018-11.parquet yellow_tripdata_2018-11.parquet\n",
      "https://d37ci6vzurychx.cloudfront.net/trip-data/yellow_tripdata_2018-12.parquet\n",
      "saving to /Users/yw/Desktop/4501 Project/OriginalTaxiData/yellow_tripdata_2018-12.parquet\n",
      "OriginalTaxiData/yellow_tripdata_2018-12.parquet yellow_tripdata_2018-12.parquet\n",
      "https://d37ci6vzurychx.cloudfront.net/trip-data/yellow_tripdata_2017-01.parquet\n",
      "saving to /Users/yw/Desktop/4501 Project/OriginalTaxiData/yellow_tripdata_2017-01.parquet\n",
      "OriginalTaxiData/yellow_tripdata_2017-01.parquet yellow_tripdata_2017-01.parquet\n",
      "https://d37ci6vzurychx.cloudfront.net/trip-data/yellow_tripdata_2017-02.parquet\n",
      "saving to /Users/yw/Desktop/4501 Project/OriginalTaxiData/yellow_tripdata_2017-02.parquet\n",
      "OriginalTaxiData/yellow_tripdata_2017-02.parquet yellow_tripdata_2017-02.parquet\n",
      "https://d37ci6vzurychx.cloudfront.net/trip-data/yellow_tripdata_2017-03.parquet\n",
      "saving to /Users/yw/Desktop/4501 Project/OriginalTaxiData/yellow_tripdata_2017-03.parquet\n",
      "OriginalTaxiData/yellow_tripdata_2017-03.parquet yellow_tripdata_2017-03.parquet\n",
      "https://d37ci6vzurychx.cloudfront.net/trip-data/yellow_tripdata_2017-04.parquet\n",
      "saving to /Users/yw/Desktop/4501 Project/OriginalTaxiData/yellow_tripdata_2017-04.parquet\n",
      "OriginalTaxiData/yellow_tripdata_2017-04.parquet yellow_tripdata_2017-04.parquet\n",
      "https://d37ci6vzurychx.cloudfront.net/trip-data/yellow_tripdata_2017-05.parquet\n",
      "saving to /Users/yw/Desktop/4501 Project/OriginalTaxiData/yellow_tripdata_2017-05.parquet\n",
      "OriginalTaxiData/yellow_tripdata_2017-05.parquet yellow_tripdata_2017-05.parquet\n",
      "https://d37ci6vzurychx.cloudfront.net/trip-data/yellow_tripdata_2017-06.parquet\n",
      "saving to /Users/yw/Desktop/4501 Project/OriginalTaxiData/yellow_tripdata_2017-06.parquet\n",
      "OriginalTaxiData/yellow_tripdata_2017-06.parquet yellow_tripdata_2017-06.parquet\n",
      "https://d37ci6vzurychx.cloudfront.net/trip-data/yellow_tripdata_2017-07.parquet\n",
      "saving to /Users/yw/Desktop/4501 Project/OriginalTaxiData/yellow_tripdata_2017-07.parquet\n",
      "OriginalTaxiData/yellow_tripdata_2017-07.parquet yellow_tripdata_2017-07.parquet\n",
      "https://d37ci6vzurychx.cloudfront.net/trip-data/yellow_tripdata_2017-08.parquet\n",
      "saving to /Users/yw/Desktop/4501 Project/OriginalTaxiData/yellow_tripdata_2017-08.parquet\n",
      "OriginalTaxiData/yellow_tripdata_2017-08.parquet yellow_tripdata_2017-08.parquet\n",
      "https://d37ci6vzurychx.cloudfront.net/trip-data/yellow_tripdata_2017-09.parquet\n",
      "saving to /Users/yw/Desktop/4501 Project/OriginalTaxiData/yellow_tripdata_2017-09.parquet\n",
      "OriginalTaxiData/yellow_tripdata_2017-09.parquet yellow_tripdata_2017-09.parquet\n",
      "https://d37ci6vzurychx.cloudfront.net/trip-data/yellow_tripdata_2017-10.parquet\n",
      "saving to /Users/yw/Desktop/4501 Project/OriginalTaxiData/yellow_tripdata_2017-10.parquet\n",
      "OriginalTaxiData/yellow_tripdata_2017-10.parquet yellow_tripdata_2017-10.parquet\n",
      "https://d37ci6vzurychx.cloudfront.net/trip-data/yellow_tripdata_2017-11.parquet\n",
      "saving to /Users/yw/Desktop/4501 Project/OriginalTaxiData/yellow_tripdata_2017-11.parquet\n",
      "OriginalTaxiData/yellow_tripdata_2017-11.parquet yellow_tripdata_2017-11.parquet\n",
      "https://d37ci6vzurychx.cloudfront.net/trip-data/yellow_tripdata_2017-12.parquet\n",
      "saving to /Users/yw/Desktop/4501 Project/OriginalTaxiData/yellow_tripdata_2017-12.parquet\n",
      "OriginalTaxiData/yellow_tripdata_2017-12.parquet yellow_tripdata_2017-12.parquet\n",
      "https://d37ci6vzurychx.cloudfront.net/trip-data/yellow_tripdata_2016-01.parquet\n",
      "saving to /Users/yw/Desktop/4501 Project/OriginalTaxiData/yellow_tripdata_2016-01.parquet\n",
      "OriginalTaxiData/yellow_tripdata_2016-01.parquet yellow_tripdata_2016-01.parquet\n",
      "https://d37ci6vzurychx.cloudfront.net/trip-data/yellow_tripdata_2016-02.parquet\n",
      "saving to /Users/yw/Desktop/4501 Project/OriginalTaxiData/yellow_tripdata_2016-02.parquet\n",
      "OriginalTaxiData/yellow_tripdata_2016-02.parquet yellow_tripdata_2016-02.parquet\n",
      "https://d37ci6vzurychx.cloudfront.net/trip-data/yellow_tripdata_2016-03.parquet\n",
      "saving to /Users/yw/Desktop/4501 Project/OriginalTaxiData/yellow_tripdata_2016-03.parquet\n",
      "OriginalTaxiData/yellow_tripdata_2016-03.parquet yellow_tripdata_2016-03.parquet\n",
      "https://d37ci6vzurychx.cloudfront.net/trip-data/yellow_tripdata_2016-04.parquet\n",
      "saving to /Users/yw/Desktop/4501 Project/OriginalTaxiData/yellow_tripdata_2016-04.parquet\n",
      "OriginalTaxiData/yellow_tripdata_2016-04.parquet yellow_tripdata_2016-04.parquet\n",
      "https://d37ci6vzurychx.cloudfront.net/trip-data/yellow_tripdata_2016-05.parquet\n",
      "saving to /Users/yw/Desktop/4501 Project/OriginalTaxiData/yellow_tripdata_2016-05.parquet\n",
      "OriginalTaxiData/yellow_tripdata_2016-05.parquet yellow_tripdata_2016-05.parquet\n",
      "https://d37ci6vzurychx.cloudfront.net/trip-data/yellow_tripdata_2016-06.parquet\n",
      "saving to /Users/yw/Desktop/4501 Project/OriginalTaxiData/yellow_tripdata_2016-06.parquet\n",
      "OriginalTaxiData/yellow_tripdata_2016-06.parquet yellow_tripdata_2016-06.parquet\n",
      "https://d37ci6vzurychx.cloudfront.net/trip-data/yellow_tripdata_2016-07.parquet\n",
      "saving to /Users/yw/Desktop/4501 Project/OriginalTaxiData/yellow_tripdata_2016-07.parquet\n",
      "OriginalTaxiData/yellow_tripdata_2016-07.parquet yellow_tripdata_2016-07.parquet\n",
      "https://d37ci6vzurychx.cloudfront.net/trip-data/yellow_tripdata_2016-08.parquet\n",
      "saving to /Users/yw/Desktop/4501 Project/OriginalTaxiData/yellow_tripdata_2016-08.parquet\n",
      "OriginalTaxiData/yellow_tripdata_2016-08.parquet yellow_tripdata_2016-08.parquet\n",
      "https://d37ci6vzurychx.cloudfront.net/trip-data/yellow_tripdata_2016-09.parquet\n",
      "saving to /Users/yw/Desktop/4501 Project/OriginalTaxiData/yellow_tripdata_2016-09.parquet\n",
      "OriginalTaxiData/yellow_tripdata_2016-09.parquet yellow_tripdata_2016-09.parquet\n",
      "https://d37ci6vzurychx.cloudfront.net/trip-data/yellow_tripdata_2016-10.parquet\n",
      "saving to /Users/yw/Desktop/4501 Project/OriginalTaxiData/yellow_tripdata_2016-10.parquet\n",
      "OriginalTaxiData/yellow_tripdata_2016-10.parquet yellow_tripdata_2016-10.parquet\n",
      "https://d37ci6vzurychx.cloudfront.net/trip-data/yellow_tripdata_2016-11.parquet\n",
      "saving to /Users/yw/Desktop/4501 Project/OriginalTaxiData/yellow_tripdata_2016-11.parquet\n",
      "OriginalTaxiData/yellow_tripdata_2016-11.parquet yellow_tripdata_2016-11.parquet\n",
      "https://d37ci6vzurychx.cloudfront.net/trip-data/yellow_tripdata_2016-12.parquet\n",
      "saving to /Users/yw/Desktop/4501 Project/OriginalTaxiData/yellow_tripdata_2016-12.parquet\n",
      "OriginalTaxiData/yellow_tripdata_2016-12.parquet yellow_tripdata_2016-12.parquet\n",
      "https://d37ci6vzurychx.cloudfront.net/trip-data/yellow_tripdata_2015-01.parquet\n",
      "saving to /Users/yw/Desktop/4501 Project/OriginalTaxiData/yellow_tripdata_2015-01.parquet\n",
      "OriginalTaxiData/yellow_tripdata_2015-01.parquet yellow_tripdata_2015-01.parquet\n",
      "https://d37ci6vzurychx.cloudfront.net/trip-data/yellow_tripdata_2015-02.parquet\n",
      "saving to /Users/yw/Desktop/4501 Project/OriginalTaxiData/yellow_tripdata_2015-02.parquet\n",
      "OriginalTaxiData/yellow_tripdata_2015-02.parquet yellow_tripdata_2015-02.parquet\n",
      "https://d37ci6vzurychx.cloudfront.net/trip-data/yellow_tripdata_2015-03.parquet\n",
      "saving to /Users/yw/Desktop/4501 Project/OriginalTaxiData/yellow_tripdata_2015-03.parquet\n",
      "OriginalTaxiData/yellow_tripdata_2015-03.parquet yellow_tripdata_2015-03.parquet\n",
      "https://d37ci6vzurychx.cloudfront.net/trip-data/yellow_tripdata_2015-04.parquet\n",
      "saving to /Users/yw/Desktop/4501 Project/OriginalTaxiData/yellow_tripdata_2015-04.parquet\n",
      "OriginalTaxiData/yellow_tripdata_2015-04.parquet yellow_tripdata_2015-04.parquet\n",
      "https://d37ci6vzurychx.cloudfront.net/trip-data/yellow_tripdata_2015-05.parquet\n",
      "saving to /Users/yw/Desktop/4501 Project/OriginalTaxiData/yellow_tripdata_2015-05.parquet\n",
      "OriginalTaxiData/yellow_tripdata_2015-05.parquet yellow_tripdata_2015-05.parquet\n",
      "https://d37ci6vzurychx.cloudfront.net/trip-data/yellow_tripdata_2015-06.parquet\n",
      "saving to /Users/yw/Desktop/4501 Project/OriginalTaxiData/yellow_tripdata_2015-06.parquet\n",
      "OriginalTaxiData/yellow_tripdata_2015-06.parquet yellow_tripdata_2015-06.parquet\n",
      "https://d37ci6vzurychx.cloudfront.net/trip-data/yellow_tripdata_2015-07.parquet\n",
      "saving to /Users/yw/Desktop/4501 Project/OriginalTaxiData/yellow_tripdata_2015-07.parquet\n",
      "OriginalTaxiData/yellow_tripdata_2015-07.parquet yellow_tripdata_2015-07.parquet\n",
      "https://d37ci6vzurychx.cloudfront.net/trip-data/yellow_tripdata_2015-08.parquet\n",
      "saving to /Users/yw/Desktop/4501 Project/OriginalTaxiData/yellow_tripdata_2015-08.parquet\n",
      "OriginalTaxiData/yellow_tripdata_2015-08.parquet yellow_tripdata_2015-08.parquet\n",
      "https://d37ci6vzurychx.cloudfront.net/trip-data/yellow_tripdata_2015-09.parquet\n",
      "saving to /Users/yw/Desktop/4501 Project/OriginalTaxiData/yellow_tripdata_2015-09.parquet\n",
      "OriginalTaxiData/yellow_tripdata_2015-09.parquet yellow_tripdata_2015-09.parquet\n",
      "https://d37ci6vzurychx.cloudfront.net/trip-data/yellow_tripdata_2015-10.parquet\n",
      "saving to /Users/yw/Desktop/4501 Project/OriginalTaxiData/yellow_tripdata_2015-10.parquet\n",
      "OriginalTaxiData/yellow_tripdata_2015-10.parquet yellow_tripdata_2015-10.parquet\n",
      "https://d37ci6vzurychx.cloudfront.net/trip-data/yellow_tripdata_2015-11.parquet\n",
      "saving to /Users/yw/Desktop/4501 Project/OriginalTaxiData/yellow_tripdata_2015-11.parquet\n",
      "OriginalTaxiData/yellow_tripdata_2015-11.parquet yellow_tripdata_2015-11.parquet\n",
      "https://d37ci6vzurychx.cloudfront.net/trip-data/yellow_tripdata_2015-12.parquet\n",
      "saving to /Users/yw/Desktop/4501 Project/OriginalTaxiData/yellow_tripdata_2015-12.parquet\n",
      "OriginalTaxiData/yellow_tripdata_2015-12.parquet yellow_tripdata_2015-12.parquet\n",
      "https://d37ci6vzurychx.cloudfront.net/trip-data/yellow_tripdata_2014-01.parquet\n",
      "saving to /Users/yw/Desktop/4501 Project/OriginalTaxiData/yellow_tripdata_2014-01.parquet\n",
      "OriginalTaxiData/yellow_tripdata_2014-01.parquet yellow_tripdata_2014-01.parquet\n",
      "https://d37ci6vzurychx.cloudfront.net/trip-data/yellow_tripdata_2014-02.parquet\n",
      "saving to /Users/yw/Desktop/4501 Project/OriginalTaxiData/yellow_tripdata_2014-02.parquet\n",
      "OriginalTaxiData/yellow_tripdata_2014-02.parquet yellow_tripdata_2014-02.parquet\n",
      "https://d37ci6vzurychx.cloudfront.net/trip-data/yellow_tripdata_2014-03.parquet\n",
      "saving to /Users/yw/Desktop/4501 Project/OriginalTaxiData/yellow_tripdata_2014-03.parquet\n",
      "OriginalTaxiData/yellow_tripdata_2014-03.parquet yellow_tripdata_2014-03.parquet\n",
      "https://d37ci6vzurychx.cloudfront.net/trip-data/yellow_tripdata_2014-04.parquet\n",
      "saving to /Users/yw/Desktop/4501 Project/OriginalTaxiData/yellow_tripdata_2014-04.parquet\n",
      "OriginalTaxiData/yellow_tripdata_2014-04.parquet yellow_tripdata_2014-04.parquet\n",
      "https://d37ci6vzurychx.cloudfront.net/trip-data/yellow_tripdata_2014-05.parquet\n",
      "saving to /Users/yw/Desktop/4501 Project/OriginalTaxiData/yellow_tripdata_2014-05.parquet\n",
      "OriginalTaxiData/yellow_tripdata_2014-05.parquet yellow_tripdata_2014-05.parquet\n",
      "https://d37ci6vzurychx.cloudfront.net/trip-data/yellow_tripdata_2014-06.parquet\n",
      "saving to /Users/yw/Desktop/4501 Project/OriginalTaxiData/yellow_tripdata_2014-06.parquet\n",
      "OriginalTaxiData/yellow_tripdata_2014-06.parquet yellow_tripdata_2014-06.parquet\n",
      "https://d37ci6vzurychx.cloudfront.net/trip-data/yellow_tripdata_2014-07.parquet\n",
      "saving to /Users/yw/Desktop/4501 Project/OriginalTaxiData/yellow_tripdata_2014-07.parquet\n",
      "OriginalTaxiData/yellow_tripdata_2014-07.parquet yellow_tripdata_2014-07.parquet\n",
      "https://d37ci6vzurychx.cloudfront.net/trip-data/yellow_tripdata_2014-08.parquet\n",
      "saving to /Users/yw/Desktop/4501 Project/OriginalTaxiData/yellow_tripdata_2014-08.parquet\n",
      "OriginalTaxiData/yellow_tripdata_2014-08.parquet yellow_tripdata_2014-08.parquet\n",
      "https://d37ci6vzurychx.cloudfront.net/trip-data/yellow_tripdata_2014-09.parquet\n",
      "saving to /Users/yw/Desktop/4501 Project/OriginalTaxiData/yellow_tripdata_2014-09.parquet\n",
      "OriginalTaxiData/yellow_tripdata_2014-09.parquet yellow_tripdata_2014-09.parquet\n",
      "https://d37ci6vzurychx.cloudfront.net/trip-data/yellow_tripdata_2014-10.parquet\n",
      "saving to /Users/yw/Desktop/4501 Project/OriginalTaxiData/yellow_tripdata_2014-10.parquet\n",
      "OriginalTaxiData/yellow_tripdata_2014-10.parquet yellow_tripdata_2014-10.parquet\n",
      "https://d37ci6vzurychx.cloudfront.net/trip-data/yellow_tripdata_2014-11.parquet\n",
      "saving to /Users/yw/Desktop/4501 Project/OriginalTaxiData/yellow_tripdata_2014-11.parquet\n",
      "OriginalTaxiData/yellow_tripdata_2014-11.parquet yellow_tripdata_2014-11.parquet\n",
      "https://d37ci6vzurychx.cloudfront.net/trip-data/yellow_tripdata_2014-12.parquet\n",
      "saving to /Users/yw/Desktop/4501 Project/OriginalTaxiData/yellow_tripdata_2014-12.parquet\n",
      "OriginalTaxiData/yellow_tripdata_2014-12.parquet yellow_tripdata_2014-12.parquet\n",
      "https://d37ci6vzurychx.cloudfront.net/trip-data/yellow_tripdata_2013-01.parquet\n",
      "saving to /Users/yw/Desktop/4501 Project/OriginalTaxiData/yellow_tripdata_2013-01.parquet\n",
      "OriginalTaxiData/yellow_tripdata_2013-01.parquet yellow_tripdata_2013-01.parquet\n",
      "https://d37ci6vzurychx.cloudfront.net/trip-data/yellow_tripdata_2013-02.parquet\n",
      "saving to /Users/yw/Desktop/4501 Project/OriginalTaxiData/yellow_tripdata_2013-02.parquet\n",
      "OriginalTaxiData/yellow_tripdata_2013-02.parquet yellow_tripdata_2013-02.parquet\n",
      "https://d37ci6vzurychx.cloudfront.net/trip-data/yellow_tripdata_2013-03.parquet\n",
      "saving to /Users/yw/Desktop/4501 Project/OriginalTaxiData/yellow_tripdata_2013-03.parquet\n",
      "OriginalTaxiData/yellow_tripdata_2013-03.parquet yellow_tripdata_2013-03.parquet\n",
      "https://d37ci6vzurychx.cloudfront.net/trip-data/yellow_tripdata_2013-04.parquet\n",
      "saving to /Users/yw/Desktop/4501 Project/OriginalTaxiData/yellow_tripdata_2013-04.parquet\n",
      "OriginalTaxiData/yellow_tripdata_2013-04.parquet yellow_tripdata_2013-04.parquet\n",
      "https://d37ci6vzurychx.cloudfront.net/trip-data/yellow_tripdata_2013-05.parquet\n",
      "saving to /Users/yw/Desktop/4501 Project/OriginalTaxiData/yellow_tripdata_2013-05.parquet\n",
      "OriginalTaxiData/yellow_tripdata_2013-05.parquet yellow_tripdata_2013-05.parquet\n",
      "https://d37ci6vzurychx.cloudfront.net/trip-data/yellow_tripdata_2013-06.parquet\n",
      "saving to /Users/yw/Desktop/4501 Project/OriginalTaxiData/yellow_tripdata_2013-06.parquet\n",
      "OriginalTaxiData/yellow_tripdata_2013-06.parquet yellow_tripdata_2013-06.parquet\n",
      "https://d37ci6vzurychx.cloudfront.net/trip-data/yellow_tripdata_2013-07.parquet\n",
      "saving to /Users/yw/Desktop/4501 Project/OriginalTaxiData/yellow_tripdata_2013-07.parquet\n",
      "OriginalTaxiData/yellow_tripdata_2013-07.parquet yellow_tripdata_2013-07.parquet\n",
      "https://d37ci6vzurychx.cloudfront.net/trip-data/yellow_tripdata_2013-08.parquet\n",
      "saving to /Users/yw/Desktop/4501 Project/OriginalTaxiData/yellow_tripdata_2013-08.parquet\n",
      "OriginalTaxiData/yellow_tripdata_2013-08.parquet yellow_tripdata_2013-08.parquet\n",
      "https://d37ci6vzurychx.cloudfront.net/trip-data/yellow_tripdata_2013-09.parquet\n",
      "saving to /Users/yw/Desktop/4501 Project/OriginalTaxiData/yellow_tripdata_2013-09.parquet\n",
      "OriginalTaxiData/yellow_tripdata_2013-09.parquet yellow_tripdata_2013-09.parquet\n",
      "https://d37ci6vzurychx.cloudfront.net/trip-data/yellow_tripdata_2013-10.parquet\n",
      "saving to /Users/yw/Desktop/4501 Project/OriginalTaxiData/yellow_tripdata_2013-10.parquet\n",
      "OriginalTaxiData/yellow_tripdata_2013-10.parquet yellow_tripdata_2013-10.parquet\n",
      "https://d37ci6vzurychx.cloudfront.net/trip-data/yellow_tripdata_2013-11.parquet\n",
      "saving to /Users/yw/Desktop/4501 Project/OriginalTaxiData/yellow_tripdata_2013-11.parquet\n",
      "OriginalTaxiData/yellow_tripdata_2013-11.parquet yellow_tripdata_2013-11.parquet\n",
      "https://d37ci6vzurychx.cloudfront.net/trip-data/yellow_tripdata_2013-12.parquet\n",
      "saving to /Users/yw/Desktop/4501 Project/OriginalTaxiData/yellow_tripdata_2013-12.parquet\n",
      "OriginalTaxiData/yellow_tripdata_2013-12.parquet yellow_tripdata_2013-12.parquet\n",
      "https://d37ci6vzurychx.cloudfront.net/trip-data/yellow_tripdata_2012-01.parquet\n",
      "saving to /Users/yw/Desktop/4501 Project/OriginalTaxiData/yellow_tripdata_2012-01.parquet\n",
      "OriginalTaxiData/yellow_tripdata_2012-01.parquet yellow_tripdata_2012-01.parquet\n",
      "https://d37ci6vzurychx.cloudfront.net/trip-data/yellow_tripdata_2012-02.parquet\n",
      "saving to /Users/yw/Desktop/4501 Project/OriginalTaxiData/yellow_tripdata_2012-02.parquet\n",
      "OriginalTaxiData/yellow_tripdata_2012-02.parquet yellow_tripdata_2012-02.parquet\n",
      "https://d37ci6vzurychx.cloudfront.net/trip-data/yellow_tripdata_2012-03.parquet\n",
      "saving to /Users/yw/Desktop/4501 Project/OriginalTaxiData/yellow_tripdata_2012-03.parquet\n",
      "OriginalTaxiData/yellow_tripdata_2012-03.parquet yellow_tripdata_2012-03.parquet\n",
      "https://d37ci6vzurychx.cloudfront.net/trip-data/yellow_tripdata_2012-04.parquet\n",
      "saving to /Users/yw/Desktop/4501 Project/OriginalTaxiData/yellow_tripdata_2012-04.parquet\n",
      "OriginalTaxiData/yellow_tripdata_2012-04.parquet yellow_tripdata_2012-04.parquet\n",
      "https://d37ci6vzurychx.cloudfront.net/trip-data/yellow_tripdata_2012-05.parquet\n",
      "saving to /Users/yw/Desktop/4501 Project/OriginalTaxiData/yellow_tripdata_2012-05.parquet\n",
      "OriginalTaxiData/yellow_tripdata_2012-05.parquet yellow_tripdata_2012-05.parquet\n",
      "https://d37ci6vzurychx.cloudfront.net/trip-data/yellow_tripdata_2012-06.parquet\n",
      "saving to /Users/yw/Desktop/4501 Project/OriginalTaxiData/yellow_tripdata_2012-06.parquet\n",
      "OriginalTaxiData/yellow_tripdata_2012-06.parquet yellow_tripdata_2012-06.parquet\n",
      "https://d37ci6vzurychx.cloudfront.net/trip-data/yellow_tripdata_2012-07.parquet\n",
      "saving to /Users/yw/Desktop/4501 Project/OriginalTaxiData/yellow_tripdata_2012-07.parquet\n",
      "OriginalTaxiData/yellow_tripdata_2012-07.parquet yellow_tripdata_2012-07.parquet\n",
      "https://d37ci6vzurychx.cloudfront.net/trip-data/yellow_tripdata_2012-08.parquet\n",
      "saving to /Users/yw/Desktop/4501 Project/OriginalTaxiData/yellow_tripdata_2012-08.parquet\n",
      "OriginalTaxiData/yellow_tripdata_2012-08.parquet yellow_tripdata_2012-08.parquet\n",
      "https://d37ci6vzurychx.cloudfront.net/trip-data/yellow_tripdata_2012-09.parquet\n",
      "saving to /Users/yw/Desktop/4501 Project/OriginalTaxiData/yellow_tripdata_2012-09.parquet\n",
      "OriginalTaxiData/yellow_tripdata_2012-09.parquet yellow_tripdata_2012-09.parquet\n",
      "https://d37ci6vzurychx.cloudfront.net/trip-data/yellow_tripdata_2012-10.parquet\n",
      "saving to /Users/yw/Desktop/4501 Project/OriginalTaxiData/yellow_tripdata_2012-10.parquet\n",
      "OriginalTaxiData/yellow_tripdata_2012-10.parquet yellow_tripdata_2012-10.parquet\n",
      "https://d37ci6vzurychx.cloudfront.net/trip-data/yellow_tripdata_2012-11.parquet\n",
      "saving to /Users/yw/Desktop/4501 Project/OriginalTaxiData/yellow_tripdata_2012-11.parquet\n",
      "OriginalTaxiData/yellow_tripdata_2012-11.parquet yellow_tripdata_2012-11.parquet\n",
      "https://d37ci6vzurychx.cloudfront.net/trip-data/yellow_tripdata_2012-12.parquet\n",
      "saving to /Users/yw/Desktop/4501 Project/OriginalTaxiData/yellow_tripdata_2012-12.parquet\n",
      "OriginalTaxiData/yellow_tripdata_2012-12.parquet yellow_tripdata_2012-12.parquet\n",
      "https://d37ci6vzurychx.cloudfront.net/trip-data/yellow_tripdata_2011-01.parquet\n",
      "saving to /Users/yw/Desktop/4501 Project/OriginalTaxiData/yellow_tripdata_2011-01.parquet\n",
      "OriginalTaxiData/yellow_tripdata_2011-01.parquet yellow_tripdata_2011-01.parquet\n",
      "https://d37ci6vzurychx.cloudfront.net/trip-data/yellow_tripdata_2011-02.parquet\n",
      "saving to /Users/yw/Desktop/4501 Project/OriginalTaxiData/yellow_tripdata_2011-02.parquet\n",
      "OriginalTaxiData/yellow_tripdata_2011-02.parquet yellow_tripdata_2011-02.parquet\n",
      "https://d37ci6vzurychx.cloudfront.net/trip-data/yellow_tripdata_2011-03.parquet\n",
      "saving to /Users/yw/Desktop/4501 Project/OriginalTaxiData/yellow_tripdata_2011-03.parquet\n",
      "OriginalTaxiData/yellow_tripdata_2011-03.parquet yellow_tripdata_2011-03.parquet\n",
      "https://d37ci6vzurychx.cloudfront.net/trip-data/yellow_tripdata_2011-04.parquet\n",
      "saving to /Users/yw/Desktop/4501 Project/OriginalTaxiData/yellow_tripdata_2011-04.parquet\n",
      "OriginalTaxiData/yellow_tripdata_2011-04.parquet yellow_tripdata_2011-04.parquet\n",
      "https://d37ci6vzurychx.cloudfront.net/trip-data/yellow_tripdata_2011-05.parquet\n",
      "saving to /Users/yw/Desktop/4501 Project/OriginalTaxiData/yellow_tripdata_2011-05.parquet\n",
      "OriginalTaxiData/yellow_tripdata_2011-05.parquet yellow_tripdata_2011-05.parquet\n",
      "https://d37ci6vzurychx.cloudfront.net/trip-data/yellow_tripdata_2011-06.parquet\n",
      "saving to /Users/yw/Desktop/4501 Project/OriginalTaxiData/yellow_tripdata_2011-06.parquet\n",
      "OriginalTaxiData/yellow_tripdata_2011-06.parquet yellow_tripdata_2011-06.parquet\n",
      "https://d37ci6vzurychx.cloudfront.net/trip-data/yellow_tripdata_2011-07.parquet\n",
      "saving to /Users/yw/Desktop/4501 Project/OriginalTaxiData/yellow_tripdata_2011-07.parquet\n",
      "OriginalTaxiData/yellow_tripdata_2011-07.parquet yellow_tripdata_2011-07.parquet\n",
      "https://d37ci6vzurychx.cloudfront.net/trip-data/yellow_tripdata_2011-08.parquet\n",
      "saving to /Users/yw/Desktop/4501 Project/OriginalTaxiData/yellow_tripdata_2011-08.parquet\n",
      "OriginalTaxiData/yellow_tripdata_2011-08.parquet yellow_tripdata_2011-08.parquet\n",
      "https://d37ci6vzurychx.cloudfront.net/trip-data/yellow_tripdata_2011-09.parquet\n",
      "saving to /Users/yw/Desktop/4501 Project/OriginalTaxiData/yellow_tripdata_2011-09.parquet\n",
      "OriginalTaxiData/yellow_tripdata_2011-09.parquet yellow_tripdata_2011-09.parquet\n",
      "https://d37ci6vzurychx.cloudfront.net/trip-data/yellow_tripdata_2011-10.parquet\n",
      "saving to /Users/yw/Desktop/4501 Project/OriginalTaxiData/yellow_tripdata_2011-10.parquet\n",
      "OriginalTaxiData/yellow_tripdata_2011-10.parquet yellow_tripdata_2011-10.parquet\n",
      "https://d37ci6vzurychx.cloudfront.net/trip-data/yellow_tripdata_2011-11.parquet\n",
      "saving to /Users/yw/Desktop/4501 Project/OriginalTaxiData/yellow_tripdata_2011-11.parquet\n",
      "OriginalTaxiData/yellow_tripdata_2011-11.parquet yellow_tripdata_2011-11.parquet\n",
      "https://d37ci6vzurychx.cloudfront.net/trip-data/yellow_tripdata_2011-12.parquet\n",
      "saving to /Users/yw/Desktop/4501 Project/OriginalTaxiData/yellow_tripdata_2011-12.parquet\n",
      "OriginalTaxiData/yellow_tripdata_2011-12.parquet yellow_tripdata_2011-12.parquet\n",
      "https://d37ci6vzurychx.cloudfront.net/trip-data/yellow_tripdata_2010-01.parquet\n",
      "saving to /Users/yw/Desktop/4501 Project/OriginalTaxiData/yellow_tripdata_2010-01.parquet\n",
      "OriginalTaxiData/yellow_tripdata_2010-01.parquet yellow_tripdata_2010-01.parquet\n",
      "https://d37ci6vzurychx.cloudfront.net/trip-data/yellow_tripdata_2010-02.parquet\n",
      "saving to /Users/yw/Desktop/4501 Project/OriginalTaxiData/yellow_tripdata_2010-02.parquet\n",
      "OriginalTaxiData/yellow_tripdata_2010-02.parquet yellow_tripdata_2010-02.parquet\n",
      "https://d37ci6vzurychx.cloudfront.net/trip-data/yellow_tripdata_2010-03.parquet\n",
      "saving to /Users/yw/Desktop/4501 Project/OriginalTaxiData/yellow_tripdata_2010-03.parquet\n",
      "OriginalTaxiData/yellow_tripdata_2010-03.parquet yellow_tripdata_2010-03.parquet\n",
      "https://d37ci6vzurychx.cloudfront.net/trip-data/yellow_tripdata_2010-04.parquet\n",
      "saving to /Users/yw/Desktop/4501 Project/OriginalTaxiData/yellow_tripdata_2010-04.parquet\n",
      "OriginalTaxiData/yellow_tripdata_2010-04.parquet yellow_tripdata_2010-04.parquet\n",
      "https://d37ci6vzurychx.cloudfront.net/trip-data/yellow_tripdata_2010-05.parquet\n",
      "saving to /Users/yw/Desktop/4501 Project/OriginalTaxiData/yellow_tripdata_2010-05.parquet\n",
      "OriginalTaxiData/yellow_tripdata_2010-05.parquet yellow_tripdata_2010-05.parquet\n",
      "https://d37ci6vzurychx.cloudfront.net/trip-data/yellow_tripdata_2010-06.parquet\n",
      "saving to /Users/yw/Desktop/4501 Project/OriginalTaxiData/yellow_tripdata_2010-06.parquet\n",
      "OriginalTaxiData/yellow_tripdata_2010-06.parquet yellow_tripdata_2010-06.parquet\n",
      "https://d37ci6vzurychx.cloudfront.net/trip-data/yellow_tripdata_2010-07.parquet\n",
      "saving to /Users/yw/Desktop/4501 Project/OriginalTaxiData/yellow_tripdata_2010-07.parquet\n",
      "OriginalTaxiData/yellow_tripdata_2010-07.parquet yellow_tripdata_2010-07.parquet\n",
      "https://d37ci6vzurychx.cloudfront.net/trip-data/yellow_tripdata_2010-08.parquet\n",
      "saving to /Users/yw/Desktop/4501 Project/OriginalTaxiData/yellow_tripdata_2010-08.parquet\n",
      "OriginalTaxiData/yellow_tripdata_2010-08.parquet yellow_tripdata_2010-08.parquet\n",
      "https://d37ci6vzurychx.cloudfront.net/trip-data/yellow_tripdata_2010-09.parquet\n",
      "saving to /Users/yw/Desktop/4501 Project/OriginalTaxiData/yellow_tripdata_2010-09.parquet\n",
      "OriginalTaxiData/yellow_tripdata_2010-09.parquet yellow_tripdata_2010-09.parquet\n",
      "https://d37ci6vzurychx.cloudfront.net/trip-data/yellow_tripdata_2010-10.parquet\n",
      "saving to /Users/yw/Desktop/4501 Project/OriginalTaxiData/yellow_tripdata_2010-10.parquet\n",
      "OriginalTaxiData/yellow_tripdata_2010-10.parquet yellow_tripdata_2010-10.parquet\n",
      "https://d37ci6vzurychx.cloudfront.net/trip-data/yellow_tripdata_2010-11.parquet\n",
      "saving to /Users/yw/Desktop/4501 Project/OriginalTaxiData/yellow_tripdata_2010-11.parquet\n",
      "OriginalTaxiData/yellow_tripdata_2010-11.parquet yellow_tripdata_2010-11.parquet\n",
      "https://d37ci6vzurychx.cloudfront.net/trip-data/yellow_tripdata_2010-12.parquet\n",
      "saving to /Users/yw/Desktop/4501 Project/OriginalTaxiData/yellow_tripdata_2010-12.parquet\n",
      "OriginalTaxiData/yellow_tripdata_2010-12.parquet yellow_tripdata_2010-12.parquet\n",
      "https://d37ci6vzurychx.cloudfront.net/trip-data/yellow_tripdata_2009-01.parquet\n",
      "saving to /Users/yw/Desktop/4501 Project/OriginalTaxiData/yellow_tripdata_2009-01.parquet\n",
      "OriginalTaxiData/yellow_tripdata_2009-01.parquet yellow_tripdata_2009-01.parquet\n",
      "https://d37ci6vzurychx.cloudfront.net/trip-data/yellow_tripdata_2009-02.parquet\n",
      "saving to /Users/yw/Desktop/4501 Project/OriginalTaxiData/yellow_tripdata_2009-02.parquet\n",
      "OriginalTaxiData/yellow_tripdata_2009-02.parquet yellow_tripdata_2009-02.parquet\n",
      "https://d37ci6vzurychx.cloudfront.net/trip-data/yellow_tripdata_2009-03.parquet\n",
      "saving to /Users/yw/Desktop/4501 Project/OriginalTaxiData/yellow_tripdata_2009-03.parquet\n",
      "OriginalTaxiData/yellow_tripdata_2009-03.parquet yellow_tripdata_2009-03.parquet\n",
      "https://d37ci6vzurychx.cloudfront.net/trip-data/yellow_tripdata_2009-04.parquet\n",
      "saving to /Users/yw/Desktop/4501 Project/OriginalTaxiData/yellow_tripdata_2009-04.parquet\n",
      "OriginalTaxiData/yellow_tripdata_2009-04.parquet yellow_tripdata_2009-04.parquet\n",
      "https://d37ci6vzurychx.cloudfront.net/trip-data/yellow_tripdata_2009-05.parquet\n",
      "saving to /Users/yw/Desktop/4501 Project/OriginalTaxiData/yellow_tripdata_2009-05.parquet\n",
      "OriginalTaxiData/yellow_tripdata_2009-05.parquet yellow_tripdata_2009-05.parquet\n",
      "https://d37ci6vzurychx.cloudfront.net/trip-data/yellow_tripdata_2009-06.parquet\n",
      "saving to /Users/yw/Desktop/4501 Project/OriginalTaxiData/yellow_tripdata_2009-06.parquet\n",
      "OriginalTaxiData/yellow_tripdata_2009-06.parquet yellow_tripdata_2009-06.parquet\n",
      "https://d37ci6vzurychx.cloudfront.net/trip-data/yellow_tripdata_2009-07.parquet\n",
      "saving to /Users/yw/Desktop/4501 Project/OriginalTaxiData/yellow_tripdata_2009-07.parquet\n",
      "OriginalTaxiData/yellow_tripdata_2009-07.parquet yellow_tripdata_2009-07.parquet\n",
      "https://d37ci6vzurychx.cloudfront.net/trip-data/yellow_tripdata_2009-08.parquet\n",
      "saving to /Users/yw/Desktop/4501 Project/OriginalTaxiData/yellow_tripdata_2009-08.parquet\n",
      "OriginalTaxiData/yellow_tripdata_2009-08.parquet yellow_tripdata_2009-08.parquet\n",
      "https://d37ci6vzurychx.cloudfront.net/trip-data/yellow_tripdata_2009-09.parquet\n",
      "saving to /Users/yw/Desktop/4501 Project/OriginalTaxiData/yellow_tripdata_2009-09.parquet\n",
      "OriginalTaxiData/yellow_tripdata_2009-09.parquet yellow_tripdata_2009-09.parquet\n",
      "https://d37ci6vzurychx.cloudfront.net/trip-data/yellow_tripdata_2009-10.parquet\n",
      "saving to /Users/yw/Desktop/4501 Project/OriginalTaxiData/yellow_tripdata_2009-10.parquet\n",
      "OriginalTaxiData/yellow_tripdata_2009-10.parquet yellow_tripdata_2009-10.parquet\n",
      "https://d37ci6vzurychx.cloudfront.net/trip-data/yellow_tripdata_2009-11.parquet\n",
      "saving to /Users/yw/Desktop/4501 Project/OriginalTaxiData/yellow_tripdata_2009-11.parquet\n",
      "OriginalTaxiData/yellow_tripdata_2009-11.parquet yellow_tripdata_2009-11.parquet\n",
      "https://d37ci6vzurychx.cloudfront.net/trip-data/yellow_tripdata_2009-12.parquet\n",
      "saving to /Users/yw/Desktop/4501 Project/OriginalTaxiData/yellow_tripdata_2009-12.parquet\n",
      "OriginalTaxiData/yellow_tripdata_2009-12.parquet yellow_tripdata_2009-12.parquet\n"
     ]
    }
   ],
   "source": [
    "taxi_data=get_and_clean_taxi_data()"
   ]
  },
  {
   "cell_type": "code",
   "execution_count": 27,
   "id": "290fb3f8",
   "metadata": {},
   "outputs": [],
   "source": [
    "def clean_taxi(taxi):\n",
    "#datetime datatype\n",
    "    taxi['pickup_datetime']=pd.to_datetime(taxi['pickup_datetime'])\n",
    "    taxi['dropoff_datetime']=pd.to_datetime(taxi['dropoff_datetime'])\n",
    "    taxi=taxi.sort_values('pickup_datetime').reset_index(drop=True)\n",
    "\n",
    "    #drop missing value of passenger_count and passenger_count = 0 \n",
    "    taxi=taxi[taxi.passenger_count.isnull()==False]\n",
    "    taxi=taxi[taxi.passenger_count!=0]\n",
    "    \n",
    "    # drop tips <0 and distance=0\n",
    "    taxi=taxi[taxi.tip>=0]\n",
    "    taxi=taxi[taxi.distance!=0]\n",
    "    taxi['passenger_count']=taxi['passenger_count'].astype(int)\n",
    "    return taxi"
   ]
  },
  {
   "cell_type": "code",
   "execution_count": 29,
   "id": "74e914e4",
   "metadata": {},
   "outputs": [],
   "source": [
    "taxi_data=clean_taxi(taxi_data)\n",
    "taxi_data.to_csv('taxi.csv')"
   ]
  },
  {
   "cell_type": "markdown",
   "id": "32074561",
   "metadata": {},
   "source": [
    "### Calculating distance\n",
    "For uber data, calculate the distance between the pickup and dropoff places."
   ]
  },
  {
   "cell_type": "markdown",
   "id": "2efc6f92",
   "metadata": {},
   "source": [
    "$distance=2rarcsin \\bigg(\\sqrt { sin^2 \\big( \\frac{\\phi_2-\\phi_1}{2} \\big) +cos \\phi_1 · cos\\phi_2  · sin^2 \\big( \\frac{\\lambda_2 - \\lambda_1}{2} \\big) } \\bigg) $\n",
    "\n",
    "$\\phi: \\text{latitude of points};\\  \\lambda: \\text{longtitude of points}; \\ r: \\text{radius of sphere}$"
   ]
  },
  {
   "cell_type": "code",
   "execution_count": 32,
   "id": "4c081fd7",
   "metadata": {},
   "outputs": [],
   "source": [
    "def calculate_and_add_distance(data,length): #input dataframe:([longtitude1,latitude1],[longtitude2,latitude2]) \n",
    "    r=6373 #Earth radius\n",
    "    \n",
    "    #use radians rather than degrees\n",
    "    for i in range(length):\n",
    "        data.loc[i,'picklong']=math.radians(data.loc[i,'pickup_longitude'])\n",
    "        data.loc[i,'picklat']=math.radians(data.loc[i,'pickup_latitude'])\n",
    "        data.loc[i,'droplong']=math.radians(data.loc[i,'dropoff_longitude'])\n",
    "        data.loc[i,'droplat']=math.radians(data.loc[i,'dropoff_latitude'])\n",
    "    \n",
    "        data.loc[i,'distance']=2*r*math.asin(\n",
    "            math.sqrt((math.sin((data.loc[i,'droplat']-data.loc[i,'picklat'])/2))**2\n",
    "                  +math.cos(data.loc[i,'picklat'])*math.cos(data.loc[i,'droplat'])\n",
    "                      *(math.sin((data.loc[i,'droplong']-data.loc[i,'picklong'])/2))**2))\n",
    "    del data['picklong'],data['picklat'],data['droplong'],data['droplat']\n",
    "    return data"
   ]
  },
  {
   "cell_type": "markdown",
   "id": "094b4d6d",
   "metadata": {},
   "source": [
    "### Processing Uber Data\n",
    "\n",
    "1. Load data with pandas\n",
    "2. Clean the data:\n",
    "    - Remove unnecessary columns: unnamed and key\n",
    "    - Remove invalid data points: 1 missing data of dropoff longitude and dropoff latitude & wrong range of the longitude、latitude and passenger_count (0 and 208 passengers are both impossible);invalid data with distance = 0\n",
    "    - Remove trips that start and/or end outside the designated coordinate box (-74.242330, 40.560445); (-73.717047, 40.560445); (-74.242330, 40.908524); (-73.717047, 40.908524)\n",
    "Add distance column use the distance function defined above\n",
    "3. Add distance column use the distance function defined above"
   ]
  },
  {
   "cell_type": "code",
   "execution_count": 33,
   "id": "0199798d",
   "metadata": {},
   "outputs": [],
   "source": [
    "uber=pd.read_csv(UBER_CSV)"
   ]
  },
  {
   "cell_type": "code",
   "execution_count": 34,
   "id": "7c58e3a2",
   "metadata": {},
   "outputs": [],
   "source": [
    "def load_and_clean_uber_data(uber):\n",
    "    uber=uber.iloc[:,2:] #drop unnecessary columns: unnamed and key\n",
    "    del uber['fare_amount']\n",
    "    #proper data type: UTC to YYYYMMDD HHMMSS\n",
    "    uber.pickup_datetime=pd.to_datetime(uber.pickup_datetime) \n",
    "    uber['pickup_datetime']=uber['pickup_datetime'].dt.tz_localize(None)\n",
    "    \n",
    "    #drop missing value: only 1, compared to the 200000, can be ignored\n",
    "    uber=uber[uber.dropoff_longitude.isnull()!=True]  \n",
    "    uber['date']=pd.to_datetime(uber['pickup_datetime'].dt.date) #add yy-mm-dd time\n",
    "    uber['week']=uber['date'].dt.dayofweek+1 \n",
    "    uber=uber.sort_values('pickup_datetime').reset_index(drop=True) #sort\n",
    "    \n",
    "    uber=uber[uber.passenger_count!=0] #drop value with passenger = 0\n",
    "    uber=uber[uber['passenger_count']<7] #drop outlier: passenger_count=208, not possible, wrong data\n",
    "    #Remove trips that start and/or end outside the designated coordinate box \n",
    "    # (40.560445, -74.242330) and (40.908524, -73.717047)\n",
    "    uber=uber[(uber.pickup_longitude>=-74.242330) & (uber.pickup_longitude<=-73.717047) \\\n",
    "         & (uber.pickup_latitude >=40.560445 ) & (uber.pickup_latitude <= 40.908524)]\n",
    "    uber=uber[(uber.dropoff_longitude>=-74.242330) & (uber.dropoff_longitude<=-73.717047) \\\n",
    "         & (uber.dropoff_latitude >=40.560445 ) & (uber.dropoff_latitude <= 40.908524)]\n",
    "    uber=uber.reset_index(drop=True)\n",
    "    return uber"
   ]
  },
  {
   "cell_type": "code",
   "execution_count": 35,
   "id": "f836f118",
   "metadata": {},
   "outputs": [],
   "source": [
    "def get_uber_data():\n",
    "    uber_dataframe = load_and_clean_uber_data(uber)\n",
    "    uber_dataframe = calculate_and_add_distance(uber_dataframe,uber_dataframe.count()[0])\n",
    "    uber_dataframe = uber_dataframe[uber_dataframe.distance!=0] #drop invalid data with distance = 0\n",
    "    return uber_dataframe"
   ]
  },
  {
   "cell_type": "code",
   "execution_count": 36,
   "id": "56f703f2",
   "metadata": {},
   "outputs": [],
   "source": [
    "uber_data=get_uber_data()\n",
    "uber_data.to_csv('uber.csv')"
   ]
  },
  {
   "cell_type": "markdown",
   "id": "45a15cbb",
   "metadata": {},
   "source": [
    "### Processing Weather Data\n",
    "\n",
    "1. Load data\n",
    "2. Separate daily data and hourly data with necessary columns, drop other columns\n",
    "3. Clean data \n",
    "* Data type: 1. date: string to datetime; 2. precipitation: string to float (use 0 to replace T, which means slightly precipitation)\n",
    "* Grouping: use groupby function to generate the suitable frequency: 1. groupby date like %YYYY-%mm-%dd generate daily data; 2. groupby date with format like %YYYY-%mm-%dd %HH generate hourly data.\n",
    "* Deal with wrong data: 1.Drop some wrong data of precipitation like 1.2s. 2. Use the average peak wind speed of one day before and after the wrong data to replace the 2237 miles / h speed.\n",
    "4. Fill NA:\n",
    "- For daily data, has 1 NA for average wind speed. Use the avearage value of one day before and after the missing date to fill.\n",
    "- For hourly data: use the daily data to fill the missing values. Use daily precipitation divided 24 to estimate missing hourly precipitation 2. use average of windows to fill the missing value"
   ]
  },
  {
   "cell_type": "code",
   "execution_count": null,
   "id": "c3d73d5d",
   "metadata": {},
   "outputs": [],
   "source": [
    "weather09=pd.read_csv('2009_weather.csv',low_memory=False)\n",
    "weather10=pd.read_csv('2010_weather.csv',low_memory=False)\n",
    "weather11=pd.read_csv('2011_weather.csv',low_memory=False)\n",
    "weather12=pd.read_csv('2012_weather.csv',low_memory=False)\n",
    "weather13=pd.read_csv('2013_weather.csv',low_memory=False)\n",
    "weather14=pd.read_csv('2014_weather.csv',low_memory=False)\n",
    "weather15=pd.read_csv('2015_weather.csv',low_memory=False)"
   ]
  },
  {
   "cell_type": "code",
   "execution_count": null,
   "id": "c95d1758",
   "metadata": {},
   "outputs": [],
   "source": [
    "from datetime import datetime\n",
    "def clean_weather_data_daily(dataframe):\n",
    "    #add related daily columns\n",
    "    df2=pd.merge(dataframe['DATE'],dataframe['DailyAverageWindSpeed'],left_index=True,right_index=True)\n",
    "    \n",
    "    df2=df2.rename(columns=str.lower) #column name: lower letter\n",
    "    df2['date']=pd.to_datetime(df2.date) #datetime type\n",
    "    df2['date']=df2['date'].dt.date #to yy-mm-dd format\n",
    "    df2['date']=pd.to_datetime(df2.date) #datetime type\n",
    "    \n",
    "    res=pd.DataFrame(df2.groupby('date')['dailyaveragewindspeed'].mean()) #groupby date to form daily data\n",
    "    res['dailypeakwindspeed']=pd.DataFrame(df2.groupby('date')['dailypeakwindspeed'].mean())\n",
    "    res['dailyprecipitation']=pd.DataFrame(df2.groupby('date')['dailyprecipitation'].last()) #not important for later\n",
    "    return res"
   ]
  },
  {
   "cell_type": "code",
   "execution_count": null,
   "id": "76e864ab",
   "metadata": {},
   "outputs": [],
   "source": [
    "def clean_weather_data_hourly(dataframe):\n",
    "    #add columns related to hourly data\n",
    "    df=pd.merge(dataframe['DATE'],dataframe['DailySustainedWindSpeed'],left_index=True,right_index=True)\n",
    "    df1=pd.merge(dataframe['DailyPrecipitation'],dataframe['HourlyPrecipitation'],left_index=True,right_index=True)\n",
    "    df2=pd.merge(df,df1,left_index=True,right_index=True)\n",
    "    \n",
    "    df2.loc[df2['HourlyPrecipitation']=='T','HourlyPrecipitation']=0 #T to 0\n",
    "    df2=df2.drop(df2[df2['HourlyPrecipitation'].str.contains(pat='s')==True].index) #data including 1.2s \n",
    "    df2['HourlyPrecipitation']=df2['HourlyPrecipitation'].astype(float) #to float \n",
    "    df2.loc[df2['DailyPrecipitation']=='T','DailyPrecipitation']=0 \n",
    "    df2['DailyPrecipitation']=pd.to_numeric(df2['DailyPrecipitation'],errors='coerce')\n",
    "    df2=df2.rename(columns=str.lower)\n",
    "    df2['date']=pd.to_datetime(df2.date)\n",
    "    return df2"
   ]
  },
  {
   "cell_type": "code",
   "execution_count": null,
   "id": "3ef8945d",
   "metadata": {},
   "outputs": [
    {
     "name": "stderr",
     "output_type": "stream",
     "text": [
      "/Library/Frameworks/Python.framework/Versions/3.7/lib/python3.7/site-packages/pandas/core/ops/array_ops.py:253: FutureWarning: elementwise comparison failed; returning scalar instead, but in the future will perform elementwise comparison\n",
      "  res_values = method(rvalues)\n"
     ]
    }
   ],
   "source": [
    "def load_and_clean_weather_data():\n",
    "    hourly_dataframes = []\n",
    "    weather_csv_files = [weather09,weather10,weather11,weather12,weather13,weather14,weather15]\n",
    "    \n",
    "    for csv_file in weather_csv_files:\n",
    "        hourly_dataframe = clean_weather_data_hourly(csv_file)  \n",
    "        hourly_dataframes.append(hourly_dataframe)\n",
    "    #daily data cleaning\n",
    "    daily14 = clean_weather_data_daily(weather14)\n",
    "    \n",
    "    #fill dailyaveragewindspeed NA: 1 NA\n",
    "    # Only 1 NA: '2014-01-26' na dailyaveragewindspeed \n",
    "    # Use average of dailyaveragewindspeed of one day before and after it to replace\n",
    "    average=daily14[daily14.index>='2014-01-25'][:3]['dailyaveragewindspeed'].mean()\n",
    "    daily14.loc[daily14.index=='2014-01-26','dailyaveragewindspeed']=average\n",
    "    \n",
    "    daily=daily14\n",
    "    \n",
    "    #hourly data cleaning\n",
    "    hour = pd.concat(hourly_dataframes)\n",
    "    hour['dateh']=hour['date'].dt.strftime('%Y-%m-%d %H')\n",
    "    hour=hour.groupby(['dateh']).agg({'date':'last','dailysustainedwindspeed':'mean','dailyprecipitation':'mean','hourlyprecipitation':'mean'})\n",
    "    \n",
    "    # hourly precipitation\n",
    "    # 1. Use daily precipitation /24 to estimate missing hourly precipitation\n",
    "    hour.loc[hour.hourlyprecipitation.isnull()==True,'hourlyprecipitation']=hour.loc[hour.hourlyprecipitation.isnull()==True,'dailyprecipitation']/24\n",
    "    # 2. use average of windows to fill the missing value\n",
    "    roll=pd.DataFrame(hour.hourlyprecipitation.rolling(window=24,min_periods=1).mean())\n",
    "    roll.columns=['hourlyprecipitation_roll']\n",
    "    hour=pd.merge(hour,roll,left_index=True,right_index=True)\n",
    "    hour.loc[((hour['hourlyprecipitation'].isnull()==True)  \\\n",
    "             & (hour['hourlyprecipitation_roll'].isnull()==False)),'hourlyprecipitation'] \\\n",
    "            = hour.loc[((hour['hourlyprecipitation'].isnull()==True)  \\\n",
    "             & (hour['hourlyprecipitation_roll'].isnull()==False)),'hourlyprecipitation_roll'] \n",
    "    # 3. the rest fill with 0\n",
    "    hour.loc[(hour['hourlyprecipitation'].isnull()==True),'hourlyprecipitation']=0\n",
    "    del hour['dailyprecipitation'],hour['hourlyprecipitation_roll']\n",
    "    #sustained wind speed\n",
    "    hour['ymd']=hour.date.dt.strftime('%Y-%m-%d')\n",
    "    new=pd.DataFrame(hour.groupby('ymd')['dailysustainedwindspeed'].mean())\n",
    "    new.columns=['sustainedwindspeed']\n",
    "    new=new.reset_index()\n",
    "    hour=pd.merge(hour,new,on='ymd')\n",
    "    del hour['dailysustainedwindspeed'],hour['ymd']\n",
    "    \n",
    "    hour=hour.reset_index(drop=True) #avoid repetitive index\n",
    "    daily=daily.reset_index() #index is date   \n",
    "    return hour, daily\n",
    "\n",
    "hour=load_and_clean_weather_data()[0]\n",
    "daily=load_and_clean_weather_data()[1]"
   ]
  },
  {
   "cell_type": "markdown",
   "id": "dd101f11",
   "metadata": {},
   "source": [
    "## Part 2: Storing Cleaned Data\n",
    "\n",
    "1. use SQLAlchemy, create a SQLite database to load in preprocessed datasets;\n",
    "2. create and populate 4 tables: one for sampled datasets of Yellow Taxi trips, one for Uber trips, one for hourly weather information, and one for daily weather information. \n",
    "3. create a schema.sql file that defines each table’s schema. "
   ]
  },
  {
   "cell_type": "code",
   "execution_count": null,
   "id": "5a0ffe88",
   "metadata": {},
   "outputs": [],
   "source": [
    "engine = db.create_engine(DATABASE_URL)"
   ]
  },
  {
   "cell_type": "code",
   "execution_count": null,
   "id": "f10cb6fb",
   "metadata": {},
   "outputs": [],
   "source": [
    "HOURLY_WEATHER_SCHEMA = \"\"\"\n",
    "CREATE TABLE IF NOT EXISTS hourly_weather (\n",
    "    id INTEGER PRIMARY KEY,\n",
    "    date TEXT,\n",
    "    hourlyprecipitation FLOAT,\n",
    "    sustainedwindspeed FLOAT\n",
    ");\n",
    "\"\"\"\n",
    "\n",
    "DAILY_WEATHER_SCHEMA = \"\"\"\n",
    "CREATE TABLE IF NOT EXISTS daily_weather (\n",
    "    id INTEGER PRIMARY KEY,\n",
    "    date TEXT,\n",
    "    dailyaveragewindspeed FLOAT\n",
    ");\n",
    "\"\"\"\n",
    "\n",
    "TAXI_TRIPS_SCHEMA = \"\"\"\n",
    "CREATE TABLE IF NOT EXISTS taxi (\n",
    "    id INTEGER PRIMARY KEY,\n",
    "    month INTEGER,\n",
    "    hour INTEGER,\n",
    "    year INTEGER,\n",
    "    pickup_datetime TEXT,\n",
    "    dropoff_datetime TEXT,\n",
    "    pickup_latitude FLOAT, \n",
    "    pickup_longitude FLOAT,\n",
    "    dropoff_latitude FLOAT,\n",
    "    dropoff_longitude FLOAT,\n",
    "    distance FLOAT,\n",
    "    tip FLOAT,\n",
    "    passenger_count INTEGER\n",
    ");\n",
    "\"\"\"\n",
    "\n",
    "UBER_TRIPS_SCHEMA = \"\"\"\n",
    "CREATE TABLE IF NOT EXISTS uber (\n",
    "    id INTEGER PRIMARY KEY,\n",
    "    pickup_datetime TEXT,\n",
    "    pickup_longitude FLOAT,\n",
    "    pickup_latitude FLOAT,  \n",
    "    dropoff_longitude FLOAT,\n",
    "    dropoff_latitude FLOAT,\n",
    "    passenger_count INTEGER,\n",
    "    date TEXT,\n",
    "    week INTEGER,\n",
    "    distance FLOAT\n",
    ");\n",
    "\"\"\"\n",
    " "
   ]
  },
  {
   "cell_type": "code",
   "execution_count": null,
   "id": "5f41e54b",
   "metadata": {},
   "outputs": [],
   "source": [
    "# create that required schema.sql file\n",
    "with open(DATABASE_SCHEMA_FILE, \"w\") as f:\n",
    "    f.write(HOURLY_WEATHER_SCHEMA)\n",
    "    f.write(DAILY_WEATHER_SCHEMA)\n",
    "    f.write(TAXI_TRIPS_SCHEMA)\n",
    "    f.write(UBER_TRIPS_SCHEMA)"
   ]
  },
  {
   "cell_type": "code",
   "execution_count": null,
   "id": "02eccdba",
   "metadata": {},
   "outputs": [],
   "source": [
    "# create the tables with the schema files\n",
    "with engine.connect() as connection:\n",
    "    connection.execute(HOURLY_WEATHER_SCHEMA)\n",
    "    connection.execute(DAILY_WEATHER_SCHEMA)\n",
    "    connection.execute(TAXI_TRIPS_SCHEMA)\n",
    "    connection.execute(UBER_TRIPS_SCHEMA)"
   ]
  },
  {
   "cell_type": "markdown",
   "id": "c122964f",
   "metadata": {},
   "source": [
    "### Add Data to Database\n",
    "\n",
    "1. define function to insert data from dataframe to SQL database\n",
    "2. use dictionary to store data and data name\n",
    "3. add data to database"
   ]
  },
  {
   "cell_type": "code",
   "execution_count": null,
   "id": "0e68a363",
   "metadata": {},
   "outputs": [],
   "source": [
    "def write_dataframes_to_table(table_to_df_dict):\n",
    "    for k,v in map_table_name_to_dataframe.items():\n",
    "        v.to_sql(k,con=engine,if_exists='append',index_label='id')  "
   ]
  },
  {
   "cell_type": "code",
   "execution_count": null,
   "id": "45d6c06c",
   "metadata": {},
   "outputs": [
    {
     "ename": "NameError",
     "evalue": "name 'taxi_data' is not defined",
     "output_type": "error",
     "traceback": [
      "\u001b[0;31m---------------------------------------------------------------------------\u001b[0m",
      "\u001b[0;31mNameError\u001b[0m                                 Traceback (most recent call last)",
      "\u001b[0;32m/var/folders/p4/sv10h0nj4fvdmhp5bc5890900000gn/T/ipykernel_3934/161304574.py\u001b[0m in \u001b[0;36m<module>\u001b[0;34m\u001b[0m\n\u001b[1;32m      1\u001b[0m map_table_name_to_dataframe = {\n\u001b[0;32m----> 2\u001b[0;31m     \u001b[0;34m\"taxi\"\u001b[0m\u001b[0;34m:\u001b[0m \u001b[0mtaxi_data\u001b[0m\u001b[0;34m,\u001b[0m\u001b[0;34m\u001b[0m\u001b[0;34m\u001b[0m\u001b[0m\n\u001b[0m\u001b[1;32m      3\u001b[0m     \u001b[0;34m\"uber\"\u001b[0m\u001b[0;34m:\u001b[0m \u001b[0muber_data\u001b[0m\u001b[0;34m,\u001b[0m\u001b[0;34m\u001b[0m\u001b[0;34m\u001b[0m\u001b[0m\n\u001b[1;32m      4\u001b[0m     \u001b[0;34m\"hourly_weather\"\u001b[0m\u001b[0;34m:\u001b[0m \u001b[0mhour\u001b[0m\u001b[0;34m,\u001b[0m\u001b[0;34m\u001b[0m\u001b[0;34m\u001b[0m\u001b[0m\n\u001b[1;32m      5\u001b[0m     \u001b[0;34m\"daily_weather\"\u001b[0m\u001b[0;34m:\u001b[0m \u001b[0mdaily\u001b[0m\u001b[0;34m,\u001b[0m\u001b[0;34m\u001b[0m\u001b[0;34m\u001b[0m\u001b[0m\n",
      "\u001b[0;31mNameError\u001b[0m: name 'taxi_data' is not defined"
     ]
    }
   ],
   "source": [
    "map_table_name_to_dataframe = {\n",
    "    \"taxi\": taxi_data,\n",
    "    \"uber\": uber_data,\n",
    "    \"hourly_weather\": hour,\n",
    "    \"daily_weather\": daily,\n",
    "}"
   ]
  },
  {
   "cell_type": "code",
   "execution_count": null,
   "id": "74004f96",
   "metadata": {},
   "outputs": [],
   "source": [
    "write_dataframes_to_table(map_table_name_to_dataframe)"
   ]
  },
  {
   "cell_type": "markdown",
   "id": "8cb6e33e",
   "metadata": {},
   "source": [
    "## Part 3: Understanding the Data"
   ]
  },
  {
   "cell_type": "code",
   "execution_count": null,
   "id": "6a849e92",
   "metadata": {},
   "outputs": [],
   "source": [
    "def write_query_to_file(query, outfile):\n",
    "    with open(outfile, 'w') as file:\n",
    "        file.write(query)"
   ]
  },
  {
   "cell_type": "markdown",
   "id": "ee70a777",
   "metadata": {},
   "source": [
    "### Query N\n",
    "\n",
    "1. define a SQL query for each of the following questions - one query per question. \n",
    "2. Save each query as a .sql file, naming it something illustrative of what the query is for, e.g. top_10_hottest_days.sql."
   ]
  },
  {
   "attachments": {},
   "cell_type": "markdown",
   "id": "87b47d85",
   "metadata": {},
   "source": [
    "$Question \\ 1$\n",
    "\n",
    "$\\text{For 01-2009 through 06-2015, what hour of the day was the most popular to take a yellow taxi? The result should have 24 bins.}$"
   ]
  },
  {
   "cell_type": "code",
   "execution_count": null,
   "id": "2b8de431",
   "metadata": {},
   "outputs": [],
   "source": [
    "QUERY_1=\"\"\"\n",
    "SELECT hour,COUNT(hour) FROM taxi\n",
    "WHERE pickup_datetime BETWEEN \"2009-01-01\" AND \"2015-07-01\"\n",
    "GROUP BY hour\n",
    "ORDER BY COUNT(hour) DESC\n",
    "\"\"\""
   ]
  },
  {
   "cell_type": "code",
   "execution_count": null,
   "id": "7bc13043",
   "metadata": {},
   "outputs": [
    {
     "data": {
      "text/plain": [
       "[(19, 6024),\n",
       " (20, 5698),\n",
       " (18, 5648),\n",
       " (21, 5453),\n",
       " (22, 5178),\n",
       " (14, 4872),\n",
       " (12, 4729),\n",
       " (17, 4698),\n",
       " (23, 4581),\n",
       " (15, 4542),\n",
       " (13, 4538),\n",
       " (8, 4446),\n",
       " (11, 4385),\n",
       " (9, 4380),\n",
       " (10, 4176),\n",
       " (16, 4040),\n",
       " (0, 3763),\n",
       " (7, 3515),\n",
       " (1, 2869),\n",
       " (2, 2002),\n",
       " (6, 1990),\n",
       " (3, 1561),\n",
       " (4, 1099),\n",
       " (5, 947)]"
      ]
     },
     "execution_count": 43,
     "metadata": {},
     "output_type": "execute_result"
    }
   ],
   "source": [
    "engine.execute(QUERY_1).fetchall()"
   ]
  },
  {
   "cell_type": "code",
   "execution_count": null,
   "id": "97e22bcb",
   "metadata": {},
   "outputs": [],
   "source": [
    "write_query_to_file(QUERY_1, \"popular_hour_of_day_taxi.sql\")"
   ]
  },
  {
   "cell_type": "markdown",
   "id": "91a24ae7",
   "metadata": {},
   "source": [
    "$Question \\ 2$\n",
    "\n",
    "From 01-2009 to 06-2015, what day of the week was the most popular to take an uber? The result should have 7 bins.\n",
    "1. Select uber data between 2019-01-01 and 2015-06-30\n",
    "2. Count the frequency of the day of the week\n"
   ]
  },
  {
   "cell_type": "code",
   "execution_count": null,
   "id": "c5275f3a",
   "metadata": {},
   "outputs": [],
   "source": [
    "QUERY_2 = \"\"\"\n",
    "SELECT week, COUNT(week) FROM (SELECT DISTINCT week,date FROM uber\n",
    "WHERE date BETWEEN \"2009-01-01\" AND \"2015-07-01\" )\n",
    "GROUP BY week\n",
    "ORDER BY COUNT(week) DESC\n",
    "\"\"\""
   ]
  },
  {
   "cell_type": "code",
   "execution_count": null,
   "id": "c660b72d",
   "metadata": {},
   "outputs": [
    {
     "data": {
      "text/plain": [
       "[(7, 339), (6, 339), (5, 339), (4, 339), (2, 339), (1, 339), (3, 338)]"
      ]
     },
     "execution_count": 46,
     "metadata": {},
     "output_type": "execute_result"
    }
   ],
   "source": [
    "engine.execute(QUERY_2).fetchall()"
   ]
  },
  {
   "cell_type": "code",
   "execution_count": null,
   "id": "a2ef04df",
   "metadata": {},
   "outputs": [],
   "source": [
    "write_query_to_file(QUERY_2, \"popular_day_of_week_uber.sql\")"
   ]
  },
  {
   "attachments": {},
   "cell_type": "markdown",
   "id": "c480a072",
   "metadata": {},
   "source": [
    "### $ Question \\ 3$\n",
    "\n",
    "What is the 95% percentile of distance traveled for all hired trips during July 2013?\n",
    "1. Select uber data and taxi data during July 2013\n",
    "2. Select 95% percentile of distance, which is calculated manually with LIMIT and OFFSET"
   ]
  },
  {
   "cell_type": "code",
   "execution_count": null,
   "id": "d98e991c",
   "metadata": {},
   "outputs": [],
   "source": [
    "QUERY_3=\"\"\"\n",
    "WITH two AS \n",
    "(SELECT pickup_datetime,distance FROM uber\n",
    "WHERE \"2013-06-30T00:00\"< pickup_datetime AND pickup_datetime < '2013-07-31T00:00:00'\n",
    "UNION ALL\n",
    "SELECT pickup_datetime,distance FROM taxi\n",
    "WHERE \"2013-06-30T00:00\"<pickup_datetime AND pickup_datetime < '2013-07-31T00:00:00')\n",
    "\n",
    "SELECT distance AS '95%distance'FROM two\n",
    "ORDER BY distance \n",
    "LIMIT 1\n",
    "OFFSET (SELECT COUNT(*)\n",
    "        FROM two) * 95 / 100 - 1 ;\n",
    "\"\"\""
   ]
  },
  {
   "cell_type": "code",
   "execution_count": null,
   "id": "2961d60b",
   "metadata": {},
   "outputs": [
    {
     "data": {
      "text/plain": [
       "[(10.219292783094737,)]"
      ]
     },
     "execution_count": 49,
     "metadata": {},
     "output_type": "execute_result"
    }
   ],
   "source": [
    "engine.execute(QUERY_3).fetchall()"
   ]
  },
  {
   "cell_type": "code",
   "execution_count": null,
   "id": "baad0b80",
   "metadata": {},
   "outputs": [],
   "source": [
    "write_query_to_file(QUERY_3, \"95%percentile_distance.sql\")"
   ]
  },
  {
   "attachments": {},
   "cell_type": "markdown",
   "id": "d0c2ad42",
   "metadata": {},
   "source": [
    "$Question \\ 4$\n",
    "\n",
    "$\\text{What were the top 10 days with the highest number of hired rides for 2009, and what was the average distance for each day?}$"
   ]
  },
  {
   "cell_type": "code",
   "execution_count": null,
   "id": "b080819d",
   "metadata": {},
   "outputs": [],
   "source": [
    "QUERY_4 = \"\"\"\n",
    "WITH RECURSIVE ride AS ( \n",
    "SELECT id,pickup_datetime,distance\n",
    "FROM taxi\n",
    "WHERE \"2009-01-1\"< pickup_datetime AND pickup_datetime < '2010-01-01'\n",
    "UNION ALL\n",
    "SELECT id,pickup_datetime, distance\n",
    "FROM uber\n",
    "WHERE \"2009-01-1\"< pickup_datetime AND pickup_datetime < '2010-01-01'\n",
    ")\n",
    "\n",
    "SELECT DATE(pickup_datetime),COUNT(id),avg(distance) FROM ride\n",
    "GROUP BY DATE(pickup_datetime)\n",
    "ORDER BY COUNT(id) DESC\n",
    "LIMIT 10\n",
    "\"\"\""
   ]
  },
  {
   "cell_type": "code",
   "execution_count": null,
   "id": "07d183c7",
   "metadata": {},
   "outputs": [
    {
     "data": {
      "text/plain": [
       "[('2009-12-11', 189, 2.606385882154224),\n",
       " ('2009-10-23', 172, 2.608186935880316),\n",
       " ('2009-04-18', 165, 3.2159688165794575),\n",
       " ('2009-08-14', 164, 3.384805254622663),\n",
       " ('2009-02-20', 164, 2.806243621671769),\n",
       " ('2009-12-05', 162, 2.7137411406884704),\n",
       " ('2009-11-05', 160, 2.902796690455225),\n",
       " ('2009-03-19', 160, 3.086773537826006),\n",
       " ('2009-07-09', 158, 3.4255733465502174),\n",
       " ('2009-07-23', 157, 3.407106718976078)]"
      ]
     },
     "execution_count": 52,
     "metadata": {},
     "output_type": "execute_result"
    }
   ],
   "source": [
    "engine.execute(QUERY_4).fetchall()"
   ]
  },
  {
   "cell_type": "code",
   "execution_count": null,
   "id": "bdf91423",
   "metadata": {},
   "outputs": [],
   "source": [
    "write_query_to_file(QUERY_4, \"top10days_rides_and_distance.sql\")"
   ]
  },
  {
   "cell_type": "markdown",
   "id": "82b89144",
   "metadata": {},
   "source": [
    "### $Question \\ 5$\n",
    "\n",
    "Which 10 days in 2014 were the windiest, and how many hired trips were made on those days?\n",
    "1. Select uber data and taxi data in year 2014 to calculate the number of hired trips each day\n",
    "2. Join the daily weather data using the date variable\n",
    "3. Sort the data by the average wind speed in decreasing order and limit the top 10 days\n"
   ]
  },
  {
   "cell_type": "code",
   "execution_count": null,
   "id": "99d06ac4",
   "metadata": {},
   "outputs": [],
   "source": [
    "#peak wind speed\n",
    "QUERY_5 = \"\"\"\n",
    "WITH ride AS\n",
    "(SELECT DATE(pickup_datetime) AS date, count(pickup_datetime) AS count from (SELECT pickup_datetime FROM uber\n",
    "WHERE \"2013-12-31T00:00\"< pickup_datetime AND pickup_datetime < '2014-12-31T00:00:00'\n",
    "UNION ALL\n",
    "SELECT pickup_datetime FROM taxi\n",
    "WHERE \"2013-12-31T00:00\"<pickup_datetime AND pickup_datetime < '2014-12-31T00:00:00')\n",
    "GROUP BY DATE(pickup_datetime))\n",
    "\n",
    "SELECT * FROM(SELECT DATE(daily_weather.date) AS date, daily_weather.dailyaveragewindspeed, \n",
    "daily_weather.dailypeakwindspeed, ride.count\n",
    "FROM daily_weather \n",
    "LEFT OUTER JOIN ride \n",
    "ON DATE(daily_weather.date)=DATE(ride.date)\n",
    "ORDER BY daily_weather.dailypeakwindspeed DESC\n",
    "LIMIT 10\n",
    ")\n",
    "\"\"\""
   ]
  },
  {
   "cell_type": "code",
   "execution_count": null,
   "id": "9a0b9ceb",
   "metadata": {},
   "outputs": [
    {
     "data": {
      "text/plain": [
       "[('2014-03-13', 14.1, 40.0, 157),\n",
       " ('2014-12-07', 11.8, 40.0, 111),\n",
       " ('2014-02-13', 12.6, 39.0, 107),\n",
       " ('2014-02-27', 8.4, 39.0, 151),\n",
       " ('2014-01-07', 13.1, 38.0, 122),\n",
       " ('2014-02-14', 10.4, 38.0, 114),\n",
       " ('2014-03-26', 11.9, 38.0, 138),\n",
       " ('2014-04-05', 8.4, 36.0, 139),\n",
       " ('2014-04-23', 9.4, 36.0, 122),\n",
       " ('2014-11-02', 10.8, 36.0, 131)]"
      ]
     },
     "execution_count": 55,
     "metadata": {},
     "output_type": "execute_result"
    }
   ],
   "source": [
    "engine.execute(QUERY_5).fetchall()"
   ]
  },
  {
   "cell_type": "code",
   "execution_count": null,
   "id": "b6cc2eaa",
   "metadata": {},
   "outputs": [],
   "source": [
    "#average wind speed\n",
    "QUERY_5 = \"\"\"\n",
    "WITH ride AS\n",
    "(SELECT DATE(pickup_datetime) AS date, count(pickup_datetime) AS count from (SELECT pickup_datetime FROM uber\n",
    "WHERE \"2013-12-31T00:00\"< pickup_datetime AND pickup_datetime < '2014-12-31T00:00:00'\n",
    "UNION ALL\n",
    "SELECT pickup_datetime FROM taxi\n",
    "WHERE \"2013-12-31T00:00\"<pickup_datetime AND pickup_datetime < '2014-12-31T00:00:00')\n",
    "GROUP BY DATE(pickup_datetime))\n",
    "\n",
    "SELECT * FROM(SELECT DATE(daily_weather.date) AS date, daily_weather.dailyaveragewindspeed, \n",
    "daily_weather.dailypeakwindspeed, ride.count\n",
    "FROM daily_weather \n",
    "LEFT OUTER JOIN ride \n",
    "ON DATE(daily_weather.date)=DATE(ride.date)\n",
    "ORDER BY daily_weather.dailyaveragewindspeed DESC\n",
    "LIMIT 10\n",
    ")\n",
    "\"\"\""
   ]
  },
  {
   "cell_type": "code",
   "execution_count": null,
   "id": "72b2caf0",
   "metadata": {},
   "outputs": [
    {
     "data": {
      "text/plain": [
       "[('2014-03-13', 14.1, 40.0, 157),\n",
       " ('2014-01-07', 13.1, 38.0, 122),\n",
       " ('2014-02-13', 12.6, 39.0, 107),\n",
       " ('2014-01-02', 12.2, 28.0, 94),\n",
       " ('2014-03-26', 11.9, 38.0, 138),\n",
       " ('2014-12-07', 11.8, 40.0, 111),\n",
       " ('2014-12-08', 11.5, 29.0, 112),\n",
       " ('2014-03-29', 10.8, 35.0, 142),\n",
       " ('2014-11-02', 10.8, 36.0, 131),\n",
       " ('2014-01-03', 10.4, 29.0, 62)]"
      ]
     },
     "execution_count": 57,
     "metadata": {},
     "output_type": "execute_result"
    }
   ],
   "source": [
    "engine.execute(QUERY_5).fetchall()"
   ]
  },
  {
   "cell_type": "code",
   "execution_count": null,
   "id": "4779542b",
   "metadata": {},
   "outputs": [],
   "source": [
    "write_query_to_file(QUERY_5, \"top10_windest_hiredtrips.sql\")"
   ]
  },
  {
   "attachments": {},
   "cell_type": "markdown",
   "id": "a259149a",
   "metadata": {},
   "source": [
    "$Question \\ 6$\n",
    "\n",
    "$\\text{During Hurricane Sandy in NYC (Oct 29-30, 2012) and the week leading up to it,}$ \n",
    "$\\text{how many trips were taken each hour, and for each hour, how much precipitation did NYC receive and what was the sustained wind speed?}$"
   ]
  },
  {
   "cell_type": "code",
   "execution_count": null,
   "id": "52d79259",
   "metadata": {},
   "outputs": [],
   "source": [
    "QUERY_6 = \"\"\"\n",
    "WITH RECURSIVE ride AS ( \n",
    "SELECT COUNT(id),strftime (\"%Y-%m-%d %H\",pickup_datetime) AS Hour\n",
    "FROM taxi\n",
    "WHERE \"2012-10-22\"< pickup_datetime AND pickup_datetime < '2012-10-31'\n",
    "UNION ALL\n",
    "SELECT COUNT(id), strftime (\"%Y-%m-%d %H\",pickup_datetime) AS Hour\n",
    "FROM uber\n",
    "WHERE \"2012-10-22\"< pickup_datetime AND pickup_datetime < '2012-10-31'\n",
    "GROUP BY Hour\n",
    "ORDER BY Hour\n",
    ")\n",
    "Select * FROM ride\n",
    "JOIN  (select strftime (\"%Y-%m-%d %H\",date) AS H ,hourlyprecipitation,sustainedwindspeed from hourly_weather) on Hour = H\n",
    "\n",
    "\"\"\""
   ]
  },
  {
   "cell_type": "code",
   "execution_count": null,
   "id": "b3c73372",
   "metadata": {},
   "outputs": [
    {
     "data": {
      "text/plain": [
       "[(2, '2012-10-22 00', '2012-10-22 00', 0.0, 13.0),\n",
       " (1, '2012-10-22 02', '2012-10-22 02', 0.0, 13.0),\n",
       " (1, '2012-10-22 03', '2012-10-22 03', 0.0, 13.0),\n",
       " (1, '2012-10-22 05', '2012-10-22 05', 0.0, 13.0),\n",
       " (3, '2012-10-22 06', '2012-10-22 06', 0.0, 13.0),\n",
       " (319, '2012-10-22 06', '2012-10-22 06', 0.0, 13.0),\n",
       " (5, '2012-10-22 07', '2012-10-22 07', 0.0, 13.0),\n",
       " (1, '2012-10-22 08', '2012-10-22 08', 0.0, 13.0),\n",
       " (5, '2012-10-22 09', '2012-10-22 09', 0.0, 13.0),\n",
       " (3, '2012-10-22 10', '2012-10-22 10', 0.0, 13.0),\n",
       " (8, '2012-10-22 11', '2012-10-22 11', 0.0, 13.0),\n",
       " (5, '2012-10-22 12', '2012-10-22 12', 0.0, 13.0),\n",
       " (8, '2012-10-22 13', '2012-10-22 13', 0.0, 13.0),\n",
       " (1, '2012-10-22 14', '2012-10-22 14', 0.0, 13.0),\n",
       " (1, '2012-10-22 15', '2012-10-22 15', 0.0, 13.0),\n",
       " (6, '2012-10-22 16', '2012-10-22 16', 0.0, 13.0),\n",
       " (4, '2012-10-22 17', '2012-10-22 17', 0.0, 13.0),\n",
       " (8, '2012-10-22 18', '2012-10-22 18', 0.0, 13.0),\n",
       " (2, '2012-10-22 19', '2012-10-22 19', 0.0, 13.0),\n",
       " (4, '2012-10-22 20', '2012-10-22 20', 0.0, 13.0),\n",
       " (1, '2012-10-22 21', '2012-10-22 21', 0.0, 13.0),\n",
       " (6, '2012-10-22 22', '2012-10-22 22', 0.0, 13.0),\n",
       " (2, '2012-10-23 00', '2012-10-23 00', 0.0, 8.0),\n",
       " (1, '2012-10-23 01', '2012-10-23 01', 0.0, 8.0),\n",
       " (2, '2012-10-23 05', '2012-10-23 05', 0.0, 8.0),\n",
       " (2, '2012-10-23 06', '2012-10-23 06', 0.0, 8.0),\n",
       " (7, '2012-10-23 07', '2012-10-23 07', 0.0, 8.0),\n",
       " (8, '2012-10-23 08', '2012-10-23 08', 0.0, 8.0),\n",
       " (5, '2012-10-23 09', '2012-10-23 09', 0.0, 8.0),\n",
       " (7, '2012-10-23 10', '2012-10-23 10', 0.0, 8.0),\n",
       " (6, '2012-10-23 11', '2012-10-23 11', 0.0, 8.0),\n",
       " (1, '2012-10-23 12', '2012-10-23 12', 0.0, 8.0),\n",
       " (5, '2012-10-23 13', '2012-10-23 13', 0.0, 8.0),\n",
       " (8, '2012-10-23 14', '2012-10-23 14', 0.0, 8.0),\n",
       " (4, '2012-10-23 15', '2012-10-23 15', 0.0, 8.0),\n",
       " (1, '2012-10-23 16', '2012-10-23 16', 0.0, 8.0),\n",
       " (5, '2012-10-23 18', '2012-10-23 18', 0.0, 8.0),\n",
       " (2, '2012-10-23 19', '2012-10-23 19', 0.0, 8.0),\n",
       " (8, '2012-10-23 20', '2012-10-23 20', 0.02, 8.0),\n",
       " (4, '2012-10-23 21', '2012-10-23 21', 0.0, 8.0),\n",
       " (6, '2012-10-23 22', '2012-10-23 22', 0.01, 8.0),\n",
       " (3, '2012-10-23 23', '2012-10-23 23', 0.0, 8.0),\n",
       " (4, '2012-10-24 02', '2012-10-24 02', 0.0, 10.0),\n",
       " (2, '2012-10-24 05', '2012-10-24 05', 0.0, 10.0),\n",
       " (1, '2012-10-24 07', '2012-10-24 07', 0.0, 10.0),\n",
       " (2, '2012-10-24 08', '2012-10-24 08', 0.0, 10.0),\n",
       " (4, '2012-10-24 09', '2012-10-24 09', 0.0, 10.0),\n",
       " (2, '2012-10-24 10', '2012-10-24 10', 0.0, 10.0),\n",
       " (4, '2012-10-24 11', '2012-10-24 11', 0.0, 10.0),\n",
       " (3, '2012-10-24 12', '2012-10-24 12', 0.0, 10.0),\n",
       " (4, '2012-10-24 13', '2012-10-24 13', 0.0, 10.0),\n",
       " (2, '2012-10-24 14', '2012-10-24 14', 0.0, 10.0),\n",
       " (4, '2012-10-24 15', '2012-10-24 15', 0.0, 10.0),\n",
       " (2, '2012-10-24 16', '2012-10-24 16', 0.0, 10.0),\n",
       " (5, '2012-10-24 17', '2012-10-24 17', 0.0, 10.0),\n",
       " (4, '2012-10-24 18', '2012-10-24 18', 0.0, 10.0),\n",
       " (5, '2012-10-24 19', '2012-10-24 19', 0.0, 10.0),\n",
       " (7, '2012-10-24 20', '2012-10-24 20', 0.0, 10.0),\n",
       " (7, '2012-10-24 21', '2012-10-24 21', 0.0, 10.0),\n",
       " (5, '2012-10-24 22', '2012-10-24 22', 0.0, 10.0),\n",
       " (3, '2012-10-24 23', '2012-10-24 23', 0.0, 10.0),\n",
       " (5, '2012-10-25 00', '2012-10-25 00', 0.0, 8.0),\n",
       " (1, '2012-10-25 01', '2012-10-25 01', 0.0, 8.0),\n",
       " (2, '2012-10-25 02', '2012-10-25 02', 0.0, 8.0),\n",
       " (1, '2012-10-25 04', '2012-10-25 04', 0.0, 8.0),\n",
       " (2, '2012-10-25 05', '2012-10-25 05', 0.0, 8.0),\n",
       " (4, '2012-10-25 06', '2012-10-25 06', 0.0, 8.0),\n",
       " (3, '2012-10-25 07', '2012-10-25 07', 0.0, 8.0),\n",
       " (6, '2012-10-25 08', '2012-10-25 08', 0.0, 8.0),\n",
       " (2, '2012-10-25 09', '2012-10-25 09', 0.0, 8.0),\n",
       " (4, '2012-10-25 10', '2012-10-25 10', 0.0, 8.0),\n",
       " (5, '2012-10-25 11', '2012-10-25 11', 0.0, 8.0),\n",
       " (7, '2012-10-25 12', '2012-10-25 12', 0.0, 8.0),\n",
       " (3, '2012-10-25 13', '2012-10-25 13', 0.0, 8.0),\n",
       " (3, '2012-10-25 14', '2012-10-25 14', 0.0, 8.0),\n",
       " (5, '2012-10-25 15', '2012-10-25 15', 0.0, 8.0),\n",
       " (1, '2012-10-25 16', '2012-10-25 16', 0.0, 8.0),\n",
       " (4, '2012-10-25 17', '2012-10-25 17', 0.0, 8.0),\n",
       " (4, '2012-10-25 18', '2012-10-25 18', 0.0, 8.0),\n",
       " (1, '2012-10-25 19', '2012-10-25 19', 0.0, 8.0),\n",
       " (13, '2012-10-25 20', '2012-10-25 20', 0.0, 8.0),\n",
       " (8, '2012-10-25 21', '2012-10-25 21', 0.0, 8.0),\n",
       " (6, '2012-10-25 22', '2012-10-25 22', 0.0, 8.0),\n",
       " (3, '2012-10-25 23', '2012-10-25 23', 0.0, 8.0),\n",
       " (2, '2012-10-26 00', '2012-10-26 00', 0.0, 6.0),\n",
       " (1, '2012-10-26 01', '2012-10-26 01', 0.0, 6.0),\n",
       " (3, '2012-10-26 02', '2012-10-26 02', 0.0, 6.0),\n",
       " (2, '2012-10-26 03', '2012-10-26 03', 0.0, 6.0),\n",
       " (2, '2012-10-26 04', '2012-10-26 04', 0.0, 6.0),\n",
       " (1, '2012-10-26 05', '2012-10-26 05', 0.0, 6.0),\n",
       " (4, '2012-10-26 07', '2012-10-26 07', 0.0, 6.0),\n",
       " (7, '2012-10-26 09', '2012-10-26 09', 0.0, 6.0),\n",
       " (3, '2012-10-26 10', '2012-10-26 10', 0.0, 6.0),\n",
       " (4, '2012-10-26 11', '2012-10-26 11', 0.0, 6.0),\n",
       " (2, '2012-10-26 12', '2012-10-26 12', 0.0, 6.0),\n",
       " (7, '2012-10-26 13', '2012-10-26 13', 0.0, 6.0),\n",
       " (5, '2012-10-26 14', '2012-10-26 14', 0.0, 6.0),\n",
       " (3, '2012-10-26 15', '2012-10-26 15', 0.0, 6.0),\n",
       " (2, '2012-10-26 16', '2012-10-26 16', 0.0, 6.0),\n",
       " (3, '2012-10-26 17', '2012-10-26 17', 0.0, 6.0),\n",
       " (3, '2012-10-26 18', '2012-10-26 18', 0.0, 6.0),\n",
       " (5, '2012-10-26 19', '2012-10-26 19', 0.0, 6.0),\n",
       " (10, '2012-10-26 20', '2012-10-26 20', 0.0, 6.0),\n",
       " (4, '2012-10-26 21', '2012-10-26 21', 0.0, 6.0),\n",
       " (8, '2012-10-26 22', '2012-10-26 22', 0.0, 6.0),\n",
       " (4, '2012-10-26 23', '2012-10-26 23', 0.0, 6.0),\n",
       " (6, '2012-10-27 00', '2012-10-27 00', 0.0, 15.0),\n",
       " (3, '2012-10-27 01', '2012-10-27 01', 0.0, 15.0),\n",
       " (6, '2012-10-27 02', '2012-10-27 02', 0.0, 15.0),\n",
       " (4, '2012-10-27 03', '2012-10-27 03', 0.0, 15.0),\n",
       " (2, '2012-10-27 05', '2012-10-27 05', 0.0, 15.0),\n",
       " (1, '2012-10-27 06', '2012-10-27 06', 0.0, 15.0),\n",
       " (1, '2012-10-27 07', '2012-10-27 07', 0.0, 15.0),\n",
       " (6, '2012-10-27 09', '2012-10-27 09', 0.0, 15.0),\n",
       " (2, '2012-10-27 10', '2012-10-27 10', 0.0, 15.0),\n",
       " (1, '2012-10-27 11', '2012-10-27 11', 0.0, 15.0),\n",
       " (5, '2012-10-27 12', '2012-10-27 12', 0.0, 15.0),\n",
       " (2, '2012-10-27 13', '2012-10-27 13', 0.0, 15.0),\n",
       " (3, '2012-10-27 14', '2012-10-27 14', 0.0, 15.0),\n",
       " (3, '2012-10-27 15', '2012-10-27 15', 0.0, 15.0),\n",
       " (8, '2012-10-27 16', '2012-10-27 16', 0.0, 15.0),\n",
       " (10, '2012-10-27 17', '2012-10-27 17', 0.0, 15.0),\n",
       " (7, '2012-10-27 18', '2012-10-27 18', 0.0, 15.0),\n",
       " (6, '2012-10-27 19', '2012-10-27 19', 0.0, 15.0),\n",
       " (9, '2012-10-27 20', '2012-10-27 20', 0.0, 15.0),\n",
       " (6, '2012-10-27 21', '2012-10-27 21', 0.0, 15.0),\n",
       " (7, '2012-10-27 22', '2012-10-27 22', 0.0, 15.0),\n",
       " (8, '2012-10-27 23', '2012-10-27 23', 0.0, 15.0),\n",
       " (6, '2012-10-28 00', '2012-10-28 00', 0.0, 24.0),\n",
       " (8, '2012-10-28 01', '2012-10-28 01', 0.0, 24.0),\n",
       " (3, '2012-10-28 02', '2012-10-28 02', 0.0, 24.0),\n",
       " (3, '2012-10-28 03', '2012-10-28 03', 0.0, 24.0),\n",
       " (4, '2012-10-28 04', '2012-10-28 04', 0.0, 24.0),\n",
       " (1, '2012-10-28 05', '2012-10-28 05', 0.0, 24.0),\n",
       " (2, '2012-10-28 07', '2012-10-28 07', 0.0, 24.0),\n",
       " (1, '2012-10-28 08', '2012-10-28 08', 0.0, 24.0),\n",
       " (4, '2012-10-28 09', '2012-10-28 09', 0.0, 24.0),\n",
       " (2, '2012-10-28 10', '2012-10-28 10', 0.0, 24.0),\n",
       " (5, '2012-10-28 11', '2012-10-28 11', 0.0, 24.0),\n",
       " (2, '2012-10-28 12', '2012-10-28 12', 0.0, 24.0),\n",
       " (3, '2012-10-28 13', '2012-10-28 13', 0.0, 24.0),\n",
       " (5, '2012-10-28 14', '2012-10-28 14', 0.0, 24.0),\n",
       " (6, '2012-10-28 15', '2012-10-28 15', 0.0, 24.0),\n",
       " (4, '2012-10-28 16', '2012-10-28 16', 0.0, 24.0),\n",
       " (4, '2012-10-28 17', '2012-10-28 17', 0.0, 24.0),\n",
       " (5, '2012-10-28 18', '2012-10-28 18', 0.0, 24.0),\n",
       " (3, '2012-10-28 19', '2012-10-28 19', 0.0, 24.0),\n",
       " (4, '2012-10-28 20', '2012-10-28 20', 0.0, 24.0),\n",
       " (3, '2012-10-28 21', '2012-10-28 21', 0.0, 24.0),\n",
       " (3, '2012-10-28 22', '2012-10-28 22', 0.0, 24.0),\n",
       " (1, '2012-10-28 23', '2012-10-28 23', 0.0, 24.0),\n",
       " (1, '2012-10-29 00', '2012-10-29 00', 0.0, 38.0),\n",
       " (1, '2012-10-29 02', '2012-10-29 02', 0.0, 38.0),\n",
       " (1, '2012-10-29 04', '2012-10-29 04', 0.0, 38.0),\n",
       " (1, '2012-10-29 07', '2012-10-29 07', 0.02, 38.0),\n",
       " (1, '2012-10-29 09', '2012-10-29 09', 0.0, 38.0),\n",
       " (3, '2012-10-29 11', '2012-10-29 11', 0.02, 38.0),\n",
       " (4, '2012-10-29 12', '2012-10-29 12', 0.04, 38.0),\n",
       " (2, '2012-10-29 14', '2012-10-29 14', 0.0333333333333333, 38.0),\n",
       " (2, '2012-10-29 15', '2012-10-29 15', 0.09, 38.0),\n",
       " (1, '2012-10-29 17', '2012-10-29 17', 0.055, 38.0),\n",
       " (3, '2012-10-29 18', '2012-10-29 18', 0.02, 38.0),\n",
       " (1, '2012-10-29 21', '2012-10-29 21', 0.0, 38.0),\n",
       " (1, '2012-10-30 00', '2012-10-30 00', 0.025, 21.0),\n",
       " (1, '2012-10-30 04', '2012-10-30 04', 0.0, 21.0),\n",
       " (2, '2012-10-30 09', '2012-10-30 09', 0.0533333333333333, 21.0),\n",
       " (3, '2012-10-30 10', '2012-10-30 10', 0.02, 21.0),\n",
       " (3, '2012-10-30 11', '2012-10-30 11', 0.0, 21.0),\n",
       " (2, '2012-10-30 12', '2012-10-30 12', 0.0, 21.0),\n",
       " (3, '2012-10-30 13', '2012-10-30 13', 0.0, 21.0),\n",
       " (1, '2012-10-30 14', '2012-10-30 14', 0.0, 21.0),\n",
       " (3, '2012-10-30 15', '2012-10-30 15', 0.0, 21.0),\n",
       " (1, '2012-10-30 16', '2012-10-30 16', 0.01, 21.0),\n",
       " (3, '2012-10-30 17', '2012-10-30 17', 0.0, 21.0),\n",
       " (2, '2012-10-30 18', '2012-10-30 18', 0.0, 21.0),\n",
       " (4, '2012-10-30 19', '2012-10-30 19', 0.0, 21.0),\n",
       " (2, '2012-10-30 20', '2012-10-30 20', 0.0, 21.0),\n",
       " (2, '2012-10-30 21', '2012-10-30 21', 0.0, 21.0),\n",
       " (3, '2012-10-30 22', '2012-10-30 22', 0.0, 21.0),\n",
       " (2, '2012-10-30 23', '2012-10-30 23', 0.0, 21.0)]"
      ]
     },
     "execution_count": 60,
     "metadata": {},
     "output_type": "execute_result"
    }
   ],
   "source": [
    "engine.execute(QUERY_6).fetchall()"
   ]
  },
  {
   "cell_type": "code",
   "execution_count": null,
   "id": "11d65e1b",
   "metadata": {},
   "outputs": [],
   "source": [
    "write_query_to_file(QUERY_6, \"Hurricane_trips_precipitation_windspeed_perhour.sql\")"
   ]
  },
  {
   "attachments": {},
   "cell_type": "markdown",
   "id": "a13ced42",
   "metadata": {},
   "source": [
    "## Part 4: Visualizing the Data"
   ]
  },
  {
   "attachments": {},
   "cell_type": "markdown",
   "id": "f74873d1",
   "metadata": {},
   "source": [
    "### Visualization 1\n",
    "$Question \\ 1$：Create an appropriate visualization for the first query/question in part 3"
   ]
  },
  {
   "cell_type": "code",
   "execution_count": null,
   "id": "27c38b44",
   "metadata": {},
   "outputs": [],
   "source": [
    "def get_taxi_data_popular_hour_of_day():\n",
    "    QUERY=\"\"\"\n",
    "    SELECT hour,COUNT(hour) FROM taxi\n",
    "    WHERE pickup_datetime BETWEEN \"2009-01-01\" AND \"2015-07-01\"\n",
    "    GROUP BY hour\n",
    "    ORDER BY COUNT(hour) DESC\n",
    "    \"\"\" \n",
    "    x=pd.DataFrame(engine.execute(QUERY).fetchall(),columns=[\"Hour\",\"Count\"])\n",
    "    return x"
   ]
  },
  {
   "cell_type": "code",
   "execution_count": null,
   "id": "a6b235f2",
   "metadata": {},
   "outputs": [],
   "source": [
    "def plot_visual_popular_hour_of_day():\n",
    "    x = get_taxi_data_popular_hour_of_day()\n",
    "    plt.bar(x[\"Hour\"],x[\"Count\"])\n",
    "    plt.xlabel(\"Hour of The Day\")\n",
    "    plt.ylabel(\"Count\")\n",
    "    plt.title('The frequency of the hour of the day to take a yellow taxi')\n",
    "    plt.xticks(np.arange(0,24,1))\n",
    "    plt.show()"
   ]
  },
  {
   "cell_type": "code",
   "execution_count": null,
   "id": "c2db08f1",
   "metadata": {},
   "outputs": [
    {
     "data": {
      "image/png": "[encoded data removed]",
      "text/plain": [
       "<Figure size 800x550 with 1 Axes>"
      ]
     },
     "metadata": {},
     "output_type": "display_data"
    }
   ],
   "source": [
    "plot_visual_popular_hour_of_day()"
   ]
  },
  {
   "cell_type": "markdown",
   "id": "6d9eef42",
   "metadata": {},
   "source": [
    "### Visualization 2\n",
    "$Question \\ 2$：\n",
    "Create a visualization that shows the average distance traveled per month (regardless of year - so group by each month). Include the 90% confidence interval around the mean in the visualization\n",
    "\n",
    "\n",
    "Use of the `matplotlib` to visualize and `norm` library to calculate the confidence level. "
   ]
  },
  {
   "cell_type": "markdown",
   "id": "04d09965",
   "metadata": {},
   "source": [
    "Confidence level:\n",
    "\n",
    "Since this data set is very big, so according to the law of large numbers, it approximately follows the normal distribution.\n",
    "\n",
    "$\\big[\\bar Y - z\\times \\frac{s}{\\sqrt{n}}, \\bar Y + z\\times \\frac{s}{\\sqrt{n}}\\big]$"
   ]
  },
  {
   "cell_type": "code",
   "execution_count": null,
   "id": "bb1a3c05",
   "metadata": {},
   "outputs": [],
   "source": [
    "def get_data_for_visual_n(stmt):\n",
    "    df=pd.read_sql(stmt,engine.connect())\n",
    "    return df"
   ]
  },
  {
   "cell_type": "code",
   "execution_count": null,
   "id": "435f2d86",
   "metadata": {},
   "outputs": [],
   "source": [
    "def plot_visual_confidence(dataframe):\n",
    "    fig, ax = plt.subplots(figsize=(6,3))\n",
    "    from scipy.stats import norm\n",
    "    z=norm.ppf(0.9)\n",
    "    x=pd.Series(dataframe.index)\n",
    "    y=dataframe['distance']\n",
    "    s=y.std()\n",
    "    n=dataframe.count()[0]\n",
    "    y_err=z*s/np.sqrt(n)\n",
    "    x_ticks = np.linspace(1, 12, 12)\n",
    "    plt.xticks(x_ticks)\n",
    "    plt.xlabel('Month')\n",
    "    plt.ylabel('Distance')\n",
    "    ax.plot(x,y)\n",
    "    ax.fill_between(x, y - y_err, y + y_err, alpha=0.2)\n",
    "    ax.set_title(\"Confidence level of distanace\")\n",
    "    plt.show()"
   ]
  },
  {
   "cell_type": "code",
   "execution_count": null,
   "id": "c2504ade",
   "metadata": {},
   "outputs": [
    {
     "data": {
      "image/png": "[encoded data removed]",
      "text/plain": [
       "<Figure size 600x300 with 1 Axes>"
      ]
     },
     "metadata": {},
     "output_type": "display_data"
    }
   ],
   "source": [
    "stmt=\"\"\"\n",
    "        SELECT Date(pickup_datetime) AS date,distance FROM uber\n",
    "        UNION \n",
    "        SELECT Date(pickup_datetime) AS date,distance FROM taxi\n",
    "        \"\"\"\n",
    "df2 = get_data_for_visual_n(stmt)\n",
    "df2['date']=pd.to_datetime(df2['date'])\n",
    "df2['month']=pd.DatetimeIndex(df2['date']).month\n",
    "distance_mean=pd.DataFrame(df2.groupby(['month'])['distance'].mean())\n",
    "plot_visual_confidence(distance_mean)"
   ]
  },
  {
   "attachments": {},
   "cell_type": "markdown",
   "id": "699334f2",
   "metadata": {},
   "source": [
    "### Visualization 3\n",
    "$Question \\ 3$：Define three lat/long coordinate boxes around the three major New York airports: LGA, JFK, and EWR (you can use bboxfinder to help). Create a visualization that compares what day of the week was most popular for drop offs for each airport."
   ]
  },
  {
   "cell_type": "code",
   "execution_count": null,
   "id": "304fe0ad",
   "metadata": {},
   "outputs": [],
   "source": [
    "def get_data_for_airports():\n",
    "    LGA_BOX_COORDS=((40.765,-73.8893),(40.7864,-73.8512))\n",
    "    JFK_BOX_COORDS=((40.6211,-73.8232),(40.6648,-73.7484))\n",
    "    EWR_BOX_COORDS=((40.6704,-74.2151),(40.7114,-74.1132))\n",
    "    NEW_YORK_BOX_COORDS = ((40.560445, -74.242330), (40.908524, -73.717047))\n",
    "    \n",
    "    QUERY_LGA=\"\"\"\n",
    "    WITH RECURSIVE ride AS ( \n",
    "        SELECT (strftime (\"%w\",pickup_datetime)+1) AS Day,id, dropoff_longitude, dropoff_latitude FROM taxi\n",
    "        WHERE  40.765<dropoff_latitude AND dropoff_latitude< 40.7864 AND -73.8893 <dropoff_longitude AND dropoff_longitude<-73.8512\n",
    "        UNION ALL\n",
    "        SELECT (strftime (\"%w\",pickup_datetime)+1) AS Day,id,dropoff_longitude, dropoff_latitude FROM uber\n",
    "        WHERE  40.765<dropoff_latitude AND dropoff_latitude< 40.7864 AND -73.8893 <dropoff_longitude AND dropoff_longitude<-73.8512\n",
    "        )\n",
    "    SELECT Day,COUNT(id) FROM ride    \n",
    "    GROUP BY Day\n",
    "    ORDER BY COUNT(id) DESC\n",
    "    \"\"\" \n",
    "    QUERY_JFK=\"\"\"\n",
    "    WITH RECURSIVE ride AS ( \n",
    "        SELECT (strftime (\"%w\",pickup_datetime)+1) AS Day,id, dropoff_longitude, dropoff_latitude \n",
    "        FROM taxi\n",
    "        WHERE  40.6211 <dropoff_latitude AND dropoff_latitude< 40.6648 AND  -73.8232 <dropoff_longitude AND dropoff_longitude< -73.7484\n",
    "        UNION ALL\n",
    "        SELECT (strftime (\"%w\",pickup_datetime)+1) AS Day,id,dropoff_longitude, dropoff_latitude \n",
    "        FROM uber\n",
    "        WHERE  40.6211 <dropoff_latitude AND dropoff_latitude< 40.6648  AND  -73.8232 <dropoff_longitude AND dropoff_longitude< -73.7484\n",
    "        )\n",
    "    SELECT Day,COUNT(id) FROM ride    \n",
    "    GROUP BY Day\n",
    "    ORDER BY COUNT(id) DESC\n",
    "    \"\"\" \n",
    "    QUERY_EWR=\"\"\"\n",
    "    WITH RECURSIVE ride AS ( \n",
    "        SELECT (strftime (\"%w\",pickup_datetime)+1) AS Day,id, dropoff_longitude, dropoff_latitude FROM taxi\n",
    "        WHERE 40.6704<dropoff_latitude AND dropoff_latitude< 40.7214 AND -74.2151 <dropoff_longitude AND dropoff_longitude<-74.1132\n",
    "        UNION ALL\n",
    "        SELECT (strftime (\"%w\",pickup_datetime)+1) AS Day,id,dropoff_longitude, dropoff_latitude FROM uber\n",
    "        WHERE 40.6704<dropoff_latitude AND dropoff_latitude< 40.7214 AND -74.2151 <dropoff_longitude AND dropoff_longitude<-74.1132\n",
    "        )\n",
    "    SELECT Day,COUNT(id) FROM ride    \n",
    "    GROUP BY Day\n",
    "    ORDER BY COUNT(id) DESC\n",
    "     \"\"\" \n",
    "    LGA=pd.DataFrame(engine.execute(QUERY_LGA).fetchall())\n",
    "    LGA.replace([1,2,3,4,5,6,7],[\"Mon\",\"Tue\",\"Wed\",\"Thur\",\"Fri\",\"Sat\",\"Sun\"],inplace=True)\n",
    "    LGA_1=LGA[[\"Day\",\"COUNT(id)\"]].set_index(\"Day\")\n",
    "    \n",
    "    JFK=pd.DataFrame(engine.execute(QUERY_JFK).fetchall())\n",
    "    JFK.replace([1,2,3,4,5,6,7],[\"Mon\",\"Tue\",\"Wed\",\"Thur\",\"Fri\",\"Sat\",\"Sun\"],inplace=True)\n",
    "    JFK_1=JFK[[\"Day\",\"COUNT(id)\"]].set_index(\"Day\")\n",
    "    \n",
    "    EWR=pd.DataFrame(engine.execute(QUERY_EWR).fetchall())\n",
    "    EWR.replace([1,2,3,4,5,6,7],[\"Mon\",\"Tue\",\"Wed\",\"Thur\",\"Fri\",\"Sat\",\"Sun\"],inplace=True)\n",
    "    EWR_1=EWR[[\"Day\",\"COUNT(id)\"]].set_index(\"Day\")\n",
    "    \n",
    "    ALL=pd.concat([LGA_1,JFK_1,EWR_1],axis=1)\n",
    "    ALL.columns=[\"LGA\",\"JFK\",\"EWR\"]\n",
    "    return ALL,LGA_1,JFK_1,EWR_1"
   ]
  },
  {
   "cell_type": "code",
   "execution_count": null,
   "id": "6b7d002f",
   "metadata": {},
   "outputs": [],
   "source": [
    "def plot_visual_popular_day_dropoffs(Location):\n",
    "    ALL,LGA_1,JFK_1,EWR_1 = get_data_for_airports()\n",
    "    if Location == 'LGA':\n",
    "        LGA_1.plot(kind='barh',title=\"LGA\",figsize=(7,5))\n",
    "        plt.xlabel('Numbers of dropoffs')\n",
    "    elif Location == 'JFK':\n",
    "        JFK_1.plot(kind='barh',title=\"JFK\",figsize=(7,5))\n",
    "        plt.xlabel('Numbers of dropoffs')\n",
    "    elif Location == 'EWR':\n",
    "        EWR_1.plot(kind='barh',title=\"EWR\",figsize=(7,5))\n",
    "        plt.xlabel('Numbers of dropoffs')\n",
    "    elif Location == 'ALL':\n",
    "        ALL.plot(kind='bar',figsize=(10,5))\n",
    "        plt.ylabel('Numbers of dropoffs')\n",
    "    else:\n",
    "        Print(\"---Wrong Airport Location---\")"
   ]
  },
  {
   "cell_type": "code",
   "execution_count": null,
   "id": "d109158c",
   "metadata": {},
   "outputs": [
    {
     "data": {
      "image/png": "[encoded data removed]",
      "text/plain": [
       "<Figure size 700x500 with 1 Axes>"
      ]
     },
     "metadata": {},
     "output_type": "display_data"
    }
   ],
   "source": [
    "plot_visual_popular_day_dropoffs(\"LGA\")"
   ]
  },
  {
   "cell_type": "code",
   "execution_count": null,
   "id": "13023fed",
   "metadata": {},
   "outputs": [
    {
     "data": {
      "image/png": "[encoded data removed]",
      "text/plain": [
       "<Figure size 700x500 with 1 Axes>"
      ]
     },
     "metadata": {},
     "output_type": "display_data"
    }
   ],
   "source": [
    "plot_visual_popular_day_dropoffs(\"JFK\")"
   ]
  },
  {
   "cell_type": "code",
   "execution_count": null,
   "id": "3e2b8c0f",
   "metadata": {},
   "outputs": [
    {
     "data": {
      "image/png": "[encoded data removed]",
      "text/plain": [
       "<Figure size 700x500 with 1 Axes>"
      ]
     },
     "metadata": {},
     "output_type": "display_data"
    }
   ],
   "source": [
    "plot_visual_popular_day_dropoffs(\"EWR\")"
   ]
  },
  {
   "cell_type": "markdown",
   "id": "addbbe22",
   "metadata": {},
   "source": [
    "### Extra Visualization(1)\n",
    "$For\\ Question \\ 3$：\n",
    "\n",
    "_Comparison of The Three Airports of Each Day_"
   ]
  },
  {
   "cell_type": "code",
   "execution_count": null,
   "id": "b5f37272",
   "metadata": {},
   "outputs": [
    {
     "data": {
      "image/png": "[encoded data removed]",
      "text/plain": [
       "<Figure size 1000x500 with 1 Axes>"
      ]
     },
     "metadata": {},
     "output_type": "display_data"
    }
   ],
   "source": [
    "plot_visual_popular_day_dropoffs(\"ALL\")"
   ]
  },
  {
   "attachments": {},
   "cell_type": "markdown",
   "id": "699334f2",
   "metadata": {},
   "source": [
    "### Visualization 4\n",
    "$Question \\ 4$：Create a heatmap of all hired trips over a map of the area\n",
    "\n",
    "Use keplergl library to get the heatmap of the location"
   ]
  },
  {
   "cell_type": "code",
   "execution_count": null,
   "id": "e83ccbed",
   "metadata": {},
   "outputs": [],
   "source": [
    "stmt=\"\"\"\n",
    "        SELECT pickup_longitude, pickup_latitude, dropoff_longitude, dropoff_latitude \n",
    "        FROM uber\n",
    "        UNION\n",
    "        SELECT pickup_longitude, pickup_latitude, dropoff_longitude, dropoff_latitude \n",
    "        FROM taxi\n",
    "        \"\"\"\n",
    "df4 = get_data_for_visual_n(stmt)"
   ]
  },
  {
   "cell_type": "code",
   "execution_count": null,
   "id": "76b5cb83",
   "metadata": {},
   "outputs": [
    {
     "ename": "NameError",
     "evalue": "name 'df4' is not defined",
     "output_type": "error",
     "traceback": [
      "\u001b[0;31m---------------------------------------------------------------------------\u001b[0m",
      "\u001b[0;31mNameError\u001b[0m                                 Traceback (most recent call last)",
      "\u001b[0;32m/var/folders/p4/sv10h0nj4fvdmhp5bc5890900000gn/T/ipykernel_3934/1554530062.py\u001b[0m in \u001b[0;36m<module>\u001b[0;34m\u001b[0m\n\u001b[1;32m      4\u001b[0m     \u001b[0mmap1\u001b[0m\u001b[0;34m.\u001b[0m\u001b[0madd_data\u001b[0m\u001b[0;34m(\u001b[0m\u001b[0mdata\u001b[0m\u001b[0;34m=\u001b[0m\u001b[0mdataframe\u001b[0m\u001b[0;34m,\u001b[0m\u001b[0mname\u001b[0m\u001b[0;34m=\u001b[0m\u001b[0;34m'New York City Taxi and Uber Trips'\u001b[0m\u001b[0;34m)\u001b[0m\u001b[0;34m\u001b[0m\u001b[0;34m\u001b[0m\u001b[0m\n\u001b[1;32m      5\u001b[0m     \u001b[0;32mreturn\u001b[0m \u001b[0mmap1\u001b[0m\u001b[0;34m\u001b[0m\u001b[0;34m\u001b[0m\u001b[0m\n\u001b[0;32m----> 6\u001b[0;31m \u001b[0mplot_visual_heatmap\u001b[0m\u001b[0;34m(\u001b[0m\u001b[0mdf4\u001b[0m\u001b[0;34m)\u001b[0m\u001b[0;34m\u001b[0m\u001b[0;34m\u001b[0m\u001b[0m\n\u001b[0m",
      "\u001b[0;31mNameError\u001b[0m: name 'df4' is not defined"
     ]
    }
   ],
   "source": [
    "def plot_visual_heatmap(dataframe):\n",
    "    from keplergl import KeplerGl\n",
    "    map1=KeplerGl(height=500)\n",
    "    map1.add_data(data=dataframe,name='New York City Taxi and Uber Trips')\n",
    "    return map1\n",
    "plot_visual_heatmap(df4)"
   ]
  },
  {
   "attachments": {},
   "cell_type": "markdown",
   "id": "9145270d",
   "metadata": {},
   "source": [
    "### Visualization 5\n",
    "$Question \\ 5$：Create a scatter plot that compares tip amount versus distance."
   ]
  },
  {
   "cell_type": "code",
   "execution_count": null,
   "id": "573efcfa",
   "metadata": {},
   "outputs": [],
   "source": [
    "import seaborn as sns\n",
    "import matplotlib.pyplot as plt\n",
    "from importlib import reload\n",
    "plt=reload(plt)"
   ]
  },
  {
   "cell_type": "code",
   "execution_count": null,
   "id": "0d3570e1",
   "metadata": {},
   "outputs": [],
   "source": [
    "def get_data_for_tip_vs_distance():\n",
    "    QUERY=\"\"\"\n",
    "    SELECT tip, distance FROM taxi\n",
    "    WHERE tip>=0 AND distance >0\n",
    "    \"\"\"\n",
    "    x=pd.DataFrame(engine.execute(QUERY).fetchall())\n",
    "    return x"
   ]
  },
  {
   "cell_type": "code",
   "execution_count": null,
   "id": "25788c41",
   "metadata": {},
   "outputs": [],
   "source": [
    "def plot_visual_tip_vs_distance():\n",
    "    x= get_data_for_tip_vs_distance()\n",
    "    plt.scatter(x[\"distance\"],x[\"tip\"])\n",
    "    plt.xlabel(\"Distance\")\n",
    "    plt.ylabel(\"Tip Amount\")\n",
    "    plt.title('Scatter plot of tip and distance')\n",
    "    plt.show()"
   ]
  },
  {
   "cell_type": "code",
   "execution_count": null,
   "id": "61992402",
   "metadata": {},
   "outputs": [
    {
     "data": {
      "image/png": "[encoded data removed]",
      "text/plain": [
       "<Figure size 800x550 with 1 Axes>"
      ]
     },
     "metadata": {},
     "output_type": "display_data"
    }
   ],
   "source": [
    "plot_visual_tip_vs_distance()"
   ]
  },
  {
   "cell_type": "markdown",
   "id": "9145270d",
   "metadata": {},
   "source": [
    "### Extra Visualization(2)\n",
    "$For\\ Question \\ 5$：\n",
    "\n",
    "Scatter plot with points of different colors and sizes of tip amount versus distance.\n",
    "\n",
    "The size of the point represents The number of people in a particular tip group"
   ]
  },
  {
   "cell_type": "code",
   "execution_count": null,
   "id": "ce2a63fa",
   "metadata": {},
   "outputs": [],
   "source": [
    "def get_data_for_tip_vs_distance_Extra():\n",
    "    QUERY=\"\"\"\n",
    "    SELECT count(id),tip, distance FROM taxi\n",
    "    WHERE tip>=0 AND distance >0\n",
    "    GROUP BY tip\n",
    "    \"\"\"\n",
    "    c=pd.DataFrame(engine.execute(QUERY).fetchall())\n",
    "    return c"
   ]
  },
  {
   "cell_type": "code",
   "execution_count": null,
   "id": "21866a4b",
   "metadata": {},
   "outputs": [],
   "source": [
    "def plot_visual_tip_vs_distance_Extra():\n",
    "    c = get_data_for_tip_vs_distance_Extra()\n",
    "    x = c[\"tip\"]\n",
    "    y = c[\"distance\"]\n",
    "    \n",
    "    colors = 0.01*c[\"count(id)\"]# values for colors\n",
    "    sizes =  2* c[\"count(id)\"] # Number count for sizes of the points being plotted\n",
    "    \n",
    "    plt.xlabel(\"Distance\")\n",
    "    plt.ylabel(\"Tip Amount\")\n",
    "    plt.scatter(x, y, c=colors, s=sizes, alpha=0.5, cmap='viridis')\n",
    "    plt.colorbar()"
   ]
  },
  {
   "cell_type": "code",
   "execution_count": null,
   "id": "0d1b168a",
   "metadata": {},
   "outputs": [
    {
     "data": {
      "image/png": "[encoded data removed]",
      "text/plain": [
       "<Figure size 800x550 with 2 Axes>"
      ]
     },
     "metadata": {},
     "output_type": "display_data"
    }
   ],
   "source": [
    "plot_visual_tip_vs_distance_Extra()"
   ]
  },
  {
   "cell_type": "markdown",
   "id": "9145270d",
   "metadata": {},
   "source": [
    "### Visualization 6\n",
    "$Question \\ 6$：Create another scatter plot that compares tip amount versus precipitation amount.\n",
    "\n",
    "Use the pandas to merge the tip amount and precipitation data and then use the matplot library to get the scatter plot."
   ]
  },
  {
   "cell_type": "code",
   "execution_count": null,
   "id": "b545d18f",
   "metadata": {},
   "outputs": [],
   "source": [
    "stmt=\"\"\"\n",
    "SELECT strftime('%Y-%m-%d %H',pickup_datetime) AS dateh, pickup_datetime,tip\n",
    "FROM taxi\n",
    "\"\"\"\n",
    "stmt1=\"\"\"\n",
    "SELECT strftime('%Y-%m-%d %H',date) AS dateh, date, hourlyprecipitation \n",
    "FROM hourly_weather\n",
    "\"\"\"\n",
    "taxidf=get_data_for_visual_n(stmt)\n",
    "hourdf=get_data_for_visual_n(stmt1)\n",
    "df7=pd.merge(taxidf,hourdf,how='left')"
   ]
  },
  {
   "cell_type": "code",
   "execution_count": null,
   "id": "a6b8a3a8",
   "metadata": {},
   "outputs": [
    {
     "data": {
      "image/png": "[encoded data removed]",
      "text/plain": [
       "<Figure size 600x300 with 1 Axes>"
      ]
     },
     "metadata": {},
     "output_type": "display_data"
    }
   ],
   "source": [
    "# use a more descriptive name for your function\n",
    "def plot_visual_6(dataframe):\n",
    "    plt.figure(figsize=(6,3))\n",
    "    plt.plot(dataframe['hourlyprecipitation'],dataframe['tip'],'o')\n",
    "    plt.xlabel('Hourly Precipitation')\n",
    "    plt.ylabel('Tip amount')\n",
    "    plt.title('Scatter plot between the precipitation data and the tip amount')\n",
    "    plt.show()\n",
    "plot_visual_6(df7)"
   ]
  },
  {
   "cell_type": "code",
   "execution_count": null,
   "id": "7796c65b",
   "metadata": {},
   "outputs": [],
   "source": []
  }
 ],
 "metadata": {
  "kernelspec": {
   "display_name": "Python 3.7.4 64-bit",
   "language": "python",
   "name": "python3"
  },
  "language_info": {
   "codemirror_mode": {
    "name": "ipython",
    "version": 3
   },
   "file_extension": ".py",
   "mimetype": "text/x-python",
   "name": "python",
   "nbconvert_exporter": "python",
   "pygments_lexer": "ipython3",
   "version": "3.7.4"
  },
  "vscode": {
   "interpreter": {
    "hash": "aee8b7b246df8f9039afb4144a1f6fd8d2ca17a180786b69acc140d282b71a49"
   }
  }
 },
 "nbformat": 4,
 "nbformat_minor": 5
}
