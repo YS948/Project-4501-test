{
 "cells": [
  {
   "cell_type": "code",
   "execution_count": 1,
   "id": "66dcde05",
   "metadata": {},
   "outputs": [
    {
     "name": "stderr",
     "output_type": "stream",
     "text": [
      "C:\\Users\\29311\\AppData\\Local\\Temp\\ipykernel_16724\\1396338694.py:14: MatplotlibDeprecationWarning: The seaborn styles shipped by Matplotlib are deprecated since 3.6, as they no longer correspond to the styles shipped by seaborn. However, they will remain available as 'seaborn-v0_8-<style>'. Alternatively, directly use the seaborn API instead.\n",
      "  plt.style.use('seaborn')\n"
     ]
    }
   ],
   "source": [
    "# all import statements needed for the project, for example:\n",
    "import math\n",
    "import bs4\n",
    "import requests\n",
    "import sqlalchemy as db\n",
    "import pandas as pd \n",
    "import numpy as np\n",
    "import datetime as dt\n",
    "import statsmodels.api as sm #统计\n",
    "from statsmodels.tsa.stattools import adfuller #ADF检验\n",
    "import matplotlib as mpl #画图\n",
    "import matplotlib.pyplot as plt\n",
    "mpl.rcParams['font.family']='serif'\n",
    "plt.style.use('seaborn') \n",
    "import os #地址"
   ]
  },
  {
   "cell_type": "code",
   "execution_count": 2,
   "id": "3ca97e80",
   "metadata": {},
   "outputs": [
    {
     "name": "stdout",
     "output_type": "stream",
     "text": [
      "C:\\Users\\29311\n"
     ]
    }
   ],
   "source": [
    "cd"
   ]
  },
  {
   "cell_type": "code",
   "execution_count": 3,
   "id": "cb461818",
   "metadata": {},
   "outputs": [],
   "source": [
    "os.chdir('Desktop/CU/E4501/PPP2') "
   ]
  },
  {
   "cell_type": "code",
   "execution_count": 4,
   "id": "8b622a58",
   "metadata": {},
   "outputs": [],
   "source": [
    "# any general notebook setup, like log formatting"
   ]
  },
  {
   "cell_type": "code",
   "execution_count": 5,
   "id": "3f1242c4",
   "metadata": {},
   "outputs": [],
   "source": [
    "# any constants you might need, for example:\n",
    "\n",
    "TAXI_URL = \"https://www1.nyc.gov/site/tlc/about/tlc-trip-record-data.page\"\n",
    "# add other constants to refer to any local data, e.g. uber & weather\n",
    "UBER_CSV = \"uber_rides_sample.csv\"\n",
    "\n",
    "NEW_YORK_BOX_COORDS = ((40.560445, -74.242330), (40.908524, -73.717047))\n",
    "\n",
    "DATABASE_URL = \"sqlite:///project.db\"\n",
    "DATABASE_SCHEMA_FILE = \"schema.sql\"\n",
    "QUERY_DIRECTORY = \"queries\""
   ]
  },
  {
   "cell_type": "markdown",
   "id": "dd101f11",
   "metadata": {},
   "source": [
    "## Part 2: Storing Cleaned Data\n",
    "\n",
    "1. use SQLAlchemy, create a SQLite database to load in preprocessed datasets;\n",
    "2. create and populate 4 tables: one for sampled datasets of Yellow Taxi trips, one for Uber trips, one for hourly weather information, and one for daily weather information. \n",
    "3. create a schema.sql file that defines each table’s schema. "
   ]
  },
  {
   "cell_type": "code",
   "execution_count": 6,
   "id": "3caabc73",
   "metadata": {},
   "outputs": [],
   "source": [
    "uber_data=pd.read_csv('uber.csv').iloc[:,1:]\n",
    "hour=pd.read_csv('hour.csv').iloc[:,1:]\n",
    "daily=pd.read_csv('daily.csv').iloc[:,1:]\n",
    "taxi_data=pd.read_csv('taxi_data.csv').iloc[:,1:]"
   ]
  },
  {
   "cell_type": "code",
   "execution_count": 7,
   "id": "b7419a7f",
   "metadata": {},
   "outputs": [],
   "source": [
    "taxi_data['pickup_datetime']=pd.to_datetime(taxi_data['pickup_datetime'])\n",
    "taxi_data['dropoff_datetime']=pd.to_datetime(taxi_data['dropoff_datetime'])"
   ]
  },
  {
   "cell_type": "code",
   "execution_count": 8,
   "id": "31078c06",
   "metadata": {},
   "outputs": [
    {
     "data": {
      "text/html": [
       "<div>\n",
       "<style scoped>\n",
       "    .dataframe tbody tr th:only-of-type {\n",
       "        vertical-align: middle;\n",
       "    }\n",
       "\n",
       "    .dataframe tbody tr th {\n",
       "        vertical-align: top;\n",
       "    }\n",
       "\n",
       "    .dataframe thead th {\n",
       "        text-align: right;\n",
       "    }\n",
       "</style>\n",
       "<table border=\"1\" class=\"dataframe\">\n",
       "  <thead>\n",
       "    <tr style=\"text-align: right;\">\n",
       "      <th></th>\n",
       "      <th>year</th>\n",
       "      <th>month</th>\n",
       "      <th>hour</th>\n",
       "      <th>pickup_datetime</th>\n",
       "      <th>dropoff_datetime</th>\n",
       "      <th>pickup_latitude</th>\n",
       "      <th>pickup_longitude</th>\n",
       "      <th>dropoff_latitude</th>\n",
       "      <th>dropoff_longitude</th>\n",
       "      <th>distance</th>\n",
       "      <th>tip</th>\n",
       "      <th>passenger_count</th>\n",
       "    </tr>\n",
       "  </thead>\n",
       "  <tbody>\n",
       "    <tr>\n",
       "      <th>0</th>\n",
       "      <td>2022</td>\n",
       "      <td>1</td>\n",
       "      <td>12</td>\n",
       "      <td>2022-01-08 12:47:26</td>\n",
       "      <td>2022-01-08 12:50:59</td>\n",
       "      <td>40.717773</td>\n",
       "      <td>-74.007880</td>\n",
       "      <td>40.723888</td>\n",
       "      <td>-74.001538</td>\n",
       "      <td>0.60</td>\n",
       "      <td>1.00</td>\n",
       "      <td>1.0</td>\n",
       "    </tr>\n",
       "    <tr>\n",
       "      <th>1</th>\n",
       "      <td>2022</td>\n",
       "      <td>1</td>\n",
       "      <td>19</td>\n",
       "      <td>2022-01-13 19:35:17</td>\n",
       "      <td>2022-01-13 19:52:53</td>\n",
       "      <td>40.717773</td>\n",
       "      <td>-74.007880</td>\n",
       "      <td>40.768615</td>\n",
       "      <td>-73.965635</td>\n",
       "      <td>5.08</td>\n",
       "      <td>4.26</td>\n",
       "      <td>1.0</td>\n",
       "    </tr>\n",
       "    <tr>\n",
       "      <th>2</th>\n",
       "      <td>2022</td>\n",
       "      <td>1</td>\n",
       "      <td>19</td>\n",
       "      <td>2022-01-14 19:29:49</td>\n",
       "      <td>2022-01-14 20:10:12</td>\n",
       "      <td>40.646985</td>\n",
       "      <td>-73.786533</td>\n",
       "      <td>40.727620</td>\n",
       "      <td>-73.985937</td>\n",
       "      <td>17.91</td>\n",
       "      <td>14.95</td>\n",
       "      <td>1.0</td>\n",
       "    </tr>\n",
       "    <tr>\n",
       "      <th>3</th>\n",
       "      <td>2022</td>\n",
       "      <td>1</td>\n",
       "      <td>19</td>\n",
       "      <td>2022-01-25 19:59:48</td>\n",
       "      <td>2022-01-25 20:08:39</td>\n",
       "      <td>40.720889</td>\n",
       "      <td>-73.996919</td>\n",
       "      <td>40.714733</td>\n",
       "      <td>-73.983025</td>\n",
       "      <td>1.10</td>\n",
       "      <td>2.00</td>\n",
       "      <td>2.0</td>\n",
       "    </tr>\n",
       "    <tr>\n",
       "      <th>4</th>\n",
       "      <td>2022</td>\n",
       "      <td>1</td>\n",
       "      <td>16</td>\n",
       "      <td>2022-01-05 16:09:54</td>\n",
       "      <td>2022-01-05 16:16:09</td>\n",
       "      <td>40.723888</td>\n",
       "      <td>-74.001538</td>\n",
       "      <td>40.732579</td>\n",
       "      <td>-73.994305</td>\n",
       "      <td>1.10</td>\n",
       "      <td>0.00</td>\n",
       "      <td>1.0</td>\n",
       "    </tr>\n",
       "    <tr>\n",
       "      <th>...</th>\n",
       "      <td>...</td>\n",
       "      <td>...</td>\n",
       "      <td>...</td>\n",
       "      <td>...</td>\n",
       "      <td>...</td>\n",
       "      <td>...</td>\n",
       "      <td>...</td>\n",
       "      <td>...</td>\n",
       "      <td>...</td>\n",
       "      <td>...</td>\n",
       "      <td>...</td>\n",
       "      <td>...</td>\n",
       "    </tr>\n",
       "    <tr>\n",
       "      <th>202025</th>\n",
       "      <td>2009</td>\n",
       "      <td>12</td>\n",
       "      <td>20</td>\n",
       "      <td>2009-12-23 20:09:00</td>\n",
       "      <td>2009-12-23 20:11:00</td>\n",
       "      <td>40.763593</td>\n",
       "      <td>-73.972853</td>\n",
       "      <td>40.760775</td>\n",
       "      <td>-73.967578</td>\n",
       "      <td>0.37</td>\n",
       "      <td>1.00</td>\n",
       "      <td>1.0</td>\n",
       "    </tr>\n",
       "    <tr>\n",
       "      <th>202026</th>\n",
       "      <td>2009</td>\n",
       "      <td>12</td>\n",
       "      <td>19</td>\n",
       "      <td>2009-12-15 19:13:00</td>\n",
       "      <td>2009-12-15 19:16:00</td>\n",
       "      <td>40.742840</td>\n",
       "      <td>-73.980168</td>\n",
       "      <td>40.748047</td>\n",
       "      <td>-73.981568</td>\n",
       "      <td>0.51</td>\n",
       "      <td>0.00</td>\n",
       "      <td>1.0</td>\n",
       "    </tr>\n",
       "    <tr>\n",
       "      <th>202027</th>\n",
       "      <td>2009</td>\n",
       "      <td>12</td>\n",
       "      <td>22</td>\n",
       "      <td>2009-12-28 22:52:00</td>\n",
       "      <td>2009-12-28 23:18:00</td>\n",
       "      <td>40.644810</td>\n",
       "      <td>-73.781915</td>\n",
       "      <td>40.664808</td>\n",
       "      <td>-73.939545</td>\n",
       "      <td>11.98</td>\n",
       "      <td>0.00</td>\n",
       "      <td>2.0</td>\n",
       "    </tr>\n",
       "    <tr>\n",
       "      <th>202028</th>\n",
       "      <td>2009</td>\n",
       "      <td>12</td>\n",
       "      <td>17</td>\n",
       "      <td>2009-12-09 17:37:00</td>\n",
       "      <td>2009-12-09 17:49:00</td>\n",
       "      <td>40.753100</td>\n",
       "      <td>-73.971938</td>\n",
       "      <td>40.770513</td>\n",
       "      <td>-73.947885</td>\n",
       "      <td>2.22</td>\n",
       "      <td>0.00</td>\n",
       "      <td>5.0</td>\n",
       "    </tr>\n",
       "    <tr>\n",
       "      <th>202029</th>\n",
       "      <td>2009</td>\n",
       "      <td>12</td>\n",
       "      <td>18</td>\n",
       "      <td>2009-12-30 18:06:00</td>\n",
       "      <td>2009-12-30 18:20:18</td>\n",
       "      <td>40.768559</td>\n",
       "      <td>-73.981976</td>\n",
       "      <td>40.810608</td>\n",
       "      <td>-73.952643</td>\n",
       "      <td>3.50</td>\n",
       "      <td>1.98</td>\n",
       "      <td>1.0</td>\n",
       "    </tr>\n",
       "  </tbody>\n",
       "</table>\n",
       "<p>202030 rows × 12 columns</p>\n",
       "</div>"
      ],
      "text/plain": [
       "        year  month  hour     pickup_datetime    dropoff_datetime  \\\n",
       "0       2022      1    12 2022-01-08 12:47:26 2022-01-08 12:50:59   \n",
       "1       2022      1    19 2022-01-13 19:35:17 2022-01-13 19:52:53   \n",
       "2       2022      1    19 2022-01-14 19:29:49 2022-01-14 20:10:12   \n",
       "3       2022      1    19 2022-01-25 19:59:48 2022-01-25 20:08:39   \n",
       "4       2022      1    16 2022-01-05 16:09:54 2022-01-05 16:16:09   \n",
       "...      ...    ...   ...                 ...                 ...   \n",
       "202025  2009     12    20 2009-12-23 20:09:00 2009-12-23 20:11:00   \n",
       "202026  2009     12    19 2009-12-15 19:13:00 2009-12-15 19:16:00   \n",
       "202027  2009     12    22 2009-12-28 22:52:00 2009-12-28 23:18:00   \n",
       "202028  2009     12    17 2009-12-09 17:37:00 2009-12-09 17:49:00   \n",
       "202029  2009     12    18 2009-12-30 18:06:00 2009-12-30 18:20:18   \n",
       "\n",
       "        pickup_latitude  pickup_longitude  dropoff_latitude  \\\n",
       "0             40.717773        -74.007880         40.723888   \n",
       "1             40.717773        -74.007880         40.768615   \n",
       "2             40.646985        -73.786533         40.727620   \n",
       "3             40.720889        -73.996919         40.714733   \n",
       "4             40.723888        -74.001538         40.732579   \n",
       "...                 ...               ...               ...   \n",
       "202025        40.763593        -73.972853         40.760775   \n",
       "202026        40.742840        -73.980168         40.748047   \n",
       "202027        40.644810        -73.781915         40.664808   \n",
       "202028        40.753100        -73.971938         40.770513   \n",
       "202029        40.768559        -73.981976         40.810608   \n",
       "\n",
       "        dropoff_longitude  distance    tip  passenger_count  \n",
       "0              -74.001538      0.60   1.00              1.0  \n",
       "1              -73.965635      5.08   4.26              1.0  \n",
       "2              -73.985937     17.91  14.95              1.0  \n",
       "3              -73.983025      1.10   2.00              2.0  \n",
       "4              -73.994305      1.10   0.00              1.0  \n",
       "...                   ...       ...    ...              ...  \n",
       "202025         -73.967578      0.37   1.00              1.0  \n",
       "202026         -73.981568      0.51   0.00              1.0  \n",
       "202027         -73.939545     11.98   0.00              2.0  \n",
       "202028         -73.947885      2.22   0.00              5.0  \n",
       "202029         -73.952643      3.50   1.98              1.0  \n",
       "\n",
       "[202030 rows x 12 columns]"
      ]
     },
     "execution_count": 8,
     "metadata": {},
     "output_type": "execute_result"
    }
   ],
   "source": [
    "taxi_data"
   ]
  },
  {
   "cell_type": "code",
   "execution_count": null,
   "id": "b7a7a726",
   "metadata": {},
   "outputs": [],
   "source": []
  },
  {
   "cell_type": "code",
   "execution_count": 9,
   "id": "5a0ffe88",
   "metadata": {},
   "outputs": [],
   "source": [
    "engine = db.create_engine(DATABASE_URL)"
   ]
  },
  {
   "cell_type": "code",
   "execution_count": 10,
   "id": "f10cb6fb",
   "metadata": {},
   "outputs": [],
   "source": [
    "HOURLY_WEATHER_SCHEMA = \"\"\"\n",
    "CREATE TABLE IF NOT EXISTS hourly_weather (\n",
    "    id INTEGER PRIMARY KEY,\n",
    "    date TEXT,\n",
    "    hourlyprecipitation FLOAT,\n",
    "    sustainedwindspeed FLOAT\n",
    ");\n",
    "\"\"\"\n",
    "\n",
    "DAILY_WEATHER_SCHEMA = \"\"\"\n",
    "CREATE TABLE IF NOT EXISTS daily_weather (\n",
    "    id INTEGER PRIMARY KEY,\n",
    "    date TEXT,\n",
    "    dailyaveragewindspeed FLOAT,\n",
    "    dailypeakwindspeed FLOAT\n",
    ");\n",
    "\"\"\"\n",
    "\n",
    "TAXI_TRIPS_SCHEMA = \"\"\"\n",
    "CREATE TABLE IF NOT EXISTS taxi (\n",
    "    id INTEGER PRIMARY KEY,\n",
    "    month INTEGER,\n",
    "    hour INTEGER,\n",
    "    year INTEGER,\n",
    "    pickup_datetime TEXT,\n",
    "    dropoff_datetime TEXT,\n",
    "    pickup_latitude FLOAT, \n",
    "    pickup_longitude FLOAT,\n",
    "    dropoff_latitude FLOAT,\n",
    "    dropoff_longitude FLOAT,\n",
    "    distance FLOAT,\n",
    "    tip FLOAT,\n",
    "    passenger_count INTEGER\n",
    ");\n",
    "\"\"\"\n",
    "\n",
    "UBER_TRIPS_SCHEMA = \"\"\"\n",
    "CREATE TABLE IF NOT EXISTS uber (\n",
    "    id INTEGER PRIMARY KEY,\n",
    "    fare_amount FLOAT,\n",
    "    pickup_datetime TEXT,\n",
    "    pickup_longitude FLOAT,\n",
    "    pickup_latitude FLOAT,  \n",
    "    dropoff_longitude FLOAT,\n",
    "    dropoff_latitude FLOAT,\n",
    "    passenger_count INTEGER,\n",
    "    date TEXT,\n",
    "    week INTEGER,\n",
    "    distance FLOAT\n",
    ");\n",
    "\"\"\"\n",
    " "
   ]
  },
  {
   "cell_type": "code",
   "execution_count": 11,
   "id": "5f41e54b",
   "metadata": {},
   "outputs": [],
   "source": [
    "# create that required schema.sql file\n",
    "with open(DATABASE_SCHEMA_FILE, \"w\") as f:\n",
    "    f.write(HOURLY_WEATHER_SCHEMA)\n",
    "    f.write(DAILY_WEATHER_SCHEMA)\n",
    "    f.write(TAXI_TRIPS_SCHEMA)\n",
    "    f.write(UBER_TRIPS_SCHEMA)"
   ]
  },
  {
   "cell_type": "code",
   "execution_count": 12,
   "id": "02eccdba",
   "metadata": {},
   "outputs": [],
   "source": [
    "# create the tables with the schema files\n",
    "with engine.connect() as connection:\n",
    "    connection.execute(HOURLY_WEATHER_SCHEMA)\n",
    "    connection.execute(DAILY_WEATHER_SCHEMA)\n",
    "    connection.execute(TAXI_TRIPS_SCHEMA)\n",
    "    connection.execute(UBER_TRIPS_SCHEMA)"
   ]
  },
  {
   "cell_type": "markdown",
   "id": "c122964f",
   "metadata": {},
   "source": [
    "### Add Data to Database\n",
    "\n",
    "1. define function to insert data from dataframe to SQL database\n",
    "2. use dictionary to store data and data name\n",
    "3. add data to database"
   ]
  },
  {
   "cell_type": "code",
   "execution_count": 13,
   "id": "0e68a363",
   "metadata": {},
   "outputs": [],
   "source": [
    "def write_dataframes_to_table(table_to_df_dict):\n",
    "    for k,v in map_table_name_to_dataframe.items():\n",
    "        v.to_sql(k,con=engine,if_exists='append',index_label='id')  "
   ]
  },
  {
   "cell_type": "code",
   "execution_count": 14,
   "id": "45d6c06c",
   "metadata": {},
   "outputs": [],
   "source": [
    "map_table_name_to_dataframe = {\n",
    "    \"taxi\": taxi_data,\n",
    "    \"uber\": uber_data,\n",
    "    \"hourly_weather\": hour,\n",
    "    \"daily_weather\": daily,\n",
    "}"
   ]
  },
  {
   "cell_type": "code",
   "execution_count": 15,
   "id": "74004f96",
   "metadata": {},
   "outputs": [],
   "source": [
    "write_dataframes_to_table(map_table_name_to_dataframe)"
   ]
  },
  {
   "cell_type": "code",
   "execution_count": 16,
   "id": "5bd31b8c",
   "metadata": {},
   "outputs": [
    {
     "data": {
      "text/plain": [
       "{'taxi':         year  month  hour     pickup_datetime    dropoff_datetime  \\\n",
       " 0       2022      1    12 2022-01-08 12:47:26 2022-01-08 12:50:59   \n",
       " 1       2022      1    19 2022-01-13 19:35:17 2022-01-13 19:52:53   \n",
       " 2       2022      1    19 2022-01-14 19:29:49 2022-01-14 20:10:12   \n",
       " 3       2022      1    19 2022-01-25 19:59:48 2022-01-25 20:08:39   \n",
       " 4       2022      1    16 2022-01-05 16:09:54 2022-01-05 16:16:09   \n",
       " ...      ...    ...   ...                 ...                 ...   \n",
       " 202025  2009     12    20 2009-12-23 20:09:00 2009-12-23 20:11:00   \n",
       " 202026  2009     12    19 2009-12-15 19:13:00 2009-12-15 19:16:00   \n",
       " 202027  2009     12    22 2009-12-28 22:52:00 2009-12-28 23:18:00   \n",
       " 202028  2009     12    17 2009-12-09 17:37:00 2009-12-09 17:49:00   \n",
       " 202029  2009     12    18 2009-12-30 18:06:00 2009-12-30 18:20:18   \n",
       " \n",
       "         pickup_latitude  pickup_longitude  dropoff_latitude  \\\n",
       " 0             40.717773        -74.007880         40.723888   \n",
       " 1             40.717773        -74.007880         40.768615   \n",
       " 2             40.646985        -73.786533         40.727620   \n",
       " 3             40.720889        -73.996919         40.714733   \n",
       " 4             40.723888        -74.001538         40.732579   \n",
       " ...                 ...               ...               ...   \n",
       " 202025        40.763593        -73.972853         40.760775   \n",
       " 202026        40.742840        -73.980168         40.748047   \n",
       " 202027        40.644810        -73.781915         40.664808   \n",
       " 202028        40.753100        -73.971938         40.770513   \n",
       " 202029        40.768559        -73.981976         40.810608   \n",
       " \n",
       "         dropoff_longitude  distance    tip  passenger_count  \n",
       " 0              -74.001538      0.60   1.00              1.0  \n",
       " 1              -73.965635      5.08   4.26              1.0  \n",
       " 2              -73.985937     17.91  14.95              1.0  \n",
       " 3              -73.983025      1.10   2.00              2.0  \n",
       " 4              -73.994305      1.10   0.00              1.0  \n",
       " ...                   ...       ...    ...              ...  \n",
       " 202025         -73.967578      0.37   1.00              1.0  \n",
       " 202026         -73.981568      0.51   0.00              1.0  \n",
       " 202027         -73.939545     11.98   0.00              2.0  \n",
       " 202028         -73.947885      2.22   0.00              5.0  \n",
       " 202029         -73.952643      3.50   1.98              1.0  \n",
       " \n",
       " [202030 rows x 12 columns],\n",
       " 'uber':         fare_amount      pickup_datetime  pickup_longitude  pickup_latitude  \\\n",
       " 0               8.5  2009-01-01 01:15:22        -73.981918        40.779456   \n",
       " 1              13.0  2009-01-01 01:59:17        -73.983759        40.721389   \n",
       " 2              10.6  2009-01-01 02:05:03        -73.956635        40.771254   \n",
       " 3              12.2  2009-01-01 02:09:13        -73.984605        40.728020   \n",
       " 4              11.0  2009-01-01 02:13:41        -73.980127        40.737425   \n",
       " ...             ...                  ...               ...              ...   \n",
       " 195466         18.5  2015-06-30 22:57:53        -73.971703        40.782207   \n",
       " 195467         25.5  2015-06-30 23:16:42        -74.001099        40.730961   \n",
       " 195468         20.0  2015-06-30 23:31:06        -73.999962        40.733135   \n",
       " 195469          8.5  2015-06-30 23:33:33        -73.980988        40.762020   \n",
       " 195470         27.0  2015-06-30 23:40:39        -73.984795        40.751411   \n",
       " \n",
       "         dropoff_longitude  dropoff_latitude  passenger_count        date  \\\n",
       " 0              -73.957685         40.771043                2  2009-01-01   \n",
       " 1              -73.994833         40.687179                2  2009-01-01   \n",
       " 2              -73.991528         40.749778                2  2009-01-01   \n",
       " 3              -73.955746         40.776830                1  2009-01-01   \n",
       " 4              -74.009544         40.726025                4  2009-01-01   \n",
       " ...                   ...               ...              ...         ...   \n",
       " 195466         -73.943680         40.827991                2  2015-06-30   \n",
       " 195467         -73.957123         40.806908                2  2015-06-30   \n",
       " 195468         -73.962448         40.773041                4  2015-06-30   \n",
       " 195469         -73.960083         40.770531                1  2015-06-30   \n",
       " 195470         -73.927765         40.706287                1  2015-06-30   \n",
       " \n",
       "         week  distance  \n",
       " 0          4  2.245470  \n",
       " 1          4  3.918071  \n",
       " 2          4  3.787925  \n",
       " 3          4  5.948824  \n",
       " 4          4  2.784896  \n",
       " ...      ...       ...  \n",
       " 195466     2  5.612535  \n",
       " 195467     2  9.224129  \n",
       " 195468     2  5.449152  \n",
       " 195469     2  1.999366  \n",
       " 195470     2  6.949799  \n",
       " \n",
       " [195471 rows x 10 columns],\n",
       " 'hourly_weather':                       date  hourlyprecipitation  sustainedwindspeed\n",
       " 0      2009-01-01 00:51:00                  0.0                 NaN\n",
       " 1      2009-01-01 01:51:00                  0.0                 NaN\n",
       " 2      2009-01-01 02:51:00                  0.0                 NaN\n",
       " 3      2009-01-01 03:51:00                  0.0                 NaN\n",
       " 4      2009-01-01 04:51:00                  0.0                 NaN\n",
       " ...                    ...                  ...                 ...\n",
       " 60436  2015-12-31 19:51:00                  0.0                14.0\n",
       " 60437  2015-12-31 20:51:00                  0.0                14.0\n",
       " 60438  2015-12-31 21:51:00                  0.0                14.0\n",
       " 60439  2015-12-31 22:51:00                  0.0                14.0\n",
       " 60440  2015-12-31 23:59:00                  0.0                14.0\n",
       " \n",
       " [60441 rows x 3 columns],\n",
       " 'daily_weather':            date  dailyaveragewindspeed  dailypeakwindspeed\n",
       " 0    2014-01-01                    5.6                23.0\n",
       " 1    2014-01-02                   12.2                28.0\n",
       " 2    2014-01-03                   10.4                29.0\n",
       " 3    2014-01-04                    4.8                20.0\n",
       " 4    2014-01-05                    3.7                17.0\n",
       " ..          ...                    ...                 ...\n",
       " 360  2014-12-27                    4.4                25.0\n",
       " 361  2014-12-28                    5.8                22.0\n",
       " 362  2014-12-29                    5.2                25.0\n",
       " 363  2014-12-30                    4.3                17.0\n",
       " 364  2014-12-31                    5.5                21.0\n",
       " \n",
       " [365 rows x 3 columns]}"
      ]
     },
     "execution_count": 16,
     "metadata": {},
     "output_type": "execute_result"
    }
   ],
   "source": [
    "map_table_name_to_dataframe"
   ]
  },
  {
   "cell_type": "markdown",
   "id": "8cb6e33e",
   "metadata": {},
   "source": [
    "## Part 3: Understanding the Data"
   ]
  },
  {
   "cell_type": "markdown",
   "id": "b4753fcd",
   "metadata": {},
   "source": [
    "_A checklist of requirements to keep you on track. Remove this whole cell before submitting the project. The order of these tasks aren't necessarily the order in which they need to be done. It's okay to do them in an order that makes sense to you._\n",
    "\n",
    "* [ ] For 01-2009 through 06-2015, what hour of the day was the most popular to take a yellow taxi? The result should have 24 bins.\n",
    "* [√] For the same time frame, what day of the week was the most popular to take an uber? The result should have 7 bins.\n",
    "* [√] What is the 95% percentile of distance traveled for all hired trips during July 2013?\n",
    "* [ ] What were the top 10 days with the highest number of hired rides for 2009, and what was the average distance for each day?\n",
    "* [√] Which 10 days in 2014 were the windiest, and how many hired trips were made on those days?\n",
    "* [ ] During Hurricane Sandy in NYC (Oct 29-30, 2012) and the week leading up to it, how many trips were taken each hour, and for each hour, how much precipitation did NYC receive and what was the sustained wind speed?"
   ]
  },
  {
   "cell_type": "code",
   "execution_count": 17,
   "id": "6a849e92",
   "metadata": {},
   "outputs": [],
   "source": [
    "def write_query_to_file(query, outfile):\n",
    "    with open(outfile, 'w') as file:\n",
    "        file.write(query)"
   ]
  },
  {
   "cell_type": "markdown",
   "id": "ee70a777",
   "metadata": {},
   "source": [
    "### Query N\n",
    "\n",
    "1. define a SQL query for each of the following questions - one query per question. \n",
    "2. Save each query as a .sql file, naming it something illustrative of what the query is for, e.g. top_10_hottest_days.sql."
   ]
  },
  {
   "cell_type": "markdown",
   "id": "ebda33f7",
   "metadata": {},
   "source": [
    "$Question \\ 1$\n",
    "\n",
    "$\\text{For 01-2009 through 06-2015, what hour of the day was the most popular to take a yellow taxi? The result should have 24 bins.}$"
   ]
  },
  {
   "cell_type": "code",
   "execution_count": 18,
   "id": "476171d9",
   "metadata": {},
   "outputs": [],
   "source": [
    "QUERY_1=\"\"\"\n",
    "SELECT hour,COUNT(hour) FROM taxi\n",
    "WHERE pickup_datetime BETWEEN \"2009-01-01\" AND \"2015-07-01\"\n",
    "GROUP BY hour\n",
    "ORDER BY COUNT(hour) DESC\n",
    "\n",
    "\"\"\""
   ]
  },
  {
   "cell_type": "code",
   "execution_count": 19,
   "id": "e1d76aed",
   "metadata": {},
   "outputs": [
    {
     "data": {
      "text/plain": [
       "[(19, 6024),\n",
       " (20, 5698),\n",
       " (18, 5648),\n",
       " (21, 5453),\n",
       " (22, 5178),\n",
       " (14, 4872),\n",
       " (12, 4729),\n",
       " (17, 4698),\n",
       " (23, 4581),\n",
       " (15, 4542),\n",
       " (13, 4538),\n",
       " (8, 4446),\n",
       " (11, 4385),\n",
       " (9, 4380),\n",
       " (10, 4176),\n",
       " (16, 4040),\n",
       " (0, 3763),\n",
       " (7, 3515),\n",
       " (1, 2869),\n",
       " (2, 2002),\n",
       " (6, 1990),\n",
       " (3, 1561),\n",
       " (4, 1099),\n",
       " (5, 947)]"
      ]
     },
     "execution_count": 19,
     "metadata": {},
     "output_type": "execute_result"
    }
   ],
   "source": [
    "engine.execute(QUERY_1).fetchall()"
   ]
  },
  {
   "cell_type": "markdown",
   "id": "91a24ae7",
   "metadata": {},
   "source": [
    "$Question \\ 2$\n",
    "\n",
    "$\\text{From 01-2009 to 06-2015, what day of the week was the most popular to take an uber? The result should have 7 bins.}$"
   ]
  },
  {
   "cell_type": "code",
   "execution_count": 20,
   "id": "c5275f3a",
   "metadata": {},
   "outputs": [],
   "source": [
    "QUERY_2 = \"\"\"\n",
    "SELECT week, COUNT(week) FROM (SELECT DISTINCT week,date FROM uber\n",
    "WHERE date BETWEEN \"2009-01-01\" AND \"2015-07-01\" )\n",
    "GROUP BY week\n",
    "ORDER BY COUNT(week) DESC\n",
    "\"\"\""
   ]
  },
  {
   "cell_type": "code",
   "execution_count": 21,
   "id": "c660b72d",
   "metadata": {},
   "outputs": [
    {
     "data": {
      "text/plain": [
       "[(7, 339), (6, 339), (5, 339), (4, 339), (2, 339), (1, 339), (3, 338)]"
      ]
     },
     "execution_count": 21,
     "metadata": {},
     "output_type": "execute_result"
    }
   ],
   "source": [
    "engine.execute(QUERY_2).fetchall()"
   ]
  },
  {
   "cell_type": "code",
   "execution_count": 22,
   "id": "a2ef04df",
   "metadata": {},
   "outputs": [],
   "source": [
    "write_query_to_file(QUERY_2, \"popular_day_of_week_uber.sql\")"
   ]
  },
  {
   "cell_type": "markdown",
   "id": "c480a072",
   "metadata": {},
   "source": [
    "$ Question \\ 3$\n",
    "\n",
    "$\\text{What is the 95% percentile of distance traveled for all hired trips during July 2013?}$"
   ]
  },
  {
   "cell_type": "code",
   "execution_count": 23,
   "id": "d98e991c",
   "metadata": {},
   "outputs": [],
   "source": [
    "QUERY_3=\"\"\"\n",
    "WITH two AS \n",
    "(SELECT pickup_datetime,distance FROM uber\n",
    "WHERE \"2013-06-30T00:00\"< pickup_datetime AND pickup_datetime < '2013-07-31T00:00:00'\n",
    "UNION ALL\n",
    "SELECT pickup_datetime,distance FROM taxi\n",
    "WHERE \"2013-06-30T00:00\"<pickup_datetime AND pickup_datetime < '2013-07-31T00:00:00')\n",
    "\n",
    "SELECT distance AS '95%distance'FROM two\n",
    "ORDER BY distance \n",
    "LIMIT 1\n",
    "OFFSET (SELECT COUNT(*)\n",
    "        FROM two) * 95 / 100 - 1 ;\n",
    "\"\"\""
   ]
  },
  {
   "cell_type": "code",
   "execution_count": 24,
   "id": "2961d60b",
   "metadata": {},
   "outputs": [
    {
     "data": {
      "text/plain": [
       "[(10.219292783094737,)]"
      ]
     },
     "execution_count": 24,
     "metadata": {},
     "output_type": "execute_result"
    }
   ],
   "source": [
    "engine.execute(QUERY_3).fetchall()"
   ]
  },
  {
   "cell_type": "code",
   "execution_count": 25,
   "id": "baad0b80",
   "metadata": {},
   "outputs": [],
   "source": [
    "write_query_to_file(QUERY_3, \"95%percentile_distance.sql\")"
   ]
  },
  {
   "cell_type": "markdown",
   "id": "38ca7dd4",
   "metadata": {},
   "source": [
    "$Question \\ 4$\n",
    "\n",
    "$\\text{What were the top 10 days with the highest number of hired rides for 2009, and what was the average distance for each day?}$"
   ]
  },
  {
   "cell_type": "code",
   "execution_count": 26,
   "id": "a501f260",
   "metadata": {},
   "outputs": [],
   "source": [
    "QUERY_4 = \"\"\"\n",
    "WITH RECURSIVE ride AS ( \n",
    "SELECT id,pickup_datetime,distance\n",
    "FROM taxi\n",
    "WHERE \"2009-01-1\"< pickup_datetime AND pickup_datetime < '2010-01-01'\n",
    "UNION ALL\n",
    "SELECT id,pickup_datetime, distance\n",
    "FROM uber\n",
    "WHERE \"2009-01-1\"< pickup_datetime AND pickup_datetime < '2010-01-01'\n",
    ")\n",
    "\n",
    "SELECT DATE(pickup_datetime),COUNT(id),avg(distance) FROM ride\n",
    "GROUP BY DATE(pickup_datetime)\n",
    "ORDER BY COUNT(id) DESC\n",
    "LIMIT 10\n",
    "\"\"\""
   ]
  },
  {
   "cell_type": "code",
   "execution_count": 27,
   "id": "12b669ca",
   "metadata": {},
   "outputs": [
    {
     "data": {
      "text/plain": [
       "[('2009-12-11', 189, 2.6063858821542243),\n",
       " ('2009-10-23', 172, 2.608186935880316),\n",
       " ('2009-04-18', 165, 3.2159688165794567),\n",
       " ('2009-08-14', 164, 3.384805254622663),\n",
       " ('2009-02-20', 164, 2.806243621671769),\n",
       " ('2009-12-05', 162, 2.71374114068847),\n",
       " ('2009-11-05', 160, 2.902796690455225),\n",
       " ('2009-03-19', 160, 3.086773537826006),\n",
       " ('2009-07-09', 158, 3.4255733465502183),\n",
       " ('2009-07-23', 157, 3.407106718976077)]"
      ]
     },
     "execution_count": 27,
     "metadata": {},
     "output_type": "execute_result"
    }
   ],
   "source": [
    "engine.execute(QUERY_4).fetchall()"
   ]
  },
  {
   "cell_type": "markdown",
   "id": "82b89144",
   "metadata": {},
   "source": [
    "$Question \\ 5$\n",
    "\n",
    "$\\text{Which 10 days in 2014 were the windiest, and how many hired trips were made on those days?}$"
   ]
  },
  {
   "cell_type": "code",
   "execution_count": 28,
   "id": "99d06ac4",
   "metadata": {},
   "outputs": [],
   "source": [
    "#peak wind speed\n",
    "QUERY_5 = \"\"\"\n",
    "WITH ride AS\n",
    "(SELECT DATE(pickup_datetime) AS date, count(pickup_datetime) AS count from (SELECT pickup_datetime FROM uber\n",
    "WHERE \"2013-12-31T00:00\"< pickup_datetime AND pickup_datetime < '2014-12-31T00:00:00'\n",
    "UNION ALL\n",
    "SELECT pickup_datetime FROM taxi\n",
    "WHERE \"2013-12-31T00:00\"<pickup_datetime AND pickup_datetime < '2014-12-31T00:00:00')\n",
    "GROUP BY DATE(pickup_datetime))\n",
    "\n",
    "SELECT * FROM(SELECT DATE(daily_weather.date) AS date, daily_weather.dailyaveragewindspeed, \n",
    "daily_weather.dailypeakwindspeed, ride.count\n",
    "FROM daily_weather \n",
    "LEFT OUTER JOIN ride \n",
    "ON DATE(daily_weather.date)=DATE(ride.date)\n",
    "ORDER BY daily_weather.dailypeakwindspeed DESC\n",
    "LIMIT 10\n",
    ")\n",
    "\"\"\""
   ]
  },
  {
   "cell_type": "code",
   "execution_count": 29,
   "id": "9a0b9ceb",
   "metadata": {},
   "outputs": [
    {
     "data": {
      "text/plain": [
       "[('2014-03-13', 14.1, 40.0, 157),\n",
       " ('2014-12-07', 11.8, 40.0, 111),\n",
       " ('2014-02-13', 12.6, 39.0, 107),\n",
       " ('2014-02-27', 8.4, 39.0, 151),\n",
       " ('2014-01-07', 13.1, 38.0, 122),\n",
       " ('2014-02-14', 10.4, 38.0, 114),\n",
       " ('2014-03-26', 11.9, 38.0, 138),\n",
       " ('2014-04-05', 8.4, 36.0, 139),\n",
       " ('2014-04-23', 9.4, 36.0, 122),\n",
       " ('2014-11-02', 10.8, 36.0, 131)]"
      ]
     },
     "execution_count": 29,
     "metadata": {},
     "output_type": "execute_result"
    }
   ],
   "source": [
    "engine.execute(QUERY_5).fetchall()"
   ]
  },
  {
   "cell_type": "code",
   "execution_count": 30,
   "id": "b6cc2eaa",
   "metadata": {},
   "outputs": [],
   "source": [
    "#average wind speed\n",
    "QUERY_5 = \"\"\"\n",
    "WITH ride AS\n",
    "(SELECT DATE(pickup_datetime) AS date, count(pickup_datetime) AS count from (SELECT pickup_datetime FROM uber\n",
    "WHERE \"2013-12-31T00:00\"< pickup_datetime AND pickup_datetime < '2014-12-31T00:00:00'\n",
    "UNION ALL\n",
    "SELECT pickup_datetime FROM taxi\n",
    "WHERE \"2013-12-31T00:00\"<pickup_datetime AND pickup_datetime < '2014-12-31T00:00:00')\n",
    "GROUP BY DATE(pickup_datetime))\n",
    "\n",
    "SELECT * FROM(SELECT DATE(daily_weather.date) AS date, daily_weather.dailyaveragewindspeed, \n",
    "daily_weather.dailypeakwindspeed, ride.count\n",
    "FROM daily_weather \n",
    "LEFT OUTER JOIN ride \n",
    "ON DATE(daily_weather.date)=DATE(ride.date)\n",
    "ORDER BY daily_weather.dailyaveragewindspeed DESC\n",
    "LIMIT 10\n",
    ")\n",
    "\"\"\""
   ]
  },
  {
   "cell_type": "code",
   "execution_count": 31,
   "id": "72b2caf0",
   "metadata": {},
   "outputs": [
    {
     "data": {
      "text/plain": [
       "[('2014-03-13', 14.1, 40.0, 157),\n",
       " ('2014-01-07', 13.1, 38.0, 122),\n",
       " ('2014-02-13', 12.6, 39.0, 107),\n",
       " ('2014-01-02', 12.2, 28.0, 94),\n",
       " ('2014-03-26', 11.9, 38.0, 138),\n",
       " ('2014-12-07', 11.8, 40.0, 111),\n",
       " ('2014-12-08', 11.5, 29.0, 112),\n",
       " ('2014-03-29', 10.8, 35.0, 142),\n",
       " ('2014-11-02', 10.8, 36.0, 131),\n",
       " ('2014-01-03', 10.4, 29.0, 62)]"
      ]
     },
     "execution_count": 31,
     "metadata": {},
     "output_type": "execute_result"
    }
   ],
   "source": [
    "engine.execute(QUERY_5).fetchall()"
   ]
  },
  {
   "cell_type": "code",
   "execution_count": 32,
   "id": "4779542b",
   "metadata": {},
   "outputs": [],
   "source": [
    "write_query_to_file(QUERY_5, \"top10_windest_hiredtrips.sql\")"
   ]
  },
  {
   "cell_type": "markdown",
   "id": "da34bd65",
   "metadata": {},
   "source": [
    "$Question \\ 6$\n",
    "\n",
    "$\\text{During Hurricane Sandy in NYC (Oct 29-30, 2012) and the week leading up to it,}$ \n",
    "$\\text{how many trips were taken each hour, and for each hour, how much precipitation did NYC receive and what was the sustained wind speed?}$"
   ]
  },
  {
   "cell_type": "code",
   "execution_count": 33,
   "id": "865eb9b9",
   "metadata": {},
   "outputs": [],
   "source": [
    "QUERY_6 = \"\"\"\n",
    "WITH RECURSIVE ride AS ( \n",
    "SELECT COUNT(id),strftime (\"%Y-%m-%d %H\",pickup_datetime) AS Hour\n",
    "FROM taxi\n",
    "WHERE \"2012-10-22\"< pickup_datetime AND pickup_datetime < '2012-10-31'\n",
    "UNION ALL\n",
    "SELECT COUNT(id), strftime (\"%Y-%m-%d %H\",pickup_datetime) AS Hour\n",
    "FROM uber\n",
    "WHERE \"2012-10-22\"< pickup_datetime AND pickup_datetime < '2012-10-31'\n",
    "GROUP BY Hour\n",
    "ORDER BY Hour\n",
    ")\n",
    "Select * FROM ride\n",
    "JOIN  (select strftime (\"%Y-%m-%d %H\",date) AS H ,hourlyprecipitation,sustainedwindspeed from hourly_weather) on Hour = H\n",
    "\n",
    "\"\"\""
   ]
  },
  {
   "cell_type": "code",
   "execution_count": 34,
   "id": "80e95bb4",
   "metadata": {},
   "outputs": [
    {
     "data": {
      "text/plain": [
       "[(2, '2012-10-22 00', '2012-10-22 00', 0.0, 13.0),\n",
       " (1, '2012-10-22 02', '2012-10-22 02', 0.0, 13.0),\n",
       " (1, '2012-10-22 03', '2012-10-22 03', 0.0, 13.0),\n",
       " (1, '2012-10-22 05', '2012-10-22 05', 0.0, 13.0),\n",
       " (3, '2012-10-22 06', '2012-10-22 06', 0.0, 13.0),\n",
       " (5, '2012-10-22 07', '2012-10-22 07', 0.0, 13.0),\n",
       " (1, '2012-10-22 08', '2012-10-22 08', 0.0, 13.0),\n",
       " (5, '2012-10-22 09', '2012-10-22 09', 0.0, 13.0),\n",
       " (3, '2012-10-22 10', '2012-10-22 10', 0.0, 13.0),\n",
       " (8, '2012-10-22 11', '2012-10-22 11', 0.0, 13.0),\n",
       " (5, '2012-10-22 12', '2012-10-22 12', 0.0, 13.0),\n",
       " (8, '2012-10-22 13', '2012-10-22 13', 0.0, 13.0),\n",
       " (1, '2012-10-22 14', '2012-10-22 14', 0.0, 13.0),\n",
       " (1, '2012-10-22 15', '2012-10-22 15', 0.0, 13.0),\n",
       " (6, '2012-10-22 16', '2012-10-22 16', 0.0, 13.0),\n",
       " (4, '2012-10-22 17', '2012-10-22 17', 0.0, 13.0),\n",
       " (8, '2012-10-22 18', '2012-10-22 18', 0.0, 13.0),\n",
       " (2, '2012-10-22 19', '2012-10-22 19', 0.0, 13.0),\n",
       " (4, '2012-10-22 20', '2012-10-22 20', 0.0, 13.0),\n",
       " (1, '2012-10-22 21', '2012-10-22 21', 0.0, 13.0),\n",
       " (6, '2012-10-22 22', '2012-10-22 22', 0.0, 13.0),\n",
       " (2, '2012-10-23 00', '2012-10-23 00', 0.0, 8.0),\n",
       " (1, '2012-10-23 01', '2012-10-23 01', 0.0, 8.0),\n",
       " (2, '2012-10-23 05', '2012-10-23 05', 0.0, 8.0),\n",
       " (2, '2012-10-23 06', '2012-10-23 06', 0.0, 8.0),\n",
       " (7, '2012-10-23 07', '2012-10-23 07', 0.0, 8.0),\n",
       " (8, '2012-10-23 08', '2012-10-23 08', 0.0, 8.0),\n",
       " (5, '2012-10-23 09', '2012-10-23 09', 0.0, 8.0),\n",
       " (7, '2012-10-23 10', '2012-10-23 10', 0.0, 8.0),\n",
       " (6, '2012-10-23 11', '2012-10-23 11', 0.0, 8.0),\n",
       " (1, '2012-10-23 12', '2012-10-23 12', 0.0, 8.0),\n",
       " (5, '2012-10-23 13', '2012-10-23 13', 0.0, 8.0),\n",
       " (8, '2012-10-23 14', '2012-10-23 14', 0.0, 8.0),\n",
       " (4, '2012-10-23 15', '2012-10-23 15', 0.0, 8.0),\n",
       " (1, '2012-10-23 16', '2012-10-23 16', 0.0, 8.0),\n",
       " (5, '2012-10-23 18', '2012-10-23 18', 0.0, 8.0),\n",
       " (2, '2012-10-23 19', '2012-10-23 19', 0.0, 8.0),\n",
       " (8, '2012-10-23 20', '2012-10-23 20', 0.02, 8.0),\n",
       " (4, '2012-10-23 21', '2012-10-23 21', 0.0, 8.0),\n",
       " (6, '2012-10-23 22', '2012-10-23 22', 0.01, 8.0),\n",
       " (3, '2012-10-23 23', '2012-10-23 23', 0.0, 8.0),\n",
       " (4, '2012-10-24 02', '2012-10-24 02', 0.0, 10.0),\n",
       " (2, '2012-10-24 05', '2012-10-24 05', 0.0, 10.0),\n",
       " (1, '2012-10-24 07', '2012-10-24 07', 0.0, 10.0),\n",
       " (2, '2012-10-24 08', '2012-10-24 08', 0.0, 10.0),\n",
       " (4, '2012-10-24 09', '2012-10-24 09', 0.0, 10.0),\n",
       " (2, '2012-10-24 10', '2012-10-24 10', 0.0, 10.0),\n",
       " (4, '2012-10-24 11', '2012-10-24 11', 0.0, 10.0),\n",
       " (3, '2012-10-24 12', '2012-10-24 12', 0.0, 10.0),\n",
       " (4, '2012-10-24 13', '2012-10-24 13', 0.0, 10.0),\n",
       " (2, '2012-10-24 14', '2012-10-24 14', 0.0, 10.0),\n",
       " (4, '2012-10-24 15', '2012-10-24 15', 0.0, 10.0),\n",
       " (2, '2012-10-24 16', '2012-10-24 16', 0.0, 10.0),\n",
       " (5, '2012-10-24 17', '2012-10-24 17', 0.0, 10.0),\n",
       " (4, '2012-10-24 18', '2012-10-24 18', 0.0, 10.0),\n",
       " (5, '2012-10-24 19', '2012-10-24 19', 0.0, 10.0),\n",
       " (7, '2012-10-24 20', '2012-10-24 20', 0.0, 10.0),\n",
       " (7, '2012-10-24 21', '2012-10-24 21', 0.0, 10.0),\n",
       " (5, '2012-10-24 22', '2012-10-24 22', 0.0, 10.0),\n",
       " (3, '2012-10-24 23', '2012-10-24 23', 0.0, 10.0),\n",
       " (5, '2012-10-25 00', '2012-10-25 00', 0.0, 8.0),\n",
       " (1, '2012-10-25 01', '2012-10-25 01', 0.0, 8.0),\n",
       " (2, '2012-10-25 02', '2012-10-25 02', 0.0, 8.0),\n",
       " (1, '2012-10-25 04', '2012-10-25 04', 0.0, 8.0),\n",
       " (2, '2012-10-25 05', '2012-10-25 05', 0.0, 8.0),\n",
       " (4, '2012-10-25 06', '2012-10-25 06', 0.0, 8.0),\n",
       " (3, '2012-10-25 07', '2012-10-25 07', 0.0, 8.0),\n",
       " (6, '2012-10-25 08', '2012-10-25 08', 0.0, 8.0),\n",
       " (2, '2012-10-25 09', '2012-10-25 09', 0.0, 8.0),\n",
       " (4, '2012-10-25 10', '2012-10-25 10', 0.0, 8.0),\n",
       " (5, '2012-10-25 11', '2012-10-25 11', 0.0, 8.0),\n",
       " (7, '2012-10-25 12', '2012-10-25 12', 0.0, 8.0),\n",
       " (3, '2012-10-25 13', '2012-10-25 13', 0.0, 8.0),\n",
       " (3, '2012-10-25 14', '2012-10-25 14', 0.0, 8.0),\n",
       " (5, '2012-10-25 15', '2012-10-25 15', 0.0, 8.0),\n",
       " (1, '2012-10-25 16', '2012-10-25 16', 0.0, 8.0),\n",
       " (4, '2012-10-25 17', '2012-10-25 17', 0.0, 8.0),\n",
       " (4, '2012-10-25 18', '2012-10-25 18', 0.0, 8.0),\n",
       " (1, '2012-10-25 19', '2012-10-25 19', 0.0, 8.0),\n",
       " (13, '2012-10-25 20', '2012-10-25 20', 0.0, 8.0),\n",
       " (8, '2012-10-25 21', '2012-10-25 21', 0.0, 8.0),\n",
       " (6, '2012-10-25 22', '2012-10-25 22', 0.0, 8.0),\n",
       " (3, '2012-10-25 23', '2012-10-25 23', 0.0, 8.0),\n",
       " (2, '2012-10-26 00', '2012-10-26 00', 0.0, 6.0),\n",
       " (1, '2012-10-26 01', '2012-10-26 01', 0.0, 6.0),\n",
       " (3, '2012-10-26 02', '2012-10-26 02', 0.0, 6.0),\n",
       " (2, '2012-10-26 03', '2012-10-26 03', 0.0, 6.0),\n",
       " (2, '2012-10-26 04', '2012-10-26 04', 0.0, 6.0),\n",
       " (1, '2012-10-26 05', '2012-10-26 05', 0.0, 6.0),\n",
       " (4, '2012-10-26 07', '2012-10-26 07', 0.0, 6.0),\n",
       " (7, '2012-10-26 09', '2012-10-26 09', 0.0, 6.0),\n",
       " (3, '2012-10-26 10', '2012-10-26 10', 0.0, 6.0),\n",
       " (4, '2012-10-26 11', '2012-10-26 11', 0.0, 6.0),\n",
       " (2, '2012-10-26 12', '2012-10-26 12', 0.0, 6.0),\n",
       " (7, '2012-10-26 13', '2012-10-26 13', 0.0, 6.0),\n",
       " (5, '2012-10-26 14', '2012-10-26 14', 0.0, 6.0),\n",
       " (3, '2012-10-26 15', '2012-10-26 15', 0.0, 6.0),\n",
       " (2, '2012-10-26 16', '2012-10-26 16', 0.0, 6.0),\n",
       " (3, '2012-10-26 17', '2012-10-26 17', 0.0, 6.0),\n",
       " (3, '2012-10-26 18', '2012-10-26 18', 0.0, 6.0),\n",
       " (319, '2012-10-26 18', '2012-10-26 18', 0.0, 6.0),\n",
       " (5, '2012-10-26 19', '2012-10-26 19', 0.0, 6.0),\n",
       " (10, '2012-10-26 20', '2012-10-26 20', 0.0, 6.0),\n",
       " (4, '2012-10-26 21', '2012-10-26 21', 0.0, 6.0),\n",
       " (8, '2012-10-26 22', '2012-10-26 22', 0.0, 6.0),\n",
       " (4, '2012-10-26 23', '2012-10-26 23', 0.0, 6.0),\n",
       " (6, '2012-10-27 00', '2012-10-27 00', 0.0, 15.0),\n",
       " (3, '2012-10-27 01', '2012-10-27 01', 0.0, 15.0),\n",
       " (6, '2012-10-27 02', '2012-10-27 02', 0.0, 15.0),\n",
       " (4, '2012-10-27 03', '2012-10-27 03', 0.0, 15.0),\n",
       " (2, '2012-10-27 05', '2012-10-27 05', 0.0, 15.0),\n",
       " (1, '2012-10-27 06', '2012-10-27 06', 0.0, 15.0),\n",
       " (1, '2012-10-27 07', '2012-10-27 07', 0.0, 15.0),\n",
       " (6, '2012-10-27 09', '2012-10-27 09', 0.0, 15.0),\n",
       " (2, '2012-10-27 10', '2012-10-27 10', 0.0, 15.0),\n",
       " (1, '2012-10-27 11', '2012-10-27 11', 0.0, 15.0),\n",
       " (5, '2012-10-27 12', '2012-10-27 12', 0.0, 15.0),\n",
       " (2, '2012-10-27 13', '2012-10-27 13', 0.0, 15.0),\n",
       " (3, '2012-10-27 14', '2012-10-27 14', 0.0, 15.0),\n",
       " (3, '2012-10-27 15', '2012-10-27 15', 0.0, 15.0),\n",
       " (8, '2012-10-27 16', '2012-10-27 16', 0.0, 15.0),\n",
       " (10, '2012-10-27 17', '2012-10-27 17', 0.0, 15.0),\n",
       " (7, '2012-10-27 18', '2012-10-27 18', 0.0, 15.0),\n",
       " (6, '2012-10-27 19', '2012-10-27 19', 0.0, 15.0),\n",
       " (9, '2012-10-27 20', '2012-10-27 20', 0.0, 15.0),\n",
       " (6, '2012-10-27 21', '2012-10-27 21', 0.0, 15.0),\n",
       " (7, '2012-10-27 22', '2012-10-27 22', 0.0, 15.0),\n",
       " (8, '2012-10-27 23', '2012-10-27 23', 0.0, 15.0),\n",
       " (6, '2012-10-28 00', '2012-10-28 00', 0.0, 24.0),\n",
       " (8, '2012-10-28 01', '2012-10-28 01', 0.0, 24.0),\n",
       " (3, '2012-10-28 02', '2012-10-28 02', 0.0, 24.0),\n",
       " (3, '2012-10-28 03', '2012-10-28 03', 0.0, 24.0),\n",
       " (4, '2012-10-28 04', '2012-10-28 04', 0.0, 24.0),\n",
       " (1, '2012-10-28 05', '2012-10-28 05', 0.0, 24.0),\n",
       " (2, '2012-10-28 07', '2012-10-28 07', 0.0, 24.0),\n",
       " (1, '2012-10-28 08', '2012-10-28 08', 0.0, 24.0),\n",
       " (4, '2012-10-28 09', '2012-10-28 09', 0.0, 24.0),\n",
       " (2, '2012-10-28 10', '2012-10-28 10', 0.0, 24.0),\n",
       " (5, '2012-10-28 11', '2012-10-28 11', 0.0, 24.0),\n",
       " (2, '2012-10-28 12', '2012-10-28 12', 0.0, 24.0),\n",
       " (3, '2012-10-28 13', '2012-10-28 13', 0.0, 24.0),\n",
       " (5, '2012-10-28 14', '2012-10-28 14', 0.0, 24.0),\n",
       " (6, '2012-10-28 15', '2012-10-28 15', 0.0, 24.0),\n",
       " (4, '2012-10-28 16', '2012-10-28 16', 0.0, 24.0),\n",
       " (4, '2012-10-28 17', '2012-10-28 17', 0.0, 24.0),\n",
       " (5, '2012-10-28 18', '2012-10-28 18', 0.0, 24.0),\n",
       " (3, '2012-10-28 19', '2012-10-28 19', 0.0, 24.0),\n",
       " (4, '2012-10-28 20', '2012-10-28 20', 0.0, 24.0),\n",
       " (3, '2012-10-28 21', '2012-10-28 21', 0.0, 24.0),\n",
       " (3, '2012-10-28 22', '2012-10-28 22', 0.0, 24.0),\n",
       " (1, '2012-10-28 23', '2012-10-28 23', 0.0, 24.0),\n",
       " (1, '2012-10-29 00', '2012-10-29 00', 0.0, 38.0),\n",
       " (1, '2012-10-29 02', '2012-10-29 02', 0.0, 38.0),\n",
       " (1, '2012-10-29 04', '2012-10-29 04', 0.0, 38.0),\n",
       " (1, '2012-10-29 07', '2012-10-29 07', 0.02, 38.0),\n",
       " (1, '2012-10-29 09', '2012-10-29 09', 0.0, 38.0),\n",
       " (3, '2012-10-29 11', '2012-10-29 11', 0.02, 38.0),\n",
       " (4, '2012-10-29 12', '2012-10-29 12', 0.04, 38.0),\n",
       " (2, '2012-10-29 14', '2012-10-29 14', 0.0333333333333333, 38.0),\n",
       " (2, '2012-10-29 15', '2012-10-29 15', 0.09, 38.0),\n",
       " (1, '2012-10-29 17', '2012-10-29 17', 0.055, 38.0),\n",
       " (3, '2012-10-29 18', '2012-10-29 18', 0.02, 38.0),\n",
       " (1, '2012-10-29 21', '2012-10-29 21', 0.0, 38.0),\n",
       " (1, '2012-10-30 00', '2012-10-30 00', 0.025, 21.0),\n",
       " (1, '2012-10-30 04', '2012-10-30 04', 0.0, 21.0),\n",
       " (2, '2012-10-30 09', '2012-10-30 09', 0.0533333333333333, 21.0),\n",
       " (3, '2012-10-30 10', '2012-10-30 10', 0.02, 21.0),\n",
       " (3, '2012-10-30 11', '2012-10-30 11', 0.0, 21.0),\n",
       " (2, '2012-10-30 12', '2012-10-30 12', 0.0, 21.0),\n",
       " (3, '2012-10-30 13', '2012-10-30 13', 0.0, 21.0),\n",
       " (1, '2012-10-30 14', '2012-10-30 14', 0.0, 21.0),\n",
       " (3, '2012-10-30 15', '2012-10-30 15', 0.0, 21.0),\n",
       " (1, '2012-10-30 16', '2012-10-30 16', 0.01, 21.0),\n",
       " (3, '2012-10-30 17', '2012-10-30 17', 0.0, 21.0),\n",
       " (2, '2012-10-30 18', '2012-10-30 18', 0.0, 21.0),\n",
       " (4, '2012-10-30 19', '2012-10-30 19', 0.0, 21.0),\n",
       " (2, '2012-10-30 20', '2012-10-30 20', 0.0, 21.0),\n",
       " (2, '2012-10-30 21', '2012-10-30 21', 0.0, 21.0),\n",
       " (3, '2012-10-30 22', '2012-10-30 22', 0.0, 21.0),\n",
       " (2, '2012-10-30 23', '2012-10-30 23', 0.0, 21.0)]"
      ]
     },
     "execution_count": 34,
     "metadata": {},
     "output_type": "execute_result"
    }
   ],
   "source": [
    "engine.execute(QUERY_6).fetchall()"
   ]
  },
  {
   "cell_type": "markdown",
   "id": "b3c7f534",
   "metadata": {},
   "source": [
    "## Part 4: Visualizing the Data\n",
    "\n",
    "_A checklist of requirements to keep you on track. Remove this whole cell before submitting the project. The order of these tasks aren't necessarily the order in which they need to be done. It's okay to do them in an order that makes sense to you._\n",
    "\n",
    "* [ ] Create an appropriate visualization for the first query/question in part 3\n",
    "* [ ] Create a visualization that shows the average distance traveled per month (regardless of year - so group by each month). Include the 90% confidence interval around the mean in the visualization\n",
    "* [ ] Define three lat/long coordinate boxes around the three major New York airports: LGA, JFK, and EWR (you can use bboxfinder to help). Create a visualization that compares what day of the week was most popular for drop offs for each airport.\n",
    "* [ ] Create a heatmap of all hired trips over a map of the area. Consider using KeplerGL or another library that helps generate geospatial visualizations.\n",
    "* [ ] Create a scatter plot that compares tip amount versus distance.\n",
    "* [ ] Create another scatter plot that compares tip amount versus precipitation amount.\n",
    "\n",
    "_Be sure these cells are executed so that the visualizations are rendered when the notebook is submitted._"
   ]
  },
  {
   "cell_type": "code",
   "execution_count": 92,
   "id": "45535ae8",
   "metadata": {},
   "outputs": [
    {
     "data": {
      "text/html": [
       "<div>\n",
       "<style scoped>\n",
       "    .dataframe tbody tr th:only-of-type {\n",
       "        vertical-align: middle;\n",
       "    }\n",
       "\n",
       "    .dataframe tbody tr th {\n",
       "        vertical-align: top;\n",
       "    }\n",
       "\n",
       "    .dataframe thead th {\n",
       "        text-align: right;\n",
       "    }\n",
       "</style>\n",
       "<table border=\"1\" class=\"dataframe\">\n",
       "  <thead>\n",
       "    <tr style=\"text-align: right;\">\n",
       "      <th></th>\n",
       "      <th>LGA</th>\n",
       "      <th>JFK</th>\n",
       "      <th>EWR</th>\n",
       "    </tr>\n",
       "    <tr>\n",
       "      <th>Day</th>\n",
       "      <th></th>\n",
       "      <th></th>\n",
       "      <th></th>\n",
       "    </tr>\n",
       "  </thead>\n",
       "  <tbody>\n",
       "    <tr>\n",
       "      <th>Sat</th>\n",
       "      <td>853</td>\n",
       "      <td>491</td>\n",
       "      <td>89</td>\n",
       "    </tr>\n",
       "    <tr>\n",
       "      <th>Fri</th>\n",
       "      <td>820</td>\n",
       "      <td>532</td>\n",
       "      <td>95</td>\n",
       "    </tr>\n",
       "    <tr>\n",
       "      <th>Tue</th>\n",
       "      <td>721</td>\n",
       "      <td>469</td>\n",
       "      <td>85</td>\n",
       "    </tr>\n",
       "    <tr>\n",
       "      <th>Thur</th>\n",
       "      <td>704</td>\n",
       "      <td>456</td>\n",
       "      <td>93</td>\n",
       "    </tr>\n",
       "    <tr>\n",
       "      <th>Mon</th>\n",
       "      <td>659</td>\n",
       "      <td>501</td>\n",
       "      <td>107</td>\n",
       "    </tr>\n",
       "    <tr>\n",
       "      <th>Wed</th>\n",
       "      <td>613</td>\n",
       "      <td>388</td>\n",
       "      <td>75</td>\n",
       "    </tr>\n",
       "    <tr>\n",
       "      <th>Sun</th>\n",
       "      <td>424</td>\n",
       "      <td>416</td>\n",
       "      <td>58</td>\n",
       "    </tr>\n",
       "  </tbody>\n",
       "</table>\n",
       "</div>"
      ],
      "text/plain": [
       "      LGA  JFK  EWR\n",
       "Day                \n",
       "Sat   853  491   89\n",
       "Fri   820  532   95\n",
       "Tue   721  469   85\n",
       "Thur  704  456   93\n",
       "Mon   659  501  107\n",
       "Wed   613  388   75\n",
       "Sun   424  416   58"
      ]
     },
     "execution_count": 92,
     "metadata": {},
     "output_type": "execute_result"
    }
   ],
   "source": [
    "LGA_BOX_COORDS=((40.765,-73.8893),(40.7864,-73.8512))\n",
    "JFK_BOX_COORDS=((40.6211,-73.8232),(40.6648,-73.7484))\n",
    "EWR_BOX_COORDS=((40.6704,-74.2151),(40.7114,-74.1132))\n",
    "NEW_YORK_BOX_COORDS = ((40.560445, -74.242330), (40.908524, -73.717047))\n",
    "\n",
    "QUERY_LGA=\"\"\"\n",
    "WITH RECURSIVE ride AS ( \n",
    "    SELECT (strftime (\"%w\",pickup_datetime)+1) AS Day,id, dropoff_longitude, dropoff_latitude FROM taxi\n",
    "    WHERE  40.765<dropoff_latitude AND dropoff_latitude< 40.7864 AND -73.8893 <dropoff_longitude AND dropoff_longitude<-73.8512\n",
    "    UNION ALL\n",
    "    SELECT (strftime (\"%w\",pickup_datetime)+1) AS Day,id,dropoff_longitude, dropoff_latitude FROM uber\n",
    "    WHERE  40.765<dropoff_latitude AND dropoff_latitude< 40.7864 AND -73.8893 <dropoff_longitude AND dropoff_longitude<-73.8512\n",
    "    )\n",
    "SELECT Day,COUNT(id) FROM ride    \n",
    "GROUP BY Day\n",
    "ORDER BY COUNT(id) DESC\n",
    "\"\"\" \n",
    "QUERY_JFK=\"\"\"\n",
    "WITH RECURSIVE ride AS ( \n",
    "    SELECT (strftime (\"%w\",pickup_datetime)+1) AS Day,id, dropoff_longitude, dropoff_latitude \n",
    "    FROM taxi\n",
    "    WHERE  40.6211 <dropoff_latitude AND dropoff_latitude< 40.6648 AND  -73.8232 <dropoff_longitude AND dropoff_longitude< -73.7484\n",
    "    UNION ALL\n",
    "    SELECT (strftime (\"%w\",pickup_datetime)+1) AS Day,id,dropoff_longitude, dropoff_latitude \n",
    "    FROM uber\n",
    "    WHERE  40.6211 <dropoff_latitude AND dropoff_latitude< 40.6648  AND  -73.8232 <dropoff_longitude AND dropoff_longitude< -73.7484\n",
    "    )\n",
    "SELECT Day,COUNT(id) FROM ride    \n",
    "GROUP BY Day\n",
    "ORDER BY COUNT(id) DESC\n",
    "\"\"\" \n",
    "QUERY_EWR=\"\"\"\n",
    "WITH RECURSIVE ride AS ( \n",
    "    SELECT (strftime (\"%w\",pickup_datetime)+1) AS Day,id, dropoff_longitude, dropoff_latitude FROM taxi\n",
    "    WHERE 40.6704<dropoff_latitude AND dropoff_latitude< 40.7214 AND -74.2151 <dropoff_longitude AND dropoff_longitude<-74.1132\n",
    "    UNION ALL\n",
    "    SELECT (strftime (\"%w\",pickup_datetime)+1) AS Day,id,dropoff_longitude, dropoff_latitude FROM uber\n",
    "    WHERE 40.6704<dropoff_latitude AND dropoff_latitude< 40.7214 AND -74.2151 <dropoff_longitude AND dropoff_longitude<-74.1132\n",
    "    )\n",
    "SELECT Day,COUNT(id) FROM ride    \n",
    "GROUP BY Day\n",
    "ORDER BY COUNT(id) DESC\n",
    " \"\"\" \n",
    "LGA=pd.DataFrame(engine.execute(QUERY_LGA).fetchall())\n",
    "LGA.replace([1,2,3,4,5,6,7],[\"Mon\",\"Tue\",\"Wed\",\"Thur\",\"Fri\",\"Sat\",\"Sun\"],inplace=True)\n",
    "LGA_1=LGA[[\"Day\",\"COUNT(id)\"]].set_index(\"Day\")\n",
    "\n",
    "JFK=pd.DataFrame(engine.execute(QUERY_JFK).fetchall())\n",
    "JFK.replace([1,2,3,4,5,6,7],[\"Mon\",\"Tue\",\"Wed\",\"Thur\",\"Fri\",\"Sat\",\"Sun\"],inplace=True)\n",
    "JFK_1=JFK[[\"Day\",\"COUNT(id)\"]].set_index(\"Day\")\n",
    "\n",
    "EWR=pd.DataFrame(engine.execute(QUERY_EWR).fetchall())\n",
    "EWR.replace([1,2,3,4,5,6,7],[\"Mon\",\"Tue\",\"Wed\",\"Thur\",\"Fri\",\"Sat\",\"Sun\"],inplace=True)\n",
    "EWR_1=EWR[[\"Day\",\"COUNT(id)\"]].set_index(\"Day\")\n",
    "\n",
    "ALL=pd.concat([LGA_1,JFK_1,EWR_1],axis=1)\n",
    "ALL.columns=[\"LGA\",\"JFK\",\"EWR\"]\n",
    "\n",
    "ALL"
   ]
  },
  {
   "cell_type": "code",
   "execution_count": 96,
   "id": "4949eb47",
   "metadata": {},
   "outputs": [
    {
     "data": {
      "text/plain": [
       "<AxesSubplot: xlabel='Day'>"
      ]
     },
     "execution_count": 96,
     "metadata": {},
     "output_type": "execute_result"
    },
    {
     "data": {
      "image/png": "[encoded data removed]",
      "text/plain": [
       "<Figure size 1000x500 with 1 Axes>"
      ]
     },
     "metadata": {},
     "output_type": "display_data"
    }
   ],
   "source": [
    "ALL.plot(kind='bar',figsize=(10,5))"
   ]
  },
  {
   "cell_type": "code",
   "execution_count": 106,
   "id": "489d8dc0",
   "metadata": {},
   "outputs": [
    {
     "data": {
      "text/plain": [
       "<AxesSubplot: title={'center': 'LGA'}, ylabel='Day'>"
      ]
     },
     "execution_count": 106,
     "metadata": {},
     "output_type": "execute_result"
    },
    {
     "data": {
      "image/png": "[encoded data removed]",
      "text/plain": [
       "<Figure size 700x500 with 1 Axes>"
      ]
     },
     "metadata": {},
     "output_type": "display_data"
    }
   ],
   "source": [
    "LGA_1.plot(kind='barh',title=\"LGA\",figsize=(7,5))"
   ]
  },
  {
   "cell_type": "code",
   "execution_count": 107,
   "id": "6a8fe778",
   "metadata": {},
   "outputs": [
    {
     "data": {
      "text/plain": [
       "<AxesSubplot: title={'center': 'JFK'}, ylabel='Day'>"
      ]
     },
     "execution_count": 107,
     "metadata": {},
     "output_type": "execute_result"
    },
    {
     "data": {
      "image/png": "[encoded data removed]",
      "text/plain": [
       "<Figure size 700x500 with 1 Axes>"
      ]
     },
     "metadata": {},
     "output_type": "display_data"
    }
   ],
   "source": [
    "JFK_1.plot(kind='barh',title=\"JFK\",figsize=(7,5))"
   ]
  },
  {
   "cell_type": "code",
   "execution_count": 108,
   "id": "f9ed2556",
   "metadata": {},
   "outputs": [
    {
     "data": {
      "text/plain": [
       "<AxesSubplot: title={'center': 'EWR'}, ylabel='Day'>"
      ]
     },
     "execution_count": 108,
     "metadata": {},
     "output_type": "execute_result"
    },
    {
     "data": {
      "image/png": "[encoded data removed]",
      "text/plain": [
       "<Figure size 700x500 with 1 Axes>"
      ]
     },
     "metadata": {},
     "output_type": "display_data"
    }
   ],
   "source": [
    "EWR_1.plot(kind='barh',title=\"EWR\",figsize=(7,5))"
   ]
  },
  {
   "cell_type": "markdown",
   "id": "3351fd9a",
   "metadata": {},
   "source": [
    "### Visualization N\n",
    "\n",
    "_**TODO:** Write some prose that tells the reader what you're about to do here._\n",
    "\n",
    "_Repeat for each visualization._\n",
    "\n",
    "_The example below makes use of the `matplotlib` library. There are other libraries, including `pandas` built-in plotting library, kepler for geospatial data representation, `seaborn`, and others._"
   ]
  },
  {
   "cell_type": "code",
   "execution_count": null,
   "id": "b2f4c3f5",
   "metadata": {},
   "outputs": [],
   "source": [
    "# use a more descriptive name for your function\n",
    "def plot_visual_n(dataframe):\n",
    "    figure, axes = plt.subplots(figsize=(20, 10))\n",
    "    \n",
    "    values = \"...\"  # use the dataframe to pull out values needed to plot\n",
    "    \n",
    "    # you may want to use matplotlib to plot your visualizations;\n",
    "    # there are also many other plot types (other \n",
    "    # than axes.plot) you can use\n",
    "    axes.plot(values, \"...\")\n",
    "    # there are other methods to use to label your axes, to style \n",
    "    # and set up axes labels, etc\n",
    "    axes.set_title(\"Some Descriptive Title\")\n",
    "    \n",
    "    plt.show()"
   ]
  },
  {
   "cell_type": "code",
   "execution_count": 109,
   "id": "8c80a131",
   "metadata": {},
   "outputs": [
    {
     "data": {
      "image/png": "[encoded data removed]",
      "text/plain": [
       "<Figure size 800x550 with 1 Axes>"
      ]
     },
     "metadata": {},
     "output_type": "display_data"
    }
   ],
   "source": [
    "def get_data_for_visual_1():\n",
    "    QUERY_1=\"\"\"\n",
    "    SELECT hour,COUNT(hour) FROM taxi\n",
    "    WHERE pickup_datetime BETWEEN \"2009-01-01\" AND \"2015-07-01\"\n",
    "    GROUP BY hour\n",
    "    ORDER BY COUNT(hour) DESC\n",
    "\n",
    "    \"\"\" \n",
    "    x=pd.DataFrame(engine.execute(QUERY_1).fetchall(),columns=[\"Hour\",\"Count\"])\n",
    "    plt.bar(x[\"Hour\"],x[\"Count\"])\n",
    "    plt.xlabel(\"Hour of The Day\")\n",
    "    plt.ylabel(\"Count\")\n",
    "    plt.show()\n",
    "\n",
    "    #print(type(x),x)\n",
    "get_data_for_visual_1()"
   ]
  },
  {
   "cell_type": "code",
   "execution_count": null,
   "id": "01bb766a",
   "metadata": {},
   "outputs": [],
   "source": [
    "some_dataframe = get_data_for_visual_n()\n",
    "plot_visual_n(some_dataframe)"
   ]
  },
  {
   "cell_type": "code",
   "execution_count": null,
   "id": "1978446a",
   "metadata": {},
   "outputs": [],
   "source": [
    "import seaborn as sns\n",
    "import matplotlib.pyplot as plt\n",
    "import matplotlib.pyplot as plt\n",
    "from importlib import reload\n",
    "plt=reload(plt)"
   ]
  },
  {
   "cell_type": "code",
   "execution_count": 110,
   "id": "4158b7d7",
   "metadata": {},
   "outputs": [
    {
     "data": {
      "image/png": "[encoded data removed]",
      "text/plain": [
       "<Figure size 800x550 with 1 Axes>"
      ]
     },
     "metadata": {},
     "output_type": "display_data"
    }
   ],
   "source": [
    "QUERY=\"\"\"\n",
    "SELECT tip, distance FROM taxi\n",
    "WHERE tip>=0 AND distance >0\n",
    "\"\"\"\n",
    "x=pd.DataFrame(engine.execute(QUERY).fetchall())\n",
    "plt.scatter(x[\"distance\"],x[\"tip\"])\n",
    "plt.xlabel(\"Distance\")\n",
    "plt.ylabel(\"Tip Amount\")\n",
    "plt.show()"
   ]
  },
  {
   "cell_type": "code",
   "execution_count": 111,
   "id": "71ed647b",
   "metadata": {},
   "outputs": [
    {
     "data": {
      "text/html": [
       "<div>\n",
       "<style scoped>\n",
       "    .dataframe tbody tr th:only-of-type {\n",
       "        vertical-align: middle;\n",
       "    }\n",
       "\n",
       "    .dataframe tbody tr th {\n",
       "        vertical-align: top;\n",
       "    }\n",
       "\n",
       "    .dataframe thead th {\n",
       "        text-align: right;\n",
       "    }\n",
       "</style>\n",
       "<table border=\"1\" class=\"dataframe\">\n",
       "  <thead>\n",
       "    <tr style=\"text-align: right;\">\n",
       "      <th></th>\n",
       "      <th>count(id)</th>\n",
       "      <th>tip</th>\n",
       "      <th>distance</th>\n",
       "    </tr>\n",
       "  </thead>\n",
       "  <tbody>\n",
       "    <tr>\n",
       "      <th>0</th>\n",
       "      <td>86818</td>\n",
       "      <td>0.00</td>\n",
       "      <td>1.10</td>\n",
       "    </tr>\n",
       "    <tr>\n",
       "      <th>1</th>\n",
       "      <td>85</td>\n",
       "      <td>0.01</td>\n",
       "      <td>1.30</td>\n",
       "    </tr>\n",
       "    <tr>\n",
       "      <th>2</th>\n",
       "      <td>40</td>\n",
       "      <td>0.02</td>\n",
       "      <td>0.73</td>\n",
       "    </tr>\n",
       "    <tr>\n",
       "      <th>3</th>\n",
       "      <td>9</td>\n",
       "      <td>0.03</td>\n",
       "      <td>3.40</td>\n",
       "    </tr>\n",
       "    <tr>\n",
       "      <th>4</th>\n",
       "      <td>6</td>\n",
       "      <td>0.04</td>\n",
       "      <td>0.80</td>\n",
       "    </tr>\n",
       "    <tr>\n",
       "      <th>...</th>\n",
       "      <td>...</td>\n",
       "      <td>...</td>\n",
       "      <td>...</td>\n",
       "    </tr>\n",
       "    <tr>\n",
       "      <th>1486</th>\n",
       "      <td>2</td>\n",
       "      <td>35.00</td>\n",
       "      <td>0.37</td>\n",
       "    </tr>\n",
       "    <tr>\n",
       "      <th>1487</th>\n",
       "      <td>5</td>\n",
       "      <td>50.00</td>\n",
       "      <td>1.25</td>\n",
       "    </tr>\n",
       "    <tr>\n",
       "      <th>1488</th>\n",
       "      <td>1</td>\n",
       "      <td>63.00</td>\n",
       "      <td>19.85</td>\n",
       "    </tr>\n",
       "    <tr>\n",
       "      <th>1489</th>\n",
       "      <td>1</td>\n",
       "      <td>80.00</td>\n",
       "      <td>6.50</td>\n",
       "    </tr>\n",
       "    <tr>\n",
       "      <th>1490</th>\n",
       "      <td>1</td>\n",
       "      <td>100.00</td>\n",
       "      <td>0.50</td>\n",
       "    </tr>\n",
       "  </tbody>\n",
       "</table>\n",
       "<p>1491 rows × 3 columns</p>\n",
       "</div>"
      ],
      "text/plain": [
       "      count(id)     tip  distance\n",
       "0         86818    0.00      1.10\n",
       "1            85    0.01      1.30\n",
       "2            40    0.02      0.73\n",
       "3             9    0.03      3.40\n",
       "4             6    0.04      0.80\n",
       "...         ...     ...       ...\n",
       "1486          2   35.00      0.37\n",
       "1487          5   50.00      1.25\n",
       "1488          1   63.00     19.85\n",
       "1489          1   80.00      6.50\n",
       "1490          1  100.00      0.50\n",
       "\n",
       "[1491 rows x 3 columns]"
      ]
     },
     "execution_count": 111,
     "metadata": {},
     "output_type": "execute_result"
    }
   ],
   "source": [
    "QUERY=\"\"\"\n",
    "SELECT count(id),tip, distance FROM taxi\n",
    "WHERE tip>=0 AND distance >0\n",
    "GROUP BY tip\n",
    "\"\"\"\n",
    "c=pd.DataFrame(engine.execute(QUERY).fetchall())\n",
    "c"
   ]
  },
  {
   "cell_type": "code",
   "execution_count": 116,
   "id": "701023bb",
   "metadata": {},
   "outputs": [
    {
     "data": {
      "image/png": "[encoded data removed]",
      "text/plain": [
       "<Figure size 800x550 with 2 Axes>"
      ]
     },
     "metadata": {},
     "output_type": "display_data"
    }
   ],
   "source": [
    "#plt.scatter(x[\"distance\"],x[\"tip\"])\n",
    "#plt.xlabel(\"Distance\")\n",
    "#plt.ylabel(\"Tip Amount\")\n",
    "#plt.show()\n",
    "x = c[\"tip\"]\n",
    "y = c[\"distance\"]\n",
    "\n",
    "# random values for colors (we'll learn more later on)\n",
    "colors = 0.01*c[\"count(id)\"]\n",
    "\n",
    "# random sizes for the points being plotted\n",
    "sizes =  2* c[\"count(id)\"]\n",
    "\n",
    "plt.scatter(x, y, c=colors, s=sizes, alpha=0.5, cmap='viridis')\n",
    "plt.colorbar();"
   ]
  },
  {
   "cell_type": "code",
   "execution_count": null,
   "id": "919e0c02",
   "metadata": {},
   "outputs": [],
   "source": []
  }
 ],
 "metadata": {
  "kernelspec": {
   "display_name": "Python 3 (ipykernel)",
   "language": "python",
   "name": "python3"
  },
  "language_info": {
   "codemirror_mode": {
    "name": "ipython",
    "version": 3
   },
   "file_extension": ".py",
   "mimetype": "text/x-python",
   "name": "python",
   "nbconvert_exporter": "python",
   "pygments_lexer": "ipython3",
   "version": "3.10.5"
  }
 },
 "nbformat": 4,
 "nbformat_minor": 5
}
