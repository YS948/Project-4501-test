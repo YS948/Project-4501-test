{
 "cells": [
  {
   "cell_type": "markdown",
   "id": "32f8ca24",
   "metadata": {},
   "source": [
    "# Understanding Hired Rides in NYC\n",
    "\n",
    "_[Project prompt](https://docs.google.com/document/d/1VERPjEZcC1XSs4-02aM-DbkNr_yaJVbFjLJxaYQswqA/edit#)_\n",
    "\n",
    "_This scaffolding notebook may be used to help setup your final project. It's **totally optional** whether you make use of this or not._\n",
    "\n",
    "_If you do use this notebook, everything provided is optional as well - you may remove or add prose and code as you wish._\n",
    "\n",
    "_Anything in italics (prose) or comments (in code) is meant to provide you with guidance. **Remove the italic lines and provided comments** before submitting the project, if you choose to use this scaffolding. We don't need the guidance when grading._\n",
    "\n",
    "_**All code below should be consider \"pseudo-code\" - not functional by itself, and only a suggestion at the approach.**_"
   ]
  },
  {
   "cell_type": "markdown",
   "id": "25627e8d",
   "metadata": {},
   "source": [
    "## Requirements\n",
    "\n",
    "_A checklist of requirements to keep you on track. Remove this whole cell before submitting the project._\n",
    "\n",
    "* Code clarity: make sure the code conforms to:\n",
    "    * [ ] [PEP 8](https://peps.python.org/pep-0008/) - You might find [this resource](https://realpython.com/python-pep8/) helpful as well as [this](https://github.com/dnanhkhoa/nb_black) or [this](https://jupyterlab-code-formatter.readthedocs.io/en/latest/) tool\n",
    "    * [ ] [PEP 257](https://peps.python.org/pep-0257/)\n",
    "    * [ ] Break each task down into logical functions\n",
    "* The following files are submitted for the project (see the project's GDoc for more details):\n",
    "    * [ ] `README.md`\n",
    "    * [ ] `requirements.txt`\n",
    "    * [ ] `.gitignore`\n",
    "    * [ ] `schema.sql`\n",
    "    * [ ] 6 query files (using the `.sql` extension), appropriately named for the purpose of the query\n",
    "    * [x] Jupyter Notebook containing the project (this file!)\n",
    "* [x] You can edit this cell and add a `x` inside the `[ ]` like this task to denote a completed task"
   ]
  },
  {
   "cell_type": "markdown",
   "id": "2f75fd94",
   "metadata": {},
   "source": [
    "## Project Setup"
   ]
  },
  {
   "cell_type": "code",
   "execution_count": 1,
   "id": "66dcde05",
   "metadata": {},
   "outputs": [],
   "source": [
    "# all import statements needed for the project, for example:\n",
    "import math\n",
    "import bs4\n",
    "import requests\n",
    "import sqlalchemy as db\n",
    "import pandas as pd \n",
    "import numpy as np\n",
    "import datetime as dt\n",
    "import matplotlib as mpl \n",
    "import matplotlib.pyplot as plt\n",
    "mpl.rcParams['font.family']='serif'\n",
    "plt.style.use('seaborn') \n",
    "import os \n",
    "os.chdir('/Users/yw/Desktop/4501 Project') "
   ]
  },
  {
   "cell_type": "code",
   "execution_count": 2,
   "id": "3f1242c4",
   "metadata": {},
   "outputs": [],
   "source": [
    "# add other constants to refer to any local data, e.g. uber & weather\n",
    "UBER_CSV = \"uber_rides_sample.csv\"\n",
    "DATABASE_URL = \"sqlite:///project.db\"\n",
    "DATABASE_SCHEMA_FILE = \"schema.sql\""
   ]
  },
  {
   "cell_type": "markdown",
   "id": "26ad10ea",
   "metadata": {},
   "source": [
    "## Part 1: Data Preprocessing"
   ]
  },
  {
   "cell_type": "markdown",
   "id": "32074561",
   "metadata": {},
   "source": [
    "### Calculating distance\n",
    "For uber data, calculate the distance between the pickup and dropoff places."
   ]
  },
  {
   "cell_type": "markdown",
   "id": "2efc6f92",
   "metadata": {},
   "source": [
    "$distance=2rarcsin \\bigg(\\sqrt { sin^2 \\big( \\frac{\\phi_2-\\phi_1}{2} \\big) +cos \\phi_1 · cos\\phi_2  · sin^2 \\big( \\frac{\\lambda_2 - \\lambda_1}{2} \\big) } \\bigg) $\n",
    "\n",
    "$\\phi: \\text{latitude of points};\\  \\lambda: \\text{longtitude of points}; \\ r: \\text{radius of sphere}$"
   ]
  },
  {
   "cell_type": "code",
   "execution_count": 3,
   "id": "4c081fd7",
   "metadata": {},
   "outputs": [],
   "source": [
    "def calculate_and_add_distance(data,length): #input dataframe:([longtitude1,latitude1],[longtitude2,latitude2]) \n",
    "    r=6373 #Earth radius\n",
    "    \n",
    "    #use radians rather than degrees\n",
    "    for i in range(length):\n",
    "        data.loc[i,'picklong']=math.radians(data.loc[i,'pickup_longitude'])\n",
    "        data.loc[i,'picklat']=math.radians(data.loc[i,'pickup_latitude'])\n",
    "        data.loc[i,'droplong']=math.radians(data.loc[i,'dropoff_longitude'])\n",
    "        data.loc[i,'droplat']=math.radians(data.loc[i,'dropoff_latitude'])\n",
    "    \n",
    "        data.loc[i,'distance']=2*r*math.asin(\n",
    "            math.sqrt((math.sin((data.loc[i,'droplat']-data.loc[i,'picklat'])/2))**2\n",
    "                  +math.cos(data.loc[i,'picklat'])*math.cos(data.loc[i,'droplat'])\n",
    "                      *(math.sin((data.loc[i,'droplong']-data.loc[i,'picklong'])/2))**2))\n",
    "    del data['picklong'],data['picklat'],data['droplong'],data['droplat']\n",
    "    return data"
   ]
  },
  {
   "cell_type": "markdown",
   "id": "094b4d6d",
   "metadata": {},
   "source": [
    "### Processing Uber Data\n",
    "\n",
    "1. Load data with pandas\n",
    "2. Clean the data: \n",
    "- Remove unnecessary columns: unnamed and key\n",
    "- Remove invalid data points: 1 missing data of dropoff longitude and dropoff latitude & wrong range of the longitude、latitude and passenger_count (208 passengers are too large for a car)\n",
    "- Remove trips that start and/or end outside the designated coordinate box (-74.242330, 40.560445); (-73.717047, 40.560445); (-74.242330, 40.908524); (-73.717047, 40.908524)\n",
    "3. Add distance column use the distance function defined above"
   ]
  },
  {
   "cell_type": "code",
   "execution_count": 4,
   "id": "0199798d",
   "metadata": {},
   "outputs": [],
   "source": [
    "uber=pd.read_csv(UBER_CSV)"
   ]
  },
  {
   "cell_type": "code",
   "execution_count": 5,
   "id": "7c58e3a2",
   "metadata": {},
   "outputs": [],
   "source": [
    "def load_and_clean_uber_data(uber):\n",
    "    uber=uber.iloc[:,2:] #drop unnecessary columns: unnamed and key\n",
    "    #proper data type: UTC to YYYYMMDD HHMMSS\n",
    "    uber.pickup_datetime=pd.to_datetime(uber.pickup_datetime) \n",
    "    uber['pickup_datetime']=uber['pickup_datetime'].dt.tz_localize(None)\n",
    "    \n",
    "    #drop missing value: only 1, compared to the 200000, can be ignored\n",
    "    uber=uber[uber.dropoff_longitude.isnull()!=True]  \n",
    "    uber['date']=pd.to_datetime(uber['pickup_datetime'].dt.date) #add yy-mm-dd time\n",
    "    uber['week']=uber['date'].dt.dayofweek+1 \n",
    "    uber=uber.sort_values('pickup_datetime').reset_index(drop=True) #sort\n",
    "    \n",
    "    uber=uber[uber['passenger_count']<7] #drop outlier: passenger_count=208, not possible, wrong data\n",
    "    #Remove trips that start and/or end outside the designated coordinate box \n",
    "    # (40.560445, -74.242330) and (40.908524, -73.717047)\n",
    "    uber=uber[(uber.pickup_longitude>=-74.242330) & (uber.pickup_longitude<=-73.717047) \\\n",
    "         & (uber.pickup_latitude >=40.560445 ) & (uber.pickup_latitude <= 40.908524)]\n",
    "    uber=uber[(uber.dropoff_longitude>=-74.242330) & (uber.dropoff_longitude<=-73.717047) \\\n",
    "         & (uber.dropoff_latitude >=40.560445 ) & (uber.dropoff_latitude <= 40.908524)]\n",
    "    uber=uber.reset_index(drop=True)\n",
    "    return uber"
   ]
  },
  {
   "cell_type": "code",
   "execution_count": 6,
   "id": "f836f118",
   "metadata": {},
   "outputs": [],
   "source": [
    "def get_uber_data():\n",
    "    uber_dataframe = load_and_clean_uber_data(uber)\n",
    "    uber_dataframe = calculate_and_add_distance(uber_dataframe,uber_dataframe.count()[0])\n",
    "    return uber_dataframe"
   ]
  },
  {
   "cell_type": "code",
   "execution_count": 7,
   "id": "56f703f2",
   "metadata": {},
   "outputs": [],
   "source": [
    "uber_data=get_uber_data()\n",
    "uber_data.to_csv('uber.csv')"
   ]
  },
  {
   "cell_type": "markdown",
   "id": "45a15cbb",
   "metadata": {},
   "source": [
    "### Processing Weather Data\n",
    "\n",
    "1. Load data\n",
    "2. Separate daily data and hourly data with necessary columns, drop other columns\n",
    "3. Clean data \n",
    "* Data type: 1. date: string to datetime; 2. precipitation: string to float (use 0 to replace T, which means slightly precipitation)\n",
    "* Grouping: use groupby function to generate the suitable frequency like day and hour.\n",
    "* Deal with wrong data: 1.Drop some wrong data of precipitation like 1.2s. 2. Use the average peak wind speed of one day before and after the wrong data to replace the 2237 miles / h speed.\n",
    "4. Fill NA:\n",
    "- For daily data, has 1 and 4 NA for average wind speed and peak wind speed respectively. Use the avearage value of one day before and after the missing date to fill.\n",
    "- For hourly data: use the daily data to fill the missing values. Use daily precipitation divided 24 to estimate missing hourly precipitation 2. use average of windows to fill the missing value"
   ]
  },
  {
   "cell_type": "code",
   "execution_count": 8,
   "id": "c3d73d5d",
   "metadata": {},
   "outputs": [],
   "source": [
    "weather09=pd.read_csv('2009_weather.csv',low_memory=False)\n",
    "weather10=pd.read_csv('2010_weather.csv',low_memory=False)\n",
    "weather11=pd.read_csv('2011_weather.csv',low_memory=False)\n",
    "weather12=pd.read_csv('2012_weather.csv',low_memory=False)\n",
    "weather13=pd.read_csv('2013_weather.csv',low_memory=False)\n",
    "weather14=pd.read_csv('2014_weather.csv',low_memory=False)\n",
    "weather15=pd.read_csv('2015_weather.csv',low_memory=False)"
   ]
  },
  {
   "cell_type": "code",
   "execution_count": 9,
   "id": "c95d1758",
   "metadata": {},
   "outputs": [],
   "source": [
    "from datetime import datetime\n",
    "def clean_weather_data_daily(dataframe):\n",
    "    #add related daily columns\n",
    "    df=pd.merge(dataframe['DATE'],dataframe['DailyPrecipitation'],left_index=True,right_index=True)\n",
    "    df1=pd.merge(dataframe['DailyAverageWindSpeed'],dataframe['DailyPeakWindSpeed'],left_index=True,right_index=True)\n",
    "    df2=pd.merge(df,df1,left_index=True,right_index=True)\n",
    "    \n",
    "    df2=df2.rename(columns=str.lower) #column name: lower letter\n",
    "    df2['date']=pd.to_datetime(df2.date) #datetime type\n",
    "    df2['date']=df2['date'].dt.date #to yy-mm-dd format\n",
    "    df2['date']=pd.to_datetime(df2.date) #datetime type\n",
    "    \n",
    "    res=pd.DataFrame(df2.groupby('date')['dailyaveragewindspeed'].mean()) #groupby date to form daily data\n",
    "    res['dailypeakwindspeed']=pd.DataFrame(df2.groupby('date')['dailypeakwindspeed'].mean())\n",
    "    res['dailyprecipitation']=pd.DataFrame(df2.groupby('date')['dailyprecipitation'].last()) #not important for later\n",
    "    return res"
   ]
  },
  {
   "cell_type": "code",
   "execution_count": 10,
   "id": "76e864ab",
   "metadata": {},
   "outputs": [],
   "source": [
    "def clean_weather_data_hourly(dataframe):\n",
    "    #add columns related to hourly data\n",
    "    df=pd.merge(dataframe['DATE'],dataframe['DailySustainedWindSpeed'],left_index=True,right_index=True)\n",
    "    df1=pd.merge(dataframe['DailyPrecipitation'],dataframe['HourlyPrecipitation'],left_index=True,right_index=True)\n",
    "    df2=pd.merge(df,df1,left_index=True,right_index=True)\n",
    "    \n",
    "    df2.loc[df2['HourlyPrecipitation']=='T','HourlyPrecipitation']=0 #T to 0\n",
    "    df2=df2.drop(df2[df2['HourlyPrecipitation'].str.contains(pat='s')==True].index) #data including 1.2s \n",
    "    df2['HourlyPrecipitation']=df2['HourlyPrecipitation'].astype(float) #to float \n",
    "    df2.loc[df2['DailyPrecipitation']=='T','DailyPrecipitation']=0 \n",
    "    df2['DailyPrecipitation']=pd.to_numeric(df2['DailyPrecipitation'],errors='coerce')\n",
    "    df2=df2.rename(columns=str.lower)\n",
    "    df2['date']=pd.to_datetime(df2.date)\n",
    "    return df2"
   ]
  },
  {
   "cell_type": "code",
   "execution_count": 11,
   "id": "3ef8945d",
   "metadata": {},
   "outputs": [],
   "source": [
    "def load_and_clean_weather_data():\n",
    "    hourly_dataframes = []\n",
    "    weather_csv_files = [weather09,weather10,weather11,weather12,weather13,weather14,weather15]\n",
    "    \n",
    "    for csv_file in weather_csv_files:\n",
    "        hourly_dataframe = clean_weather_data_hourly(csv_file)  \n",
    "        hourly_dataframes.append(hourly_dataframe)\n",
    "    #daily data cleaning\n",
    "    daily14 = clean_weather_data_daily(weather14)\n",
    "    \n",
    "    #fill dailyaveragewindspeed NA: 1 NA\n",
    "    # Only 1 NA: '2014-01-26' na dailyaveragewindspeed \n",
    "    # Use average of dailyaveragewindspeed of one day before and after it to replace\n",
    "    average=daily14[daily14.index>='2014-01-25'][:3]['dailyaveragewindspeed'].mean()\n",
    "    daily14.loc[daily14.index=='2014-01-26','dailyaveragewindspeed']=average\n",
    "    \n",
    "    #fill dailypeakwindspeed NA: 4 NA\n",
    "    # 2014-05-08: Use average of dailypeakwindspeed of one day before and after it to replace\n",
    "    average=daily14[daily14.index>='2014-05-07'][:3]['dailypeakwindspeed'].mean()\n",
    "    daily14.loc[daily14.index=='2014-05-08','dailypeakwindspeed']=average\n",
    "    # 2014-10-30: Use average of dailypeakwindspeed of one day before and after it to replace\n",
    "    average=daily14[daily14.index>='2014-10-29'][:3]['dailypeakwindspeed'].mean()\n",
    "    daily14.loc[daily14.index=='2014-10-30','dailypeakwindspeed']=average\n",
    "    # 2014-07-18 & 2014-07-19: Use average of dailypeakwindspeed of 2014-07-17 and 2014-07-20 to replace\n",
    "    average=daily14[daily14.index>='2014-07-17'][:4]['dailypeakwindspeed'].mean()\n",
    "    daily14.loc[daily14.index=='2014-07-18','dailypeakwindspeed']=average\n",
    "    daily14.loc[daily14.index=='2014-07-19','dailypeakwindspeed']=average\n",
    "\n",
    "    #replace dailypeakwindspeed wrong data\n",
    "    # On 2014-02-04, dailypeakwindspeed>2000, not possible\n",
    "    # Use the average of dailypeakwindspeed of one day before and after it to replace\n",
    "    before=daily14[daily14.index>='2014-02-03'][:1]['dailypeakwindspeed'][0]\n",
    "    after=daily14[daily14.index>='2014-02-03'][2:3]['dailypeakwindspeed'][0]\n",
    "    daily14.loc[daily14.dailypeakwindspeed>=80,'dailypeakwindspeed']=(before+after)/2\n",
    "    daily=daily14\n",
    "    del daily['dailyprecipitation']\n",
    "    \n",
    "    #hourly data cleaning\n",
    "    hour = pd.concat(hourly_dataframes)\n",
    "    hour['dateh']=hour['date'].dt.strftime('%Y-%m-%d %H')\n",
    "    hour=hour.groupby(['dateh']).agg({'date':'last','dailysustainedwindspeed':'mean','dailyprecipitation':'mean','hourlyprecipitation':'mean'})\n",
    "    \n",
    "    # hourly precipitation\n",
    "    # 1. Use daily precipitation /24 to estimate missing hourly precipitation\n",
    "    hour.loc[hour.hourlyprecipitation.isnull()==True,'hourlyprecipitation']=hour.loc[hour.hourlyprecipitation.isnull()==True,'dailyprecipitation']/24\n",
    "    # 2. use average of windows to fill the missing value\n",
    "    roll=pd.DataFrame(hour.hourlyprecipitation.rolling(window=24,min_periods=1).mean())\n",
    "    roll.columns=['hourlyprecipitation_roll']\n",
    "    hour=pd.merge(hour,roll,left_index=True,right_index=True)\n",
    "    hour.loc[((hour['hourlyprecipitation'].isnull()==True)  \\\n",
    "             & (hour['hourlyprecipitation_roll'].isnull()==False)),'hourlyprecipitation'] \\\n",
    "            = hour.loc[((hour['hourlyprecipitation'].isnull()==True)  \\\n",
    "             & (hour['hourlyprecipitation_roll'].isnull()==False)),'hourlyprecipitation_roll'] \n",
    "    # 3. the rest fill with 0\n",
    "    hour.loc[(hour['hourlyprecipitation'].isnull()==True),'hourlyprecipitation']=0\n",
    "    del hour['dailyprecipitation'],hour['hourlyprecipitation_roll']\n",
    "    #sustained wind speed\n",
    "    hour['ymd']=hour.date.dt.strftime('%Y-%m-%d')\n",
    "    new=pd.DataFrame(hour.groupby('ymd')['dailysustainedwindspeed'].mean())\n",
    "    new.columns=['sustainedwindspeed']\n",
    "    new=new.reset_index()\n",
    "    hour=pd.merge(hour,new,on='ymd')\n",
    "    del hour['dailysustainedwindspeed'],hour['ymd']\n",
    "    \n",
    "    hour=hour.reset_index(drop=True) #avoid repetitive index\n",
    "    daily=daily.reset_index() #index is date   \n",
    "    return hour, daily\n",
    "\n",
    "hour=load_and_clean_weather_data()[0]\n",
    "daily=load_and_clean_weather_data()[1]\n",
    "hour.to_csv('hour.csv')\n",
    "daily.to_csv('daily.csv')"
   ]
  },
  {
   "cell_type": "markdown",
   "id": "dd101f11",
   "metadata": {},
   "source": [
    "## Part 2: Storing Cleaned Data\n",
    "\n",
    "1. use SQLAlchemy, create a SQLite database to load in preprocessed datasets;\n",
    "2. create and populate 4 tables: one for sampled datasets of Yellow Taxi trips, one for Uber trips, one for hourly weather information, and one for daily weather information. \n",
    "3. create a schema.sql file that defines each table’s schema. "
   ]
  },
  {
   "cell_type": "code",
   "execution_count": 12,
   "id": "a15feef9",
   "metadata": {},
   "outputs": [],
   "source": [
    "taxi_data=pd.read_csv('taxi.csv').iloc[:,2:]\n",
    "del taxi_data['hour']"
   ]
  },
  {
   "cell_type": "code",
   "execution_count": 13,
   "id": "68669adf",
   "metadata": {},
   "outputs": [],
   "source": [
    "taxi_data['pickup_datetime']=pd.to_datetime(taxi_data['pickup_datetime'])\n",
    "taxi_data['dropoff_datetime']=pd.to_datetime(taxi_data['dropoff_datetime'])\n",
    "taxi_data=taxi_data.sort_values('pickup_datetime').reset_index(drop=True)"
   ]
  },
  {
   "cell_type": "code",
   "execution_count": 14,
   "id": "5a0ffe88",
   "metadata": {},
   "outputs": [],
   "source": [
    "engine = db.create_engine(DATABASE_URL)"
   ]
  },
  {
   "cell_type": "code",
   "execution_count": 15,
   "id": "f10cb6fb",
   "metadata": {},
   "outputs": [],
   "source": [
    "HOURLY_WEATHER_SCHEMA = \"\"\"\n",
    "CREATE TABLE IF NOT EXISTS hourly_weather (\n",
    "    id INTEGER PRIMARY KEY,\n",
    "    date TEXT,\n",
    "    hourlyprecipitation FLOAT,\n",
    "    sustainedwindspeed FLOAT\n",
    ");\n",
    "\"\"\"\n",
    "\n",
    "DAILY_WEATHER_SCHEMA = \"\"\"\n",
    "CREATE TABLE IF NOT EXISTS daily_weather (\n",
    "    id INTEGER PRIMARY KEY,\n",
    "    date TEXT,\n",
    "    dailyaveragewindspeed FLOAT,\n",
    "    dailypeakwindspeed FLOAT\n",
    ");\n",
    "\"\"\"\n",
    "\n",
    "TAXI_TRIPS_SCHEMA = \"\"\"\n",
    "CREATE TABLE IF NOT EXISTS taxi (\n",
    "    id INTEGER PRIMARY KEY,\n",
    "    month INTEGER,\n",
    "    pickup_datetime TEXT,\n",
    "    dropoff_datetime TEXT,\n",
    "    pickup_latitude FLOAT, \n",
    "    pickup_longitude FLOAT,\n",
    "    dropoff_latitude FLOAT,\n",
    "    dropoff_longitude FLOAT,\n",
    "    distance FLOAT,\n",
    "    tip FLOAT,\n",
    "    passenger_count INTEGER\n",
    ");\n",
    "\"\"\"\n",
    "\n",
    "UBER_TRIPS_SCHEMA = \"\"\"\n",
    "CREATE TABLE IF NOT EXISTS uber (\n",
    "    id INTEGER PRIMARY KEY,\n",
    "    fare_amount FLOAT,\n",
    "    pickup_datetime TEXT,\n",
    "    pickup_longitude FLOAT,\n",
    "    pickup_latitude FLOAT,  \n",
    "    dropoff_longitude FLOAT,\n",
    "    dropoff_latitude FLOAT,\n",
    "    passenger_count INTEGER,\n",
    "    date TEXT,\n",
    "    week INTEGER,\n",
    "    distance FLOAT\n",
    ");\n",
    "\"\"\"\n",
    " "
   ]
  },
  {
   "cell_type": "code",
   "execution_count": 16,
   "id": "5f41e54b",
   "metadata": {},
   "outputs": [],
   "source": [
    "# create that required schema.sql file\n",
    "with open(DATABASE_SCHEMA_FILE, \"w\") as f:\n",
    "    f.write(HOURLY_WEATHER_SCHEMA)\n",
    "    f.write(DAILY_WEATHER_SCHEMA)\n",
    "    f.write(TAXI_TRIPS_SCHEMA)\n",
    "    f.write(UBER_TRIPS_SCHEMA)"
   ]
  },
  {
   "cell_type": "code",
   "execution_count": 17,
   "id": "02eccdba",
   "metadata": {},
   "outputs": [],
   "source": [
    "# create the tables with the schema files\n",
    "with engine.connect() as connection:\n",
    "    connection.execute(HOURLY_WEATHER_SCHEMA)\n",
    "    connection.execute(DAILY_WEATHER_SCHEMA)\n",
    "    connection.execute(TAXI_TRIPS_SCHEMA)\n",
    "    connection.execute(UBER_TRIPS_SCHEMA)"
   ]
  },
  {
   "cell_type": "markdown",
   "id": "c122964f",
   "metadata": {},
   "source": [
    "### Add Data to Database\n",
    "\n",
    "1. define function to insert data from dataframe to SQL database\n",
    "2. use dictionary to store data and data name\n",
    "3. add data to database"
   ]
  },
  {
   "cell_type": "code",
   "execution_count": 18,
   "id": "0e68a363",
   "metadata": {},
   "outputs": [],
   "source": [
    "def write_dataframes_to_table(table_to_df_dict):\n",
    "    for k,v in map_table_name_to_dataframe.items():\n",
    "        v.to_sql(k,con=engine,if_exists='append',index_label='id')  "
   ]
  },
  {
   "cell_type": "code",
   "execution_count": 19,
   "id": "45d6c06c",
   "metadata": {},
   "outputs": [],
   "source": [
    "map_table_name_to_dataframe = {\n",
    "    \"taxi\": taxi_data,\n",
    "    \"uber\": uber_data,\n",
    "    \"hourly_weather\": hour,\n",
    "    \"daily_weather\": daily,\n",
    "}"
   ]
  },
  {
   "cell_type": "code",
   "execution_count": 20,
   "id": "74004f96",
   "metadata": {},
   "outputs": [],
   "source": [
    "write_dataframes_to_table(map_table_name_to_dataframe)"
   ]
  },
  {
   "cell_type": "markdown",
   "id": "8cb6e33e",
   "metadata": {},
   "source": [
    "## Part 3: Understanding the Data"
   ]
  },
  {
   "cell_type": "markdown",
   "id": "b4753fcd",
   "metadata": {},
   "source": [
    "_A checklist of requirements to keep you on track. Remove this whole cell before submitting the project. The order of these tasks aren't necessarily the order in which they need to be done. It's okay to do them in an order that makes sense to you._\n",
    "\n",
    "* [ ] For 01-2009 through 06-2015, what hour of the day was the most popular to take a yellow taxi? The result should have 24 bins.\n",
    "* [√] For the same time frame, what day of the week was the most popular to take an uber? The result should have 7 bins.\n",
    "* [√] What is the 95% percentile of distance traveled for all hired trips during July 2013?\n",
    "* [ ] What were the top 10 days with the highest number of hired rides for 2009, and what was the average distance for each day?\n",
    "* [√] Which 10 days in 2014 were the windiest, and how many hired trips were made on those days?\n",
    "* [ ] During Hurricane Sandy in NYC (Oct 29-30, 2012) and the week leading up to it, how many trips were taken each hour, and for each hour, how much precipitation did NYC receive and what was the sustained wind speed?"
   ]
  },
  {
   "cell_type": "code",
   "execution_count": 21,
   "id": "6a849e92",
   "metadata": {},
   "outputs": [],
   "source": [
    "def write_query_to_file(query, outfile):\n",
    "    with open(outfile, 'w') as file:\n",
    "        file.write(query)"
   ]
  },
  {
   "cell_type": "markdown",
   "id": "ee70a777",
   "metadata": {},
   "source": [
    "### Query N\n",
    "\n",
    "1. define a SQL query for each of the following questions - one query per question. \n",
    "2. Save each query as a .sql file, naming it something illustrative of what the query is for, e.g. top_10_hottest_days.sql."
   ]
  },
  {
   "cell_type": "markdown",
   "id": "91a24ae7",
   "metadata": {},
   "source": [
    "$Question \\ 2$\n",
    "\n",
    "$\\text{From 01-2009 to 06-2015, what day of the week was the most popular to take an uber? The result should have 7 bins.}$"
   ]
  },
  {
   "cell_type": "code",
   "execution_count": 22,
   "id": "c5275f3a",
   "metadata": {},
   "outputs": [],
   "source": [
    "QUERY_2 = \"\"\"\n",
    "SELECT week, COUNT(week) FROM (SELECT DISTINCT week,date FROM uber\n",
    "WHERE date BETWEEN \"2009-01-01\" AND \"2015-07-01\" )\n",
    "GROUP BY week\n",
    "ORDER BY COUNT(week) DESC\n",
    "\"\"\""
   ]
  },
  {
   "cell_type": "code",
   "execution_count": 23,
   "id": "c660b72d",
   "metadata": {},
   "outputs": [
    {
     "data": {
      "text/plain": [
       "[(7, 339), (6, 339), (5, 339), (4, 339), (2, 339), (1, 339), (3, 338)]"
      ]
     },
     "execution_count": 23,
     "metadata": {},
     "output_type": "execute_result"
    }
   ],
   "source": [
    "engine.execute(QUERY_2).fetchall()"
   ]
  },
  {
   "cell_type": "code",
   "execution_count": 24,
   "id": "a2ef04df",
   "metadata": {},
   "outputs": [],
   "source": [
    "write_query_to_file(QUERY_2, \"popular_day_of_week_uber.sql\")"
   ]
  },
  {
   "cell_type": "markdown",
   "id": "c480a072",
   "metadata": {},
   "source": [
    "$ Question \\ 3$\n",
    "\n",
    "$\\text{What is the 95% percentile of distance traveled for all hired trips during July 2013?}$"
   ]
  },
  {
   "cell_type": "code",
   "execution_count": 25,
   "id": "d98e991c",
   "metadata": {},
   "outputs": [],
   "source": [
    "QUERY_3=\"\"\"\n",
    "WITH two AS \n",
    "(SELECT pickup_datetime,distance FROM uber\n",
    "WHERE \"2013-06-30T00:00\"< pickup_datetime AND pickup_datetime < '2013-07-31T00:00:00'\n",
    "UNION ALL\n",
    "SELECT pickup_datetime,distance FROM taxi\n",
    "WHERE \"2013-06-30T00:00\"<pickup_datetime AND pickup_datetime < '2013-07-31T00:00:00')\n",
    "\n",
    "SELECT distance AS '95%distance'FROM two\n",
    "ORDER BY distance \n",
    "LIMIT 1\n",
    "OFFSET (SELECT COUNT(*)\n",
    "        FROM two) * 95 / 100 - 1 ;\n",
    "\"\"\""
   ]
  },
  {
   "cell_type": "code",
   "execution_count": 26,
   "id": "2961d60b",
   "metadata": {},
   "outputs": [
    {
     "data": {
      "text/plain": [
       "[(10.234680206341519,)]"
      ]
     },
     "execution_count": 26,
     "metadata": {},
     "output_type": "execute_result"
    }
   ],
   "source": [
    "engine.execute(QUERY_3).fetchall()"
   ]
  },
  {
   "cell_type": "code",
   "execution_count": 27,
   "id": "baad0b80",
   "metadata": {},
   "outputs": [],
   "source": [
    "write_query_to_file(QUERY_3, \"95%percentile_distance.sql\")"
   ]
  },
  {
   "cell_type": "markdown",
   "id": "82b89144",
   "metadata": {},
   "source": [
    "$Question \\ 5$\n",
    "\n",
    "$\\text{Which 10 days in 2014 were the windiest, and how many hired trips were made on those days?}$"
   ]
  },
  {
   "cell_type": "code",
   "execution_count": 28,
   "id": "99d06ac4",
   "metadata": {},
   "outputs": [],
   "source": [
    "#peak wind speed\n",
    "QUERY_5 = \"\"\"\n",
    "WITH ride AS\n",
    "(SELECT DATE(pickup_datetime) AS date, count(pickup_datetime) AS count from (SELECT pickup_datetime FROM uber\n",
    "WHERE \"2013-12-31T00:00\"< pickup_datetime AND pickup_datetime < '2014-12-31T00:00:00'\n",
    "UNION ALL\n",
    "SELECT pickup_datetime FROM taxi\n",
    "WHERE \"2013-12-31T00:00\"<pickup_datetime AND pickup_datetime < '2014-12-31T00:00:00')\n",
    "GROUP BY DATE(pickup_datetime))\n",
    "\n",
    "SELECT * FROM(SELECT DATE(daily_weather.date) AS date, daily_weather.dailyaveragewindspeed, \n",
    "daily_weather.dailypeakwindspeed, ride.count\n",
    "FROM daily_weather \n",
    "LEFT OUTER JOIN ride \n",
    "ON DATE(daily_weather.date)=DATE(ride.date)\n",
    "ORDER BY daily_weather.dailypeakwindspeed DESC\n",
    "LIMIT 10\n",
    ")\n",
    "\"\"\""
   ]
  },
  {
   "cell_type": "code",
   "execution_count": 29,
   "id": "9a0b9ceb",
   "metadata": {},
   "outputs": [
    {
     "data": {
      "text/plain": [
       "[('2014-03-13', 14.1, 40.0, 106),\n",
       " ('2014-12-07', 11.8, 40.0, 73),\n",
       " ('2014-02-13', 12.6, 39.0, 63),\n",
       " ('2014-02-27', 8.4, 39.0, 102),\n",
       " ('2014-01-07', 13.1, 38.0, 557),\n",
       " ('2014-02-14', 10.4, 38.0, 71),\n",
       " ('2014-03-26', 11.9, 38.0, 96),\n",
       " ('2014-04-05', 8.4, 36.0, 92),\n",
       " ('2014-04-23', 9.4, 36.0, 75),\n",
       " ('2014-11-02', 10.8, 36.0, 80)]"
      ]
     },
     "execution_count": 29,
     "metadata": {},
     "output_type": "execute_result"
    }
   ],
   "source": [
    "engine.execute(QUERY_5).fetchall()"
   ]
  },
  {
   "cell_type": "code",
   "execution_count": 30,
   "id": "b6cc2eaa",
   "metadata": {},
   "outputs": [],
   "source": [
    "#average wind speed\n",
    "QUERY_5 = \"\"\"\n",
    "WITH ride AS\n",
    "(SELECT DATE(pickup_datetime) AS date, count(pickup_datetime) AS count from (SELECT pickup_datetime FROM uber\n",
    "WHERE \"2013-12-31T00:00\"< pickup_datetime AND pickup_datetime < '2014-12-31T00:00:00'\n",
    "UNION ALL\n",
    "SELECT pickup_datetime FROM taxi\n",
    "WHERE \"2013-12-31T00:00\"<pickup_datetime AND pickup_datetime < '2014-12-31T00:00:00')\n",
    "GROUP BY DATE(pickup_datetime))\n",
    "\n",
    "SELECT * FROM(SELECT DATE(daily_weather.date) AS date, daily_weather.dailyaveragewindspeed, \n",
    "daily_weather.dailypeakwindspeed, ride.count\n",
    "FROM daily_weather \n",
    "LEFT OUTER JOIN ride \n",
    "ON DATE(daily_weather.date)=DATE(ride.date)\n",
    "ORDER BY daily_weather.dailyaveragewindspeed DESC\n",
    "LIMIT 10\n",
    ")\n",
    "\"\"\""
   ]
  },
  {
   "cell_type": "code",
   "execution_count": 31,
   "id": "72b2caf0",
   "metadata": {},
   "outputs": [
    {
     "data": {
      "text/plain": [
       "[('2014-03-13', 14.1, 40.0, 106),\n",
       " ('2014-01-07', 13.1, 38.0, 557),\n",
       " ('2014-02-13', 12.6, 39.0, 63),\n",
       " ('2014-01-02', 12.2, 28.0, 447),\n",
       " ('2014-03-26', 11.9, 38.0, 96),\n",
       " ('2014-12-07', 11.8, 40.0, 73),\n",
       " ('2014-12-08', 11.5, 29.0, 77),\n",
       " ('2014-03-29', 10.8, 35.0, 107),\n",
       " ('2014-11-02', 10.8, 36.0, 80),\n",
       " ('2014-01-03', 10.4, 29.0, 321)]"
      ]
     },
     "execution_count": 31,
     "metadata": {},
     "output_type": "execute_result"
    }
   ],
   "source": [
    "engine.execute(QUERY_5).fetchall()"
   ]
  },
  {
   "cell_type": "code",
   "execution_count": 32,
   "id": "4779542b",
   "metadata": {},
   "outputs": [],
   "source": [
    "write_query_to_file(QUERY_5, \"top10_windest_hiredtrips.sql\")"
   ]
  },
  {
   "cell_type": "markdown",
   "id": "a13ced42",
   "metadata": {},
   "source": [
    "## Part 4: Visualizing the Data\n",
    "\n",
    "_A checklist of requirements to keep you on track. Remove this whole cell before submitting the project. The order of these tasks aren't necessarily the order in which they need to be done. It's okay to do them in an order that makes sense to you._\n",
    "\n",
    "* [ ] Create an appropriate visualization for the first query/question in part 3\n",
    "* [√] Create a visualization that shows the average distance traveled per month (regardless of year - so group by each month). Include the 90% confidence interval around the mean in the visualization\n",
    "* [ ] Define three lat/long coordinate boxes around the three major New York airports: LGA, JFK, and EWR (you can use bboxfinder to help). Create a visualization that compares what day of the week was most popular for drop offs for each airport.\n",
    "* [√] Create a heatmap of all hired trips over a map of the area. Consider using KeplerGL or another library that helps generate geospatial visualizations.\n",
    "* [ ] Create a scatter plot that compares tip amount versus distance.\n",
    "* [√] Create another scatter plot that compares tip amount versus precipitation amount.\n",
    "\n",
    "_Be sure these cells are executed so that the visualizations are rendered when the notebook is submitted._"
   ]
  },
  {
   "cell_type": "markdown",
   "id": "6d9eef42",
   "metadata": {},
   "source": [
    "### Visualization 2\n",
    "$Question \\ 2$：\n",
    "Create a visualization that shows the average distance traveled per month (regardless of year - so group by each month). Include the 90% confidence interval around the mean in the visualization\n",
    "\n",
    "\n",
    "Use of the `matplotlib` to visualize and `norm` library to calculate the confidence level. "
   ]
  },
  {
   "cell_type": "markdown",
   "id": "04d09965",
   "metadata": {},
   "source": [
    "Confidence level:\n",
    "\n",
    "Since this data set is very big, so according to the law of large numbers, it approximately follows the normal distribution.\n",
    "\n",
    "$\\big[\\bar Y - z\\times \\frac{s}{\\sqrt{n}}, \\bar Y + z\\times \\frac{s}{\\sqrt{n}}\\big]$"
   ]
  },
  {
   "cell_type": "code",
   "execution_count": 33,
   "id": "bb1a3c05",
   "metadata": {},
   "outputs": [],
   "source": [
    "def get_data_for_visual_n(stmt):\n",
    "    df=pd.read_sql(stmt,engine.connect())\n",
    "    return df"
   ]
  },
  {
   "cell_type": "code",
   "execution_count": 34,
   "id": "435f2d86",
   "metadata": {},
   "outputs": [],
   "source": [
    "def plot_visual_confidence(dataframe):\n",
    "    fig, ax = plt.subplots(figsize=(6,3))\n",
    "    from scipy.stats import norm\n",
    "    z=norm.ppf(0.9)\n",
    "    x=pd.Series(dataframe.index)\n",
    "    y=dataframe['distance']\n",
    "    s=y.std()\n",
    "    n=dataframe.count()[0]\n",
    "    y_err=z*s/np.sqrt(n)\n",
    "    x_ticks = np.linspace(1, 12, 12)\n",
    "    plt.xticks(x_ticks)\n",
    "    plt.xlabel('Month')\n",
    "    plt.ylabel('Distance')\n",
    "    ax.plot(x,y)\n",
    "    ax.fill_between(x, y - y_err, y + y_err, alpha=0.2)\n",
    "    ax.set_title(\"Confidence level of distanace\")\n",
    "    plt.show()"
   ]
  },
  {
   "cell_type": "code",
   "execution_count": 35,
   "id": "c2504ade",
   "metadata": {},
   "outputs": [
    {
     "data": {
      "image/png": "[encoded data removed]",
      "text/plain": [
       "<Figure size 600x300 with 1 Axes>"
      ]
     },
     "metadata": {},
     "output_type": "display_data"
    }
   ],
   "source": [
    "stmt=\"\"\"\n",
    "        SELECT Date(pickup_datetime) AS date,distance FROM uber\n",
    "        UNION \n",
    "        SELECT Date(pickup_datetime) AS date,distance FROM taxi\n",
    "        \"\"\"\n",
    "df2 = get_data_for_visual_n(stmt)\n",
    "df2['date']=pd.to_datetime(df2['date'])\n",
    "df2['month']=pd.DatetimeIndex(df2['date']).month\n",
    "distance_mean=pd.DataFrame(df2.groupby(['month'])['distance'].mean())\n",
    "plot_visual_confidence(distance_mean)"
   ]
  },
  {
   "cell_type": "markdown",
   "id": "699334f2",
   "metadata": {},
   "source": [
    "### Visualization 4\n",
    "$Question \\ 4$：Create a heatmap of all hired trips over a map of the area\n",
    "\n",
    "Use keplergl library to get the heatmap of the location"
   ]
  },
  {
   "cell_type": "code",
   "execution_count": 36,
   "id": "e83ccbed",
   "metadata": {},
   "outputs": [],
   "source": [
    "stmt=\"\"\"\n",
    "        SELECT pickup_longitude, pickup_latitude, dropoff_longitude, dropoff_latitude \n",
    "        FROM uber\n",
    "        UNION\n",
    "        SELECT pickup_longitude, pickup_latitude, dropoff_longitude, dropoff_latitude \n",
    "        FROM taxi\n",
    "        \"\"\"\n",
    "df4 = get_data_for_visual_n(stmt)"
   ]
  },
  {
   "cell_type": "code",
   "execution_count": 37,
   "id": "76b5cb83",
   "metadata": {},
   "outputs": [
    {
     "name": "stdout",
     "output_type": "stream",
     "text": [
      "User Guide: https://docs.kepler.gl/docs/keplergl-jupyter\n"
     ]
    },
    {
     "data": {
      "application/vnd.jupyter.widget-view+json": {
       "model_id": "38343b4f76ff476ebae0e14d75841b1b",
       "version_major": 2,
       "version_minor": 0
      },
      "text/plain": [
       "KeplerGl(data={'New York City Taxi and Uber Trips': {'index': [0, 1, 2, 3, 4, 5, 6, 7, 8, 9, 10, 11, 12, 13, 1…"
      ]
     },
     "metadata": {},
     "output_type": "display_data"
    }
   ],
   "source": [
    "def plot_visual_heatmap(dataframe):\n",
    "    from keplergl import KeplerGl\n",
    "    map1=KeplerGl(height=500)\n",
    "    map1.add_data(data=dataframe,name='New York City Taxi and Uber Trips')\n",
    "    return map1\n",
    "plot_visual_heatmap(df4)"
   ]
  },
  {
   "cell_type": "markdown",
   "id": "9145270d",
   "metadata": {},
   "source": [
    "### Visualization 6\n",
    "$Question \\ 6$：Create another scatter plot that compares tip amount versus precipitation amount.\n",
    "\n",
    "Use the pandas to merge the tip amount and precipitation data and then use the matplot library to get the scatter plot."
   ]
  },
  {
   "cell_type": "code",
   "execution_count": 38,
   "id": "b545d18f",
   "metadata": {},
   "outputs": [],
   "source": [
    "stmt=\"\"\"\n",
    "SELECT strftime('%Y-%m-%d %H',pickup_datetime) AS dateh, pickup_datetime,tip\n",
    "FROM taxi\n",
    "\"\"\"\n",
    "stmt1=\"\"\"\n",
    "SELECT strftime('%Y-%m-%d %H',date) AS dateh, date, hourlyprecipitation \n",
    "FROM hourly_weather\n",
    "\"\"\"\n",
    "taxidf=get_data_for_visual_n(stmt)\n",
    "hourdf=get_data_for_visual_n(stmt1)\n",
    "df7=pd.merge(taxidf,hourdf,how='left')"
   ]
  },
  {
   "cell_type": "code",
   "execution_count": 39,
   "id": "a6b8a3a8",
   "metadata": {},
   "outputs": [
    {
     "data": {
      "image/png": "[encoded data removed]",
      "text/plain": [
       "<Figure size 600x300 with 1 Axes>"
      ]
     },
     "metadata": {},
     "output_type": "display_data"
    }
   ],
   "source": [
    "# use a more descriptive name for your function\n",
    "def plot_visual_6(dataframe):\n",
    "    plt.figure(figsize=(6,3))\n",
    "    plt.plot(dataframe['hourlyprecipitation'],dataframe['tip'],'o')\n",
    "    #plt.xlim(-0.01,0.5)\n",
    "    plt.show()\n",
    "plot_visual_6(df7)"
   ]
  }
 ],
 "metadata": {
  "kernelspec": {
   "display_name": "Python 3 (ipykernel)",
   "language": "python",
   "name": "python3"
  },
  "language_info": {
   "codemirror_mode": {
    "name": "ipython",
    "version": 3
   },
   "file_extension": ".py",
   "mimetype": "text/x-python",
   "name": "python",
   "nbconvert_exporter": "python",
   "pygments_lexer": "ipython3",
   "version": "3.9.13"
  }
 },
 "nbformat": 4,
 "nbformat_minor": 5
}
